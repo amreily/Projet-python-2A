{
 "cells": [
  {
   "cell_type": "markdown",
   "metadata": {},
   "source": [
    "# **Projet Python pour la Data Science**"
   ]
  },
  {
   "cell_type": "markdown",
   "metadata": {},
   "source": [
    "### **Modélisation des valeurs du CAC40 à partir des politiques de la BCE**"
   ]
  },
  {
   "cell_type": "markdown",
   "metadata": {},
   "source": [
    "Dans ce projet Python pour la Data Science, on cherche à produire un modèle de prédiction des valeurs du CAC40, en fonction des politiques de la Banque Centrale Européenne. \n",
    "\n",
    "Notre travail s'est décliné en plusieurs étapes : \n",
    "\n",
    "#1 : définir nos variables explicatives et les importer \n",
    "\n",
    "#2 : trouver le modèle pertinent pour expliquer l'influence des variables sur les valeurs du CAC40\n"
   ]
  },
  {
   "cell_type": "markdown",
   "metadata": {},
   "source": []
  },
  {
   "cell_type": "markdown",
   "metadata": {},
   "source": []
  },
  {
   "cell_type": "markdown",
   "metadata": {},
   "source": []
  },
  {
   "cell_type": "code",
   "execution_count": null,
   "metadata": {
    "vscode": {
     "languageId": "plaintext"
    }
   },
   "outputs": [],
   "source": [
    "#*Titre\n"
   ]
  }
 ],
 "metadata": {
  "language_info": {
   "name": "python"
  }
 },
 "nbformat": 4,
 "nbformat_minor": 2
}

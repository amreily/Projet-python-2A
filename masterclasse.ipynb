{
 "cells": [
  {
   "cell_type": "markdown",
   "metadata": {},
   "source": [
    "ok, on va faire du crack"
   ]
  },
  {
   "cell_type": "code",
   "execution_count": 24,
   "metadata": {},
   "outputs": [
    {
     "name": "stdout",
     "output_type": "stream",
     "text": [
      "Fichier en cours de fusion: 0_cac40_final.csv, colonnes: ['Date', 'cac40']\n",
      "Fichier en cours de fusion: 0_bce_final.csv, colonnes: ['Date', 'bce']\n",
      "Fichier en cours de fusion: 0_confiance_final.csv, colonnes: ['Date', 'confiance']\n",
      "Fichier en cours de fusion: 0_ipc_final.csv, colonnes: ['Date', 'ipc']\n",
      "Fichier en cours de fusion: 0_pib_final.csv, colonnes: ['Date', 'pib']\n",
      "Fichier en cours de fusion: 0_chomage_final.csv, colonnes: ['Date', 'chomage ']\n",
      "Fichiers fusionnés avec succès dans 'merged_final.csv'.\n",
      "Colonnes finales après fusion: ['Date', 'cac40', 'bce', 'confiance', 'ipc', 'pib', 'chomage ']\n"
     ]
    }
   ],
   "source": [
    "import pandas as pd\n",
    "\n",
    "# Créer un fichier CSV contenant tous les mois multiples de 3 depuis 2000\n",
    "start_date = \"2000-03\"\n",
    "end_date = \"2024-12\"\n",
    "date_range = pd.date_range(start=start_date, end=end_date, freq=\"3MS\")\n",
    "base_df = pd.DataFrame({\"Date\": date_range.strftime(\"%Y-%m\")})\n",
    "\n",
    "# Sauvegarder le fichier de base\n",
    "base_file = \"base_dates.csv\"\n",
    "base_df.to_csv(base_file, index=False)\n",
    "\n",
    "# Noms des fichiers CSV\n",
    "files = [\n",
    "    \"0_cac40_final.csv\",\n",
    "    \"0_bce_final.csv\",\n",
    "    \"0_confiance_final.csv\",\n",
    "    \"0_ipc_final.csv\",\n",
    "    \"0_pib_final.csv\",\n",
    "    \"0_chomage_final.csv\"\n",
    "]\n",
    "\n",
    "# Lire le fichier de base pour initialiser le DataFrame fusionné\n",
    "merged_df = pd.read_csv(base_file)\n",
    "\n",
    "# Boucle pour fusionner les fichiers restants\n",
    "for file in files:\n",
    "    temp_df = pd.read_csv(file)\n",
    "    temp_df.rename(columns={temp_df.columns[0]: 'Date'}, inplace=True)\n",
    "    print(f\"Fichier en cours de fusion: {file}, colonnes: {list(temp_df.columns)}\")\n",
    "    # Effectuer la jointure\n",
    "    merged_df = pd.merge(merged_df, temp_df, on='Date', how='outer', suffixes=('', f'_from_{file.split('_')[1]}'))\n",
    "\n",
    "# Forcer la conversion des dates pour éviter les erreurs\n",
    "merged_df['Date'] = pd.to_datetime(merged_df['Date'], errors='coerce', format=\"%Y-%m\")\n",
    "\n",
    "# Vérifier et retirer les dates non convertibles (NaT)\n",
    "merged_df = merged_df.dropna(subset=['Date'])\n",
    "\n",
    "# Trier par dates pour s'assurer que tout est en ordre chronologique\n",
    "merged_df.sort_values(by='Date', inplace=True)\n",
    "\n",
    "# Combiner les colonnes en double si elles existent\n",
    "for col in merged_df.columns:\n",
    "    if '_from_' in col:\n",
    "        base_col = col.split('_from_')[0]\n",
    "        if base_col in merged_df.columns:\n",
    "            merged_df[base_col] = merged_df[base_col].combine_first(merged_df[col])\n",
    "        merged_df.drop(columns=[col], inplace=True)\n",
    "\n",
    "# Sauvegarder le résultat dans un fichier CSV final\n",
    "merged_df.to_csv(\"merged_final.csv\", index=False)\n",
    "\n",
    "print(\"Fichiers fusionnés avec succès dans 'merged_final.csv'.\")\n",
    "\n",
    "# Vérification finale des colonnes fusionnées\n",
    "print(\"Colonnes finales après fusion:\", list(merged_df.columns))\n"
   ]
  },
  {
   "cell_type": "code",
   "execution_count": 29,
   "metadata": {},
   "outputs": [
    {
     "name": "stdout",
     "output_type": "stream",
     "text": [
      "                            OLS Regression Results                            \n",
      "==============================================================================\n",
      "Dep. Variable:                  cac40   R-squared:                       0.091\n",
      "Model:                            OLS   Adj. R-squared:                  0.042\n",
      "Method:                 Least Squares   F-statistic:                     1.867\n",
      "Date:                Sun, 29 Dec 2024   Prob (F-statistic):              0.108\n",
      "Time:                        20:38:07   Log-Likelihood:                -345.07\n",
      "No. Observations:                  99   AIC:                             702.1\n",
      "Df Residuals:                      93   BIC:                             717.7\n",
      "Df Model:                           5                                         \n",
      "Covariance Type:            nonrobust                                         \n",
      "==============================================================================\n",
      "                 coef    std err          t      P>|t|      [0.025      0.975]\n",
      "------------------------------------------------------------------------------\n",
      "const        -26.6954     28.295     -0.943      0.348     -82.883      29.493\n",
      "bce            0.1640      0.663      0.247      0.805      -1.152       1.480\n",
      "confiance     -0.0398      0.107     -0.372      0.711      -0.252       0.173\n",
      "ipc            0.1148      0.131      0.873      0.385      -0.146       0.376\n",
      "pib            0.3286      0.392      0.837      0.405      -0.451       1.108\n",
      "chomage        2.2301      1.190      1.873      0.064      -0.134       4.594\n",
      "==============================================================================\n",
      "Omnibus:                        6.109   Durbin-Watson:                   1.911\n",
      "Prob(Omnibus):                  0.047   Jarque-Bera (JB):                5.559\n",
      "Skew:                          -0.483   Prob(JB):                       0.0621\n",
      "Kurtosis:                       3.642   Cond. No.                     4.75e+03\n",
      "==============================================================================\n",
      "\n",
      "Notes:\n",
      "[1] Standard Errors assume that the covariance matrix of the errors is correctly specified.\n",
      "[2] The condition number is large, 4.75e+03. This might indicate that there are\n",
      "strong multicollinearity or other numerical problems.\n"
     ]
    }
   ],
   "source": [
    "import pandas as pd\n",
    "import statsmodels.api as sm\n",
    "\n",
    "# Charger les données à partir du fichier CSV\n",
    "data = pd.read_csv(\"merged_final.csv\")\n",
    "\n",
    "# Sélectionner les colonnes numériques pour la régression\n",
    "# Assurez-vous que 'cac40' est la variable dépendante et les autres sont indépendantes\n",
    "X = data.drop(columns=['Date', 'cac40',])  # Supprimer les colonnes non numériques ou inutiles\n",
    "y = data['cac40']\n",
    "\n",
    "# Ajouter une constante pour le modèle\n",
    "X = sm.add_constant(X)\n",
    "\n",
    "# Ajuster le modèle de régression linéaire multiple\n",
    "model = sm.OLS(y, X).fit()\n",
    "\n",
    "# Résumé des résultats\n",
    "print(model.summary())\n"
   ]
  },
  {
   "cell_type": "code",
   "execution_count": 30,
   "metadata": {},
   "outputs": [
    {
     "name": "stdout",
     "output_type": "stream",
     "text": [
      "                            OLS Regression Results                            \n",
      "==============================================================================\n",
      "Dep. Variable:                  cac40   R-squared:                       0.031\n",
      "Model:                            OLS   Adj. R-squared:                  0.021\n",
      "Method:                 Least Squares   F-statistic:                     3.105\n",
      "Date:                Sun, 29 Dec 2024   Prob (F-statistic):             0.0812\n",
      "Time:                        20:38:59   Log-Likelihood:                -348.24\n",
      "No. Observations:                  99   AIC:                             700.5\n",
      "Df Residuals:                      97   BIC:                             705.7\n",
      "Df Model:                           1                                         \n",
      "Covariance Type:            nonrobust                                         \n",
      "==============================================================================\n",
      "                 coef    std err          t      P>|t|      [0.025      0.975]\n",
      "------------------------------------------------------------------------------\n",
      "const          2.0709      1.210      1.712      0.090      -0.330       4.472\n",
      "bce           -0.7607      0.432     -1.762      0.081      -1.618       0.096\n",
      "==============================================================================\n",
      "Omnibus:                        8.169   Durbin-Watson:                   1.806\n",
      "Prob(Omnibus):                  0.017   Jarque-Bera (JB):                7.769\n",
      "Skew:                          -0.623   Prob(JB):                       0.0206\n",
      "Kurtosis:                       3.574   Cond. No.                         4.39\n",
      "==============================================================================\n",
      "\n",
      "Notes:\n",
      "[1] Standard Errors assume that the covariance matrix of the errors is correctly specified.\n"
     ]
    }
   ],
   "source": [
    "import pandas as pd\n",
    "import statsmodels.api as sm\n",
    "\n",
    "# Charger les données à partir du fichier CSV\n",
    "data = pd.read_csv(\"merged_final.csv\")\n",
    "\n",
    "# Sélectionner la variable indépendante 'bce' et la variable dépendante 'cac40'\n",
    "X = data[['pib']]  # Sélectionner uniquement la colonne 'bce'\n",
    "y = data['cac40']\n",
    "\n",
    "# Ajouter une constante pour le modèle\n",
    "X = sm.add_constant(X)\n",
    "\n",
    "# Ajuster le modèle de régression linéaire simple\n",
    "model = sm.OLS(y, X).fit()\n",
    "\n",
    "# Afficher le résumé des résultats\n",
    "print(model.summary())\n"
   ]
  }
 ],
 "metadata": {
  "kernelspec": {
   "display_name": "Python 3",
   "language": "python",
   "name": "python3"
  },
  "language_info": {
   "codemirror_mode": {
    "name": "ipython",
    "version": 3
   },
   "file_extension": ".py",
   "mimetype": "text/x-python",
   "name": "python",
   "nbconvert_exporter": "python",
   "pygments_lexer": "ipython3",
   "version": "3.12.4"
  }
 },
 "nbformat": 4,
 "nbformat_minor": 2
}

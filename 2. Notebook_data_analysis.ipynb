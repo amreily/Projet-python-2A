{
 "cells": [
  {
   "cell_type": "code",
   "execution_count": 5,
   "metadata": {},
   "outputs": [
    {
     "ename": "NameError",
     "evalue": "name 'cac40' is not defined",
     "output_type": "error",
     "traceback": [
      "\u001b[0;31m---------------------------------------------------------------------------\u001b[0m",
      "\u001b[0;31mNameError\u001b[0m                                 Traceback (most recent call last)",
      "Cell \u001b[0;32mIn[5], line 52\u001b[0m\n\u001b[1;32m     46\u001b[0m         \u001b[38;5;28mprint\u001b[39m(\u001b[38;5;124m\"\u001b[39m\u001b[38;5;124mLa variable cible n\u001b[39m\u001b[38;5;124m'\u001b[39m\u001b[38;5;124mest pas présente dans le DataFrame.\u001b[39m\u001b[38;5;124m\"\u001b[39m)\n\u001b[1;32m     48\u001b[0m \u001b[38;5;66;03m# Exemple d'utilisation de l'algorithme :\u001b[39;00m\n\u001b[1;32m     49\u001b[0m \u001b[38;5;66;03m# df = votre_data_frame  # Assurez-vous que df est défini avec vos données\u001b[39;00m\n\u001b[1;32m     50\u001b[0m \n\u001b[1;32m     51\u001b[0m \u001b[38;5;66;03m# On créée une liste de tables à fusionner\u001b[39;00m\n\u001b[0;32m---> 52\u001b[0m dfs \u001b[38;5;241m=\u001b[39m [\u001b[43mcac40\u001b[49m, chomage, confiance, ev_pib, ipc]\n\u001b[1;32m     54\u001b[0m \u001b[38;5;66;03m# On fusionne toutes les tables sur les trimestres\u001b[39;00m\n\u001b[1;32m     55\u001b[0m df \u001b[38;5;241m=\u001b[39m dfs[\u001b[38;5;241m0\u001b[39m]\n",
      "\u001b[0;31mNameError\u001b[0m: name 'cac40' is not defined"
     ]
    }
   ],
   "source": [
    "import pandas as pd\n",
    "import numpy as np\n",
    "import matplotlib.pyplot as plt\n",
    "import seaborn as sns\n",
    "\n",
    "def generate_descriptive_stats(df):\n",
    "    # 1. Afficher les statistiques descriptives globales\n",
    "    print(\"Statistiques descriptives globales:\")\n",
    "    print(df.describe())  # Pour toutes les variables numériques\n",
    "    print(\"\\n\")\n",
    "\n",
    "    # 2. Vérifier les valeurs manquantes\n",
    "    print(\"Valeurs manquantes dans chaque colonne:\")\n",
    "    print(df.isnull().sum())\n",
    "    print(\"\\n\")\n",
    "\n",
    "    # 3. Visualiser les distributions des variables (histogrammes)\n",
    "    num_cols = df.select_dtypes(include=[np.number]).columns.tolist()\n",
    "    for col in num_cols:\n",
    "        plt.figure(figsize=(6, 4))\n",
    "        sns.histplot(df[col], kde=True, bins=30)\n",
    "        plt.title(f'Distribution de {col}')\n",
    "        plt.xlabel(col)\n",
    "        plt.ylabel('Fréquence')\n",
    "        plt.show()\n",
    "\n",
    "    # 4. Vérifier les corrélations entre les variables\n",
    "    print(\"Corrélations entre les variables numériques:\")\n",
    "    corr = df.corr()\n",
    "    print(corr)\n",
    "    \n",
    "    # Afficher la heatmap de la matrice de corrélation\n",
    "    plt.figure(figsize=(8, 6))\n",
    "    sns.heatmap(corr, annot=True, cmap='coolwarm', fmt='.2f', linewidths=0.5)\n",
    "    plt.title('Matrice de corrélation')\n",
    "    plt.show()\n",
    "\n",
    "    # 5. Visualiser les relations entre les variables (scatter plots)\n",
    "    # Exemple pour la régression : voir la relation entre une variable cible (par ex. 'y') et les variables explicatives\n",
    "    target = 'y'  # Remplacez par le nom de votre variable cible\n",
    "    if target in df.columns:\n",
    "        plt.figure(figsize=(8, 6))\n",
    "        sns.pairplot(df, vars=[target] + num_cols, hue=target, diag_kind=\"kde\")\n",
    "        plt.show()\n",
    "    else:\n",
    "        print(\"La variable cible n'est pas présente dans le DataFrame.\")\n",
    "        \n",
    "# Exemple d'utilisation de l'algorithme :\n",
    "# df = votre_data_frame  # Assurez-vous que df est défini avec vos données\n",
    "\n",
    "# On créée une liste de tables à fusionner\n",
    "dfs = [cac40, chomage, confiance, ev_pib, ipc]\n",
    "\n",
    "# On fusionne toutes les tables sur les trimestres\n",
    "df = dfs[0]\n",
    "for data in dfs[1:]:\n",
    "    df = df.merge(data, on=\"trimestre\", how=\"outer\")  \n",
    "\n",
    "# Affichage du dataframe mergé \n",
    "print(df)\n",
    "\n",
    "\n",
    "generate_descriptive_stats(df)"
   ]
  }
 ],
 "metadata": {
  "kernelspec": {
   "display_name": "base",
   "language": "python",
   "name": "python3"
  },
  "language_info": {
   "codemirror_mode": {
    "name": "ipython",
    "version": 3
   },
   "file_extension": ".py",
   "mimetype": "text/x-python",
   "name": "python",
   "nbconvert_exporter": "python",
   "pygments_lexer": "ipython3",
   "version": "3.12.7"
  }
 },
 "nbformat": 4,
 "nbformat_minor": 2
}

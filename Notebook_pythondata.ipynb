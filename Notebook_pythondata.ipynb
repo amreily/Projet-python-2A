{
 "cells": [
  {
   "cell_type": "markdown",
   "id": "b4fbca64-d515-4f7f-b332-bceb5a5465ee",
   "metadata": {},
   "source": [
    "Effets des variables macroéconomiques sur le CAC 40"
   ]
  },
  {
   "cell_type": "code",
   "execution_count": 358,
   "id": "a6196c97-23a2-49c3-ba62-6c8c1e260a80",
   "metadata": {},
   "outputs": [
    {
     "name": "stdout",
     "output_type": "stream",
     "text": [
      "Requirement already satisfied: openpyxl in /opt/conda/lib/python3.12/site-packages (3.1.5)\n",
      "Requirement already satisfied: et-xmlfile in /opt/conda/lib/python3.12/site-packages (from openpyxl) (2.0.0)\n"
     ]
    }
   ],
   "source": [
    "import pandas as pd\n",
    "import numpy as np\n",
    "from datetime import datetime\n",
    "!pip install openpyxl"
   ]
  },
  {
   "cell_type": "markdown",
   "id": "6dc2b047-77d2-4c24-91df-7a0d660dd66f",
   "metadata": {},
   "source": [
    "Chargement des fichiers Excel qui forment la base de donnée"
   ]
  },
  {
   "cell_type": "code",
   "execution_count": 359,
   "id": "6ac3e61f-9839-42dc-a723-06689d1d1423",
   "metadata": {},
   "outputs": [
    {
     "name": "stderr",
     "output_type": "stream",
     "text": [
      "/opt/conda/lib/python3.12/site-packages/openpyxl/styles/stylesheet.py:237: UserWarning: Workbook contains no default style, apply openpyxl's default\n",
      "  warn(\"Workbook contains no default style, apply openpyxl's default\")\n"
     ]
    }
   ],
   "source": [
    "chomage = pd.read_excel('Chômage_depuis1975.xlsx')\n",
    "confiance = pd.read_excel('Confiance_ménages.xlsx')\n",
    "ev_pib = pd.read_excel('Evolution_PIB_trimestre.xlsx')\n",
    "ipc = pd.read_excel('ipc_menages.xlsx')"
   ]
  },
  {
   "cell_type": "markdown",
   "id": "fae4d61d-be19-4321-ace9-39e27c8dbd70",
   "metadata": {},
   "source": [
    "Nettoyage des données"
   ]
  },
  {
   "cell_type": "code",
   "execution_count": 360,
   "id": "070cb4ef-d4b3-46b0-acaa-3e199a7553ee",
   "metadata": {},
   "outputs": [
    {
     "data": {
      "text/html": [
       "<div>\n",
       "<style scoped>\n",
       "    .dataframe tbody tr th:only-of-type {\n",
       "        vertical-align: middle;\n",
       "    }\n",
       "\n",
       "    .dataframe tbody tr th {\n",
       "        vertical-align: top;\n",
       "    }\n",
       "\n",
       "    .dataframe thead th {\n",
       "        text-align: right;\n",
       "    }\n",
       "</style>\n",
       "<table border=\"1\" class=\"dataframe\">\n",
       "  <thead>\n",
       "    <tr style=\"text-align: right;\">\n",
       "      <th></th>\n",
       "      <th>Tableau 1. Taux de chômage trimestriel au sens du BIT en France (hors Mayotte) par sexe et âge</th>\n",
       "      <th>Unnamed: 1</th>\n",
       "      <th>Unnamed: 2</th>\n",
       "      <th>Unnamed: 3</th>\n",
       "      <th>Unnamed: 4</th>\n",
       "      <th>Unnamed: 5</th>\n",
       "      <th>Unnamed: 6</th>\n",
       "      <th>Unnamed: 7</th>\n",
       "      <th>Unnamed: 8</th>\n",
       "      <th>Unnamed: 9</th>\n",
       "      <th>Unnamed: 10</th>\n",
       "      <th>Unnamed: 11</th>\n",
       "      <th>Unnamed: 12</th>\n",
       "      <th>Unnamed: 13</th>\n",
       "    </tr>\n",
       "  </thead>\n",
       "  <tbody>\n",
       "    <tr>\n",
       "      <th>0</th>\n",
       "      <td>Données CVS en moyenne trimestrielle, en %</td>\n",
       "      <td>NaN</td>\n",
       "      <td>NaN</td>\n",
       "      <td>NaN</td>\n",
       "      <td>NaN</td>\n",
       "      <td>NaN</td>\n",
       "      <td>NaN</td>\n",
       "      <td>NaN</td>\n",
       "      <td>NaN</td>\n",
       "      <td>NaN</td>\n",
       "      <td>NaN</td>\n",
       "      <td>NaN</td>\n",
       "      <td>NaN</td>\n",
       "      <td>NaN</td>\n",
       "    </tr>\n",
       "    <tr>\n",
       "      <th>1</th>\n",
       "      <td>NaN</td>\n",
       "      <td>NaN</td>\n",
       "      <td>NaN</td>\n",
       "      <td>NaN</td>\n",
       "      <td>NaN</td>\n",
       "      <td>NaN</td>\n",
       "      <td>NaN</td>\n",
       "      <td>NaN</td>\n",
       "      <td>NaN</td>\n",
       "      <td>NaN</td>\n",
       "      <td>NaN</td>\n",
       "      <td>NaN</td>\n",
       "      <td>NaN</td>\n",
       "      <td>NaN</td>\n",
       "    </tr>\n",
       "    <tr>\n",
       "      <th>2</th>\n",
       "      <td>En jaune : Les séries ont été constituées à pa...</td>\n",
       "      <td>NaN</td>\n",
       "      <td>NaN</td>\n",
       "      <td>NaN</td>\n",
       "      <td>NaN</td>\n",
       "      <td>NaN</td>\n",
       "      <td>NaN</td>\n",
       "      <td>NaN</td>\n",
       "      <td>NaN</td>\n",
       "      <td>NaN</td>\n",
       "      <td>NaN</td>\n",
       "      <td>NaN</td>\n",
       "      <td>NaN</td>\n",
       "      <td>NaN</td>\n",
       "    </tr>\n",
       "    <tr>\n",
       "      <th>3</th>\n",
       "      <td>NaN</td>\n",
       "      <td>HOMMES (%)</td>\n",
       "      <td>NaN</td>\n",
       "      <td>NaN</td>\n",
       "      <td>NaN</td>\n",
       "      <td>FEMMES (%)</td>\n",
       "      <td>NaN</td>\n",
       "      <td>NaN</td>\n",
       "      <td>NaN</td>\n",
       "      <td>TOTAL (%)</td>\n",
       "      <td>NaN</td>\n",
       "      <td>NaN</td>\n",
       "      <td>NaN</td>\n",
       "      <td>Nombre de chômeurs</td>\n",
       "    </tr>\n",
       "    <tr>\n",
       "      <th>4</th>\n",
       "      <td>trimestre.année</td>\n",
       "      <td>Âge</td>\n",
       "      <td>NaN</td>\n",
       "      <td>NaN</td>\n",
       "      <td>Total</td>\n",
       "      <td>Âge</td>\n",
       "      <td>NaN</td>\n",
       "      <td>NaN</td>\n",
       "      <td>Total</td>\n",
       "      <td>Âge</td>\n",
       "      <td>NaN</td>\n",
       "      <td>NaN</td>\n",
       "      <td>Total</td>\n",
       "      <td>NaN</td>\n",
       "    </tr>\n",
       "  </tbody>\n",
       "</table>\n",
       "</div>"
      ],
      "text/plain": [
       "  Tableau 1. Taux de chômage trimestriel au sens du BIT en France (hors Mayotte) par sexe et âge  \\\n",
       "0         Données CVS en moyenne trimestrielle, en %                                               \n",
       "1                                                NaN                                               \n",
       "2  En jaune : Les séries ont été constituées à pa...                                               \n",
       "3                                                NaN                                               \n",
       "4                                    trimestre.année                                               \n",
       "\n",
       "   Unnamed: 1 Unnamed: 2 Unnamed: 3 Unnamed: 4  Unnamed: 5 Unnamed: 6  \\\n",
       "0         NaN        NaN        NaN        NaN         NaN        NaN   \n",
       "1         NaN        NaN        NaN        NaN         NaN        NaN   \n",
       "2         NaN        NaN        NaN        NaN         NaN        NaN   \n",
       "3  HOMMES (%)        NaN        NaN        NaN  FEMMES (%)        NaN   \n",
       "4         Âge        NaN        NaN      Total         Âge        NaN   \n",
       "\n",
       "  Unnamed: 7 Unnamed: 8 Unnamed: 9 Unnamed: 10 Unnamed: 11 Unnamed: 12  \\\n",
       "0        NaN        NaN        NaN         NaN         NaN         NaN   \n",
       "1        NaN        NaN        NaN         NaN         NaN         NaN   \n",
       "2        NaN        NaN        NaN         NaN         NaN         NaN   \n",
       "3        NaN        NaN  TOTAL (%)         NaN         NaN         NaN   \n",
       "4        NaN      Total        Âge         NaN         NaN       Total   \n",
       "\n",
       "          Unnamed: 13  \n",
       "0                 NaN  \n",
       "1                 NaN  \n",
       "2                 NaN  \n",
       "3  Nombre de chômeurs  \n",
       "4                 NaN  "
      ]
     },
     "execution_count": 360,
     "metadata": {},
     "output_type": "execute_result"
    }
   ],
   "source": [
    "chomage.head()"
   ]
  },
  {
   "cell_type": "code",
   "execution_count": 361,
   "id": "ce05b85d-7a6f-466b-9a4f-d5729328d982",
   "metadata": {},
   "outputs": [],
   "source": [
    "# Renommer les colonnes à utiliser\n",
    "chomage.rename(columns={'Unnamed: 12': 'taux_chomage'}, inplace=True)\n",
    "chomage.rename(columns={'Tableau 1. Taux de chômage trimestriel au sens du BIT en France (hors Mayotte) par sexe et âge': 'trimestre'}, inplace=True) "
   ]
  },
  {
   "cell_type": "code",
   "execution_count": 362,
   "id": "ff7f037d-0180-4e92-8161-a809377bcd5a",
   "metadata": {},
   "outputs": [
    {
     "name": "stdout",
     "output_type": "stream",
     "text": [
      "Index(['trimestre', 'Unnamed: 1', 'Unnamed: 2', 'Unnamed: 3', 'Unnamed: 4',\n",
      "       'Unnamed: 5', 'Unnamed: 6', 'Unnamed: 7', 'Unnamed: 8', 'Unnamed: 9',\n",
      "       'Unnamed: 10', 'Unnamed: 11', 'taux_chomage', 'Unnamed: 13'],\n",
      "      dtype='object')\n"
     ]
    }
   ],
   "source": [
    "print(chomage.columns)"
   ]
  },
  {
   "cell_type": "code",
   "execution_count": 363,
   "id": "20d71c63-42c7-4cb3-83b7-1251b4460dff",
   "metadata": {},
   "outputs": [
    {
     "data": {
      "text/html": [
       "<div>\n",
       "<style scoped>\n",
       "    .dataframe tbody tr th:only-of-type {\n",
       "        vertical-align: middle;\n",
       "    }\n",
       "\n",
       "    .dataframe tbody tr th {\n",
       "        vertical-align: top;\n",
       "    }\n",
       "\n",
       "    .dataframe thead th {\n",
       "        text-align: right;\n",
       "    }\n",
       "</style>\n",
       "<table border=\"1\" class=\"dataframe\">\n",
       "  <thead>\n",
       "    <tr style=\"text-align: right;\">\n",
       "      <th></th>\n",
       "      <th>trimestre</th>\n",
       "      <th>taux_chomage</th>\n",
       "    </tr>\n",
       "  </thead>\n",
       "  <tbody>\n",
       "    <tr>\n",
       "      <th>0</th>\n",
       "      <td>Données CVS en moyenne trimestrielle, en %</td>\n",
       "      <td>NaN</td>\n",
       "    </tr>\n",
       "    <tr>\n",
       "      <th>1</th>\n",
       "      <td>NaN</td>\n",
       "      <td>NaN</td>\n",
       "    </tr>\n",
       "    <tr>\n",
       "      <th>2</th>\n",
       "      <td>En jaune : Les séries ont été constituées à pa...</td>\n",
       "      <td>NaN</td>\n",
       "    </tr>\n",
       "    <tr>\n",
       "      <th>3</th>\n",
       "      <td>NaN</td>\n",
       "      <td>NaN</td>\n",
       "    </tr>\n",
       "    <tr>\n",
       "      <th>4</th>\n",
       "      <td>trimestre.année</td>\n",
       "      <td>Total</td>\n",
       "    </tr>\n",
       "    <tr>\n",
       "      <th>...</th>\n",
       "      <td>...</td>\n",
       "      <td>...</td>\n",
       "    </tr>\n",
       "    <tr>\n",
       "      <th>203</th>\n",
       "      <td>T2.2024</td>\n",
       "      <td>7.3</td>\n",
       "    </tr>\n",
       "    <tr>\n",
       "      <th>204</th>\n",
       "      <td>T3.2024</td>\n",
       "      <td>7.4</td>\n",
       "    </tr>\n",
       "    <tr>\n",
       "      <th>205</th>\n",
       "      <td>NaN</td>\n",
       "      <td>NaN</td>\n",
       "    </tr>\n",
       "    <tr>\n",
       "      <th>206</th>\n",
       "      <td>Champ : France hors Mayotte, personnes vivant ...</td>\n",
       "      <td>NaN</td>\n",
       "    </tr>\n",
       "    <tr>\n",
       "      <th>207</th>\n",
       "      <td>Source : Insee, enquête Emploi</td>\n",
       "      <td>NaN</td>\n",
       "    </tr>\n",
       "  </tbody>\n",
       "</table>\n",
       "<p>208 rows × 2 columns</p>\n",
       "</div>"
      ],
      "text/plain": [
       "                                             trimestre taux_chomage\n",
       "0           Données CVS en moyenne trimestrielle, en %          NaN\n",
       "1                                                  NaN          NaN\n",
       "2    En jaune : Les séries ont été constituées à pa...          NaN\n",
       "3                                                  NaN          NaN\n",
       "4                                      trimestre.année        Total\n",
       "..                                                 ...          ...\n",
       "203                                            T2.2024          7.3\n",
       "204                                            T3.2024          7.4\n",
       "205                                                NaN          NaN\n",
       "206  Champ : France hors Mayotte, personnes vivant ...          NaN\n",
       "207                     Source : Insee, enquête Emploi          NaN\n",
       "\n",
       "[208 rows x 2 columns]"
      ]
     },
     "execution_count": 363,
     "metadata": {},
     "output_type": "execute_result"
    }
   ],
   "source": [
    "# Supprimer les colonnes inutiles\n",
    "chomage.drop(columns=[ 'Unnamed: 1', 'Unnamed: 2', 'Unnamed: 3', 'Unnamed: 4', \n",
    "    'Unnamed: 5', 'Unnamed: 6', 'Unnamed: 7', 'Unnamed: 8', \n",
    "    'Unnamed: 9', 'Unnamed: 10', 'Unnamed: 11', 'Unnamed: 13'], inplace=True)\n",
    "\n",
    "# Afficher la table après suppression\n",
    "chomage"
   ]
  },
  {
   "cell_type": "code",
   "execution_count": 364,
   "id": "ec1f31d7-db83-407c-b6b3-84c1615a6be5",
   "metadata": {},
   "outputs": [
    {
     "name": "stdout",
     "output_type": "stream",
     "text": [
      "Index([106], dtype='int64')\n"
     ]
    }
   ],
   "source": [
    "# Trouver l'index de la valeur 'T1.2000' dans la colonne 'trimestre'\n",
    "index_t1_2000 = chomage[chomage['trimestre'] == 'T1.2000'].index\n",
    "\n",
    "# Afficher l'index\n",
    "print(index_t1_2000)\n"
   ]
  },
  {
   "cell_type": "code",
   "execution_count": 365,
   "id": "1b16a3ec-90eb-4c96-8c4c-7dca0721a277",
   "metadata": {},
   "outputs": [
    {
     "data": {
      "text/html": [
       "<div>\n",
       "<style scoped>\n",
       "    .dataframe tbody tr th:only-of-type {\n",
       "        vertical-align: middle;\n",
       "    }\n",
       "\n",
       "    .dataframe tbody tr th {\n",
       "        vertical-align: top;\n",
       "    }\n",
       "\n",
       "    .dataframe thead th {\n",
       "        text-align: right;\n",
       "    }\n",
       "</style>\n",
       "<table border=\"1\" class=\"dataframe\">\n",
       "  <thead>\n",
       "    <tr style=\"text-align: right;\">\n",
       "      <th></th>\n",
       "      <th>trimestre</th>\n",
       "      <th>taux_chomage</th>\n",
       "    </tr>\n",
       "  </thead>\n",
       "  <tbody>\n",
       "    <tr>\n",
       "      <th>0</th>\n",
       "      <td>T4.1999</td>\n",
       "      <td>9.5</td>\n",
       "    </tr>\n",
       "    <tr>\n",
       "      <th>1</th>\n",
       "      <td>T1.2000</td>\n",
       "      <td>9.1</td>\n",
       "    </tr>\n",
       "    <tr>\n",
       "      <th>2</th>\n",
       "      <td>T2.2000</td>\n",
       "      <td>8.7</td>\n",
       "    </tr>\n",
       "    <tr>\n",
       "      <th>3</th>\n",
       "      <td>T3.2000</td>\n",
       "      <td>8.4</td>\n",
       "    </tr>\n",
       "    <tr>\n",
       "      <th>4</th>\n",
       "      <td>T4.2000</td>\n",
       "      <td>8</td>\n",
       "    </tr>\n",
       "  </tbody>\n",
       "</table>\n",
       "</div>"
      ],
      "text/plain": [
       "  trimestre taux_chomage\n",
       "0   T4.1999          9.5\n",
       "1   T1.2000          9.1\n",
       "2   T2.2000          8.7\n",
       "3   T3.2000          8.4\n",
       "4   T4.2000            8"
      ]
     },
     "execution_count": 365,
     "metadata": {},
     "output_type": "execute_result"
    }
   ],
   "source": [
    "# On supprime les premières lignes inutiles pour que les données débutent au premier trimestre  \n",
    "chomage = chomage.iloc[105:].reset_index(drop=True)\n",
    "\n",
    "# Afficher les premieres lignes des données nettoyées\n",
    "chomage.head()\n"
   ]
  },
  {
   "cell_type": "code",
   "execution_count": 366,
   "id": "a71321fa",
   "metadata": {},
   "outputs": [
    {
     "name": "stdout",
     "output_type": "stream",
     "text": [
      "                                             trimestre taux_chomage\n",
      "100                                                NaN          NaN\n",
      "101  Champ : France hors Mayotte, personnes vivant ...          NaN\n",
      "102                     Source : Insee, enquête Emploi          NaN\n"
     ]
    }
   ],
   "source": [
    "#Déterminuer où sont situés les NaN s'il y en a\n",
    "print(chomage[chomage.isna().any(axis=1)])"
   ]
  },
  {
   "cell_type": "code",
   "execution_count": 367,
   "id": "77ac675f",
   "metadata": {},
   "outputs": [
    {
     "name": "stdout",
     "output_type": "stream",
     "text": [
      "trimestre       0\n",
      "taux_chomage    0\n",
      "dtype: int64\n"
     ]
    }
   ],
   "source": [
    "# Supprimer les lignes contenant des NaN car elles ne comportent pas de données\n",
    "chomage = chomage.dropna()\n",
    "\n",
    "# Vérifier le résultat\n",
    "print(chomage.isna().sum())  "
   ]
  },
  {
   "cell_type": "markdown",
   "id": "4346c863-4895-4123-8e65-8d6aeafa100e",
   "metadata": {},
   "source": [
    "Nettoyage des données sur la confiance "
   ]
  },
  {
   "cell_type": "code",
   "execution_count": 368,
   "id": "034f2816-2ed9-473d-a5ad-810f61862f4b",
   "metadata": {},
   "outputs": [
    {
     "data": {
      "text/html": [
       "<div>\n",
       "<style scoped>\n",
       "    .dataframe tbody tr th:only-of-type {\n",
       "        vertical-align: middle;\n",
       "    }\n",
       "\n",
       "    .dataframe tbody tr th {\n",
       "        vertical-align: top;\n",
       "    }\n",
       "\n",
       "    .dataframe thead th {\n",
       "        text-align: right;\n",
       "    }\n",
       "</style>\n",
       "<table border=\"1\" class=\"dataframe\">\n",
       "  <thead>\n",
       "    <tr style=\"text-align: right;\">\n",
       "      <th></th>\n",
       "      <th>Opinion des ménages-Monthly confidence consumer survey</th>\n",
       "      <th>Unnamed: 1</th>\n",
       "      <th>Unnamed: 2</th>\n",
       "      <th>Unnamed: 3</th>\n",
       "      <th>Unnamed: 4</th>\n",
       "      <th>Unnamed: 5</th>\n",
       "      <th>Unnamed: 6</th>\n",
       "      <th>Unnamed: 7</th>\n",
       "      <th>Unnamed: 8</th>\n",
       "      <th>Unnamed: 9</th>\n",
       "      <th>Unnamed: 10</th>\n",
       "      <th>Unnamed: 11</th>\n",
       "      <th>Unnamed: 12</th>\n",
       "    </tr>\n",
       "  </thead>\n",
       "  <tbody>\n",
       "    <tr>\n",
       "      <th>0</th>\n",
       "      <td>Données corrigées des variations saisonnières-...</td>\n",
       "      <td>NaN</td>\n",
       "      <td>NaN</td>\n",
       "      <td>NaN</td>\n",
       "      <td>NaN</td>\n",
       "      <td>NaN</td>\n",
       "      <td>NaN</td>\n",
       "      <td>NaN</td>\n",
       "      <td>NaN</td>\n",
       "      <td>NaN</td>\n",
       "      <td>NaN</td>\n",
       "      <td>NaN</td>\n",
       "      <td>NaN</td>\n",
       "    </tr>\n",
       "    <tr>\n",
       "      <th>1</th>\n",
       "      <td>NaN</td>\n",
       "      <td>NaN</td>\n",
       "      <td>NaN</td>\n",
       "      <td>NaN</td>\n",
       "      <td>NaN</td>\n",
       "      <td>NaN</td>\n",
       "      <td>NaN</td>\n",
       "      <td>NaN</td>\n",
       "      <td>NaN</td>\n",
       "      <td>NaN</td>\n",
       "      <td>NaN</td>\n",
       "      <td>NaN</td>\n",
       "      <td>NaN</td>\n",
       "    </tr>\n",
       "    <tr>\n",
       "      <th>2</th>\n",
       "      <td>DATE</td>\n",
       "      <td>Indicateur synthétique</td>\n",
       "      <td>Niveau de vie en France - évolution passée</td>\n",
       "      <td>Niveau de vie en France - perspectives d'évolu...</td>\n",
       "      <td>Chômage - perspectives d'évolution</td>\n",
       "      <td>Prix - évolution passée</td>\n",
       "      <td>Prix - perspectives d'évolution</td>\n",
       "      <td>Opportunité de faire des achats importants</td>\n",
       "      <td>Opportunité d'épargner</td>\n",
       "      <td>Capacité d'épargne actuelle</td>\n",
       "      <td>Situation financière personnelle - évolution p...</td>\n",
       "      <td>Situation financière personnelle - perspective...</td>\n",
       "      <td>Capacité d'épargne future</td>\n",
       "    </tr>\n",
       "    <tr>\n",
       "      <th>3</th>\n",
       "      <td>NaN</td>\n",
       "      <td>Synthetic index</td>\n",
       "      <td>General economic situation, past 12 months</td>\n",
       "      <td>General economic situation, next 12 months</td>\n",
       "      <td>Unemployment, next 12 months</td>\n",
       "      <td>Consumer prices, past 12 months</td>\n",
       "      <td>Consumer prices, next 12 months</td>\n",
       "      <td>Major purchases intentions, next 12 months</td>\n",
       "      <td>Savings intentions, next 12 months</td>\n",
       "      <td>Current saving capacity</td>\n",
       "      <td>Financial situation, past 12 months</td>\n",
       "      <td>Financial situation, next 12 months</td>\n",
       "      <td>Expected saving capacity</td>\n",
       "    </tr>\n",
       "    <tr>\n",
       "      <th>4</th>\n",
       "      <td>moyenne/average</td>\n",
       "      <td>100</td>\n",
       "      <td>-47.749835</td>\n",
       "      <td>-27.733798</td>\n",
       "      <td>32.585969</td>\n",
       "      <td>-13.383858</td>\n",
       "      <td>-31.095762</td>\n",
       "      <td>-15.188091</td>\n",
       "      <td>18.029779</td>\n",
       "      <td>9.656539</td>\n",
       "      <td>-20.980754</td>\n",
       "      <td>-6.560103</td>\n",
       "      <td>-7.110802</td>\n",
       "    </tr>\n",
       "  </tbody>\n",
       "</table>\n",
       "</div>"
      ],
      "text/plain": [
       "  Opinion des ménages-Monthly confidence consumer survey  \\\n",
       "0  Données corrigées des variations saisonnières-...       \n",
       "1                                                NaN       \n",
       "2                                               DATE       \n",
       "3                                                NaN       \n",
       "4                                    moyenne/average       \n",
       "\n",
       "               Unnamed: 1                                   Unnamed: 2  \\\n",
       "0                     NaN                                          NaN   \n",
       "1                     NaN                                          NaN   \n",
       "2  Indicateur synthétique   Niveau de vie en France - évolution passée   \n",
       "3         Synthetic index  General economic situation, past 12 months    \n",
       "4                     100                                   -47.749835   \n",
       "\n",
       "                                          Unnamed: 3  \\\n",
       "0                                                NaN   \n",
       "1                                                NaN   \n",
       "2  Niveau de vie en France - perspectives d'évolu...   \n",
       "3         General economic situation, next 12 months   \n",
       "4                                         -27.733798   \n",
       "\n",
       "                           Unnamed: 4                       Unnamed: 5  \\\n",
       "0                                 NaN                              NaN   \n",
       "1                                 NaN                              NaN   \n",
       "2  Chômage - perspectives d'évolution          Prix - évolution passée   \n",
       "3        Unemployment, next 12 months  Consumer prices, past 12 months   \n",
       "4                           32.585969                       -13.383858   \n",
       "\n",
       "                        Unnamed: 6  \\\n",
       "0                              NaN   \n",
       "1                              NaN   \n",
       "2  Prix - perspectives d'évolution   \n",
       "3  Consumer prices, next 12 months   \n",
       "4                       -31.095762   \n",
       "\n",
       "                                   Unnamed: 7  \\\n",
       "0                                         NaN   \n",
       "1                                         NaN   \n",
       "2  Opportunité de faire des achats importants   \n",
       "3  Major purchases intentions, next 12 months   \n",
       "4                                  -15.188091   \n",
       "\n",
       "                           Unnamed: 8                   Unnamed: 9  \\\n",
       "0                                 NaN                          NaN   \n",
       "1                                 NaN                          NaN   \n",
       "2              Opportunité d'épargner  Capacité d'épargne actuelle   \n",
       "3  Savings intentions, next 12 months      Current saving capacity   \n",
       "4                           18.029779                     9.656539   \n",
       "\n",
       "                                         Unnamed: 10  \\\n",
       "0                                                NaN   \n",
       "1                                                NaN   \n",
       "2  Situation financière personnelle - évolution p...   \n",
       "3               Financial situation, past 12 months    \n",
       "4                                         -20.980754   \n",
       "\n",
       "                                         Unnamed: 11  \\\n",
       "0                                                NaN   \n",
       "1                                                NaN   \n",
       "2  Situation financière personnelle - perspective...   \n",
       "3               Financial situation, next 12 months    \n",
       "4                                          -6.560103   \n",
       "\n",
       "                 Unnamed: 12  \n",
       "0                        NaN  \n",
       "1                        NaN  \n",
       "2  Capacité d'épargne future  \n",
       "3   Expected saving capacity  \n",
       "4                  -7.110802  "
      ]
     },
     "execution_count": 368,
     "metadata": {},
     "output_type": "execute_result"
    }
   ],
   "source": [
    "confiance.head()"
   ]
  },
  {
   "cell_type": "code",
   "execution_count": 369,
   "id": "96ae25f2-4656-4ac6-aff2-8512e1a4d39c",
   "metadata": {},
   "outputs": [],
   "source": [
    "# Renommer les colonnes à utiliser\n",
    "confiance.rename(columns={'Unnamed: 1': 'indic_confiance'}, inplace=True)\n",
    "confiance.rename(columns={'Opinion des ménages-Monthly confidence consumer survey': 'date'}, inplace=True) "
   ]
  },
  {
   "cell_type": "code",
   "execution_count": 370,
   "id": "33cf1e71-313d-4cfa-8a75-210b2a951030",
   "metadata": {},
   "outputs": [
    {
     "name": "stdout",
     "output_type": "stream",
     "text": [
      "Index(['date', 'indic_confiance', 'Unnamed: 2', 'Unnamed: 3', 'Unnamed: 4',\n",
      "       'Unnamed: 5', 'Unnamed: 6', 'Unnamed: 7', 'Unnamed: 8', 'Unnamed: 9',\n",
      "       'Unnamed: 10', 'Unnamed: 11', 'Unnamed: 12'],\n",
      "      dtype='object')\n"
     ]
    }
   ],
   "source": [
    "print(confiance.columns)"
   ]
  },
  {
   "cell_type": "code",
   "execution_count": 371,
   "id": "e345343b-a781-45fc-82ae-e48fa3c83ec9",
   "metadata": {},
   "outputs": [],
   "source": [
    "# Supprimer les colonnes inutiles pour notre analyse\n",
    "confiance.drop(columns=['Unnamed: 2', 'Unnamed: 3', 'Unnamed: 4',\n",
    "       'Unnamed: 5', 'Unnamed: 6', 'Unnamed: 7', 'Unnamed: 8', 'Unnamed: 9',\n",
    "       'Unnamed: 10', 'Unnamed: 11', 'Unnamed: 12'], inplace=True)"
   ]
  },
  {
   "cell_type": "code",
   "execution_count": 372,
   "id": "e8832c0d-71a6-4459-9cb1-5154691cea0d",
   "metadata": {},
   "outputs": [
    {
     "name": "stderr",
     "output_type": "stream",
     "text": [
      "/tmp/ipykernel_20906/3570054967.py:2: UserWarning: Could not infer format, so each element will be parsed individually, falling back to `dateutil`. To ensure parsing is consistent and as-expected, please specify a format.\n",
      "  confiance['date'] = pd.to_datetime(confiance['date'], errors='coerce')\n"
     ]
    },
    {
     "data": {
      "text/html": [
       "<div>\n",
       "<style scoped>\n",
       "    .dataframe tbody tr th:only-of-type {\n",
       "        vertical-align: middle;\n",
       "    }\n",
       "\n",
       "    .dataframe tbody tr th {\n",
       "        vertical-align: top;\n",
       "    }\n",
       "\n",
       "    .dataframe thead th {\n",
       "        text-align: right;\n",
       "    }\n",
       "</style>\n",
       "<table border=\"1\" class=\"dataframe\">\n",
       "  <thead>\n",
       "    <tr style=\"text-align: right;\">\n",
       "      <th></th>\n",
       "      <th>date</th>\n",
       "      <th>indic_confiance</th>\n",
       "    </tr>\n",
       "  </thead>\n",
       "  <tbody>\n",
       "    <tr>\n",
       "      <th>204</th>\n",
       "      <td>2000-01-01</td>\n",
       "      <td>119.186742</td>\n",
       "    </tr>\n",
       "    <tr>\n",
       "      <th>205</th>\n",
       "      <td>2000-02-01</td>\n",
       "      <td>119.010085</td>\n",
       "    </tr>\n",
       "    <tr>\n",
       "      <th>206</th>\n",
       "      <td>2000-03-01</td>\n",
       "      <td>119.930046</td>\n",
       "    </tr>\n",
       "    <tr>\n",
       "      <th>207</th>\n",
       "      <td>2000-04-01</td>\n",
       "      <td>122.586881</td>\n",
       "    </tr>\n",
       "    <tr>\n",
       "      <th>208</th>\n",
       "      <td>2000-05-01</td>\n",
       "      <td>122.625812</td>\n",
       "    </tr>\n",
       "  </tbody>\n",
       "</table>\n",
       "</div>"
      ],
      "text/plain": [
       "          date indic_confiance\n",
       "204 2000-01-01      119.186742\n",
       "205 2000-02-01      119.010085\n",
       "206 2000-03-01      119.930046\n",
       "207 2000-04-01      122.586881\n",
       "208 2000-05-01      122.625812"
      ]
     },
     "execution_count": 372,
     "metadata": {},
     "output_type": "execute_result"
    }
   ],
   "source": [
    "# S'assurer que la colonne 'date' est au format datetime\n",
    "confiance['date'] = pd.to_datetime(confiance['date'], errors='coerce')\n",
    "\n",
    "# Filtrer les données à partir de janvier 2000\n",
    "confiance =confiance[confiance['date'] >= '2000-01-01']\n",
    "\n",
    "# Afficher les premières lignes des données filtrées\n",
    "confiance.head()"
   ]
  },
  {
   "cell_type": "code",
   "execution_count": 373,
   "id": "416332f1",
   "metadata": {},
   "outputs": [
    {
     "name": "stderr",
     "output_type": "stream",
     "text": [
      "/tmp/ipykernel_20906/1694031925.py:4: FutureWarning: 'Q' is deprecated and will be removed in a future version, please use 'QE' instead.\n",
      "  confiance = confiance.resample(\"Q\").mean()\n"
     ]
    },
    {
     "data": {
      "text/html": [
       "<div>\n",
       "<style scoped>\n",
       "    .dataframe tbody tr th:only-of-type {\n",
       "        vertical-align: middle;\n",
       "    }\n",
       "\n",
       "    .dataframe tbody tr th {\n",
       "        vertical-align: top;\n",
       "    }\n",
       "\n",
       "    .dataframe thead th {\n",
       "        text-align: right;\n",
       "    }\n",
       "</style>\n",
       "<table border=\"1\" class=\"dataframe\">\n",
       "  <thead>\n",
       "    <tr style=\"text-align: right;\">\n",
       "      <th></th>\n",
       "      <th>indic_confiance</th>\n",
       "    </tr>\n",
       "    <tr>\n",
       "      <th>date</th>\n",
       "      <th></th>\n",
       "    </tr>\n",
       "  </thead>\n",
       "  <tbody>\n",
       "    <tr>\n",
       "      <th>2000-03-31</th>\n",
       "      <td>119.375624</td>\n",
       "    </tr>\n",
       "    <tr>\n",
       "      <th>2000-06-30</th>\n",
       "      <td>122.715558</td>\n",
       "    </tr>\n",
       "    <tr>\n",
       "      <th>2000-09-30</th>\n",
       "      <td>121.334655</td>\n",
       "    </tr>\n",
       "    <tr>\n",
       "      <th>2000-12-31</th>\n",
       "      <td>121.035423</td>\n",
       "    </tr>\n",
       "    <tr>\n",
       "      <th>2001-03-31</th>\n",
       "      <td>124.096635</td>\n",
       "    </tr>\n",
       "  </tbody>\n",
       "</table>\n",
       "</div>"
      ],
      "text/plain": [
       "           indic_confiance\n",
       "date                      \n",
       "2000-03-31      119.375624\n",
       "2000-06-30      122.715558\n",
       "2000-09-30      121.334655\n",
       "2000-12-31      121.035423\n",
       "2001-03-31      124.096635"
      ]
     },
     "execution_count": 373,
     "metadata": {},
     "output_type": "execute_result"
    }
   ],
   "source": [
    "# Convertir les données journalières en trimestrielles (moyenne trimestrielle)\n",
    "confiance[\"date\"] = pd.to_datetime(confiance[\"date\"])\n",
    "confiance.set_index(\"date\", inplace=True)\n",
    "confiance = confiance.resample(\"Q\").mean()\n",
    "\n",
    "#Vérification\n",
    "confiance.head()"
   ]
  },
  {
   "cell_type": "code",
   "execution_count": 374,
   "id": "31696a6c",
   "metadata": {},
   "outputs": [
    {
     "name": "stdout",
     "output_type": "stream",
     "text": [
      "Empty DataFrame\n",
      "Columns: [indic_confiance]\n",
      "Index: []\n"
     ]
    }
   ],
   "source": [
    "#Déterminuer où sont situés les NaN s'il y en a\n",
    "print(confiance[confiance.isna().any(axis=1)])"
   ]
  },
  {
   "cell_type": "markdown",
   "id": "2c37fc2c-12d6-4a30-9cf8-839db6915c47",
   "metadata": {},
   "source": [
    "Nettoyage de la table Evolution du PIB"
   ]
  },
  {
   "cell_type": "markdown",
   "id": "3eea85f5-4275-4be1-bb6a-8d75a20bc5d7",
   "metadata": {},
   "source": [
    "On cherche à isoler des indicateurs pour l'évolution du PIB, la consommation des ménages et des APU, la formation brute de capital fixe, les importations et exportations. On fait le choix de prendre plus d'indicateurs, quitte à les éliminer par la suite."
   ]
  },
  {
   "cell_type": "code",
   "execution_count": 375,
   "id": "1ff0a29f-9c31-4b7f-a38c-4f9c8f2ea13e",
   "metadata": {},
   "outputs": [
    {
     "data": {
      "text/html": [
       "<div>\n",
       "<style scoped>\n",
       "    .dataframe tbody tr th:only-of-type {\n",
       "        vertical-align: middle;\n",
       "    }\n",
       "\n",
       "    .dataframe tbody tr th {\n",
       "        vertical-align: top;\n",
       "    }\n",
       "\n",
       "    .dataframe thead th {\n",
       "        text-align: right;\n",
       "    }\n",
       "</style>\n",
       "<table border=\"1\" class=\"dataframe\">\n",
       "  <thead>\n",
       "    <tr style=\"text-align: right;\">\n",
       "      <th></th>\n",
       "      <th>Évolution du produit intérieur brut et de ses composantes</th>\n",
       "      <th>Unnamed: 1</th>\n",
       "      <th>Unnamed: 2</th>\n",
       "      <th>Unnamed: 3</th>\n",
       "      <th>Unnamed: 4</th>\n",
       "      <th>Unnamed: 5</th>\n",
       "      <th>Unnamed: 6</th>\n",
       "      <th>Unnamed: 7</th>\n",
       "      <th>Unnamed: 8</th>\n",
       "      <th>Unnamed: 9</th>\n",
       "      <th>Unnamed: 10</th>\n",
       "      <th>Unnamed: 11</th>\n",
       "      <th>Unnamed: 12</th>\n",
       "    </tr>\n",
       "  </thead>\n",
       "  <tbody>\n",
       "    <tr>\n",
       "      <th>0</th>\n",
       "      <td>NaN</td>\n",
       "      <td>NaN</td>\n",
       "      <td>NaN</td>\n",
       "      <td>NaN</td>\n",
       "      <td>NaN</td>\n",
       "      <td>NaN</td>\n",
       "      <td>NaN</td>\n",
       "      <td>NaN</td>\n",
       "      <td>NaN</td>\n",
       "      <td>NaN</td>\n",
       "      <td>NaN</td>\n",
       "      <td>NaN</td>\n",
       "      <td>NaN</td>\n",
       "    </tr>\n",
       "    <tr>\n",
       "      <th>1</th>\n",
       "      <td>par rapport au trimestre précédent en volume en %</td>\n",
       "      <td>NaN</td>\n",
       "      <td>NaN</td>\n",
       "      <td>NaN</td>\n",
       "      <td>NaN</td>\n",
       "      <td>NaN</td>\n",
       "      <td>NaN</td>\n",
       "      <td>NaN</td>\n",
       "      <td>NaN</td>\n",
       "      <td>NaN</td>\n",
       "      <td>NaN</td>\n",
       "      <td>NaN</td>\n",
       "      <td>NaN</td>\n",
       "    </tr>\n",
       "    <tr>\n",
       "      <th>2</th>\n",
       "      <td>Trimestre</td>\n",
       "      <td>Produit intérieur brut (PIB)</td>\n",
       "      <td>Importations</td>\n",
       "      <td>Dépense de consommation des ménages</td>\n",
       "      <td>Dépense de consommation des APU1</td>\n",
       "      <td>Formation brute de capital fixe</td>\n",
       "      <td>dont :</td>\n",
       "      <td>NaN</td>\n",
       "      <td>NaN</td>\n",
       "      <td>Exportations</td>\n",
       "      <td>Contributions :</td>\n",
       "      <td>NaN</td>\n",
       "      <td>NaN</td>\n",
       "    </tr>\n",
       "    <tr>\n",
       "      <th>3</th>\n",
       "      <td>NaN</td>\n",
       "      <td>NaN</td>\n",
       "      <td>NaN</td>\n",
       "      <td>NaN</td>\n",
       "      <td>NaN</td>\n",
       "      <td>NaN</td>\n",
       "      <td>Entreprises non financières</td>\n",
       "      <td>ménages</td>\n",
       "      <td>APU1</td>\n",
       "      <td>NaN</td>\n",
       "      <td>Demande intérieure finale hors stocks</td>\n",
       "      <td>Variations de stocks</td>\n",
       "      <td>Commerce extérieur</td>\n",
       "    </tr>\n",
       "    <tr>\n",
       "      <th>4</th>\n",
       "      <td>2024-T3</td>\n",
       "      <td>0.362294</td>\n",
       "      <td>-0.684306</td>\n",
       "      <td>0.515766</td>\n",
       "      <td>0.513113</td>\n",
       "      <td>-0.84265</td>\n",
       "      <td>-1.365417</td>\n",
       "      <td>-0.887841</td>\n",
       "      <td>0.472325</td>\n",
       "      <td>-0.470732</td>\n",
       "      <td>0.212544</td>\n",
       "      <td>0.069318</td>\n",
       "      <td>0.080432</td>\n",
       "    </tr>\n",
       "  </tbody>\n",
       "</table>\n",
       "</div>"
      ],
      "text/plain": [
       "  Évolution du produit intérieur brut et de ses composantes  \\\n",
       "0                                                NaN          \n",
       "1  par rapport au trimestre précédent en volume en %          \n",
       "2                                          Trimestre          \n",
       "3                                                NaN          \n",
       "4                                            2024-T3          \n",
       "\n",
       "                     Unnamed: 1    Unnamed: 2  \\\n",
       "0                           NaN           NaN   \n",
       "1                           NaN           NaN   \n",
       "2  Produit intérieur brut (PIB)  Importations   \n",
       "3                           NaN           NaN   \n",
       "4                      0.362294     -0.684306   \n",
       "\n",
       "                            Unnamed: 3                        Unnamed: 4  \\\n",
       "0                                  NaN                               NaN   \n",
       "1                                  NaN                               NaN   \n",
       "2  Dépense de consommation des ménages  Dépense de consommation des APU1   \n",
       "3                                  NaN                               NaN   \n",
       "4                             0.515766                          0.513113   \n",
       "\n",
       "                        Unnamed: 5                   Unnamed: 6 Unnamed: 7  \\\n",
       "0                              NaN                          NaN        NaN   \n",
       "1                              NaN                          NaN        NaN   \n",
       "2  Formation brute de capital fixe                      dont :         NaN   \n",
       "3                              NaN  Entreprises non financières    ménages   \n",
       "4                         -0.84265                    -1.365417  -0.887841   \n",
       "\n",
       "  Unnamed: 8    Unnamed: 9                            Unnamed: 10  \\\n",
       "0        NaN           NaN                                    NaN   \n",
       "1        NaN           NaN                                    NaN   \n",
       "2        NaN  Exportations                        Contributions :   \n",
       "3       APU1           NaN  Demande intérieure finale hors stocks   \n",
       "4   0.472325     -0.470732                               0.212544   \n",
       "\n",
       "            Unnamed: 11         Unnamed: 12  \n",
       "0                   NaN                 NaN  \n",
       "1                   NaN                 NaN  \n",
       "2                   NaN                 NaN  \n",
       "3  Variations de stocks  Commerce extérieur  \n",
       "4              0.069318            0.080432  "
      ]
     },
     "execution_count": 375,
     "metadata": {},
     "output_type": "execute_result"
    }
   ],
   "source": [
    "ev_pib.head()"
   ]
  },
  {
   "cell_type": "code",
   "execution_count": 376,
   "id": "f5bf1a62-749f-48bf-86ef-29e4702ef9de",
   "metadata": {},
   "outputs": [],
   "source": [
    "# Renommer les colonnes à utiliser\n",
    "ev_pib.rename(columns={'Évolution du produit intérieur brut et de ses composantes': 'trimestre'}, inplace=True)\n",
    "ev_pib.rename(columns={'Unnamed: 1': 'ev_pib'}, inplace=True) \n",
    "ev_pib.rename(columns={'Unnamed: 2': 'ev_importations'}, inplace=True) \n",
    "ev_pib.rename(columns={'Unnamed: 3': 'ev_conso_menages'}, inplace=True) \n",
    "ev_pib.rename(columns={'Unnamed: 4': 'ev_conso_apu'}, inplace=True) \n",
    "ev_pib.rename(columns={'Unnamed: 5': 'ev_fbcf'}, inplace=True) \n",
    "ev_pib.rename(columns={'Unnamed: 9': 'ev_exportations'}, inplace=True) "
   ]
  },
  {
   "cell_type": "code",
   "execution_count": 377,
   "id": "4a68bb02-4ea8-4ec0-be87-acb5951ea3bc",
   "metadata": {},
   "outputs": [
    {
     "name": "stdout",
     "output_type": "stream",
     "text": [
      "Index(['trimestre', 'ev_pib', 'ev_importations', 'ev_conso_menages',\n",
      "       'ev_conso_apu', 'ev_fbcf', 'Unnamed: 6', 'Unnamed: 7', 'Unnamed: 8',\n",
      "       'ev_exportations', 'Unnamed: 10', 'Unnamed: 11', 'Unnamed: 12'],\n",
      "      dtype='object')\n"
     ]
    }
   ],
   "source": [
    "print(ev_pib.columns)"
   ]
  },
  {
   "cell_type": "code",
   "execution_count": 378,
   "id": "64c2d019-8616-4a7b-9d77-4e47c55381be",
   "metadata": {},
   "outputs": [
    {
     "data": {
      "text/html": [
       "<div>\n",
       "<style scoped>\n",
       "    .dataframe tbody tr th:only-of-type {\n",
       "        vertical-align: middle;\n",
       "    }\n",
       "\n",
       "    .dataframe tbody tr th {\n",
       "        vertical-align: top;\n",
       "    }\n",
       "\n",
       "    .dataframe thead th {\n",
       "        text-align: right;\n",
       "    }\n",
       "</style>\n",
       "<table border=\"1\" class=\"dataframe\">\n",
       "  <thead>\n",
       "    <tr style=\"text-align: right;\">\n",
       "      <th></th>\n",
       "      <th>trimestre</th>\n",
       "      <th>ev_pib</th>\n",
       "      <th>ev_importations</th>\n",
       "      <th>ev_conso_menages</th>\n",
       "      <th>ev_conso_apu</th>\n",
       "      <th>ev_fbcf</th>\n",
       "      <th>ev_exportations</th>\n",
       "    </tr>\n",
       "  </thead>\n",
       "  <tbody>\n",
       "    <tr>\n",
       "      <th>0</th>\n",
       "      <td>Source : Insee, comptes nationaux trimestriels...</td>\n",
       "      <td>NaN</td>\n",
       "      <td>NaN</td>\n",
       "      <td>NaN</td>\n",
       "      <td>NaN</td>\n",
       "      <td>NaN</td>\n",
       "      <td>NaN</td>\n",
       "    </tr>\n",
       "    <tr>\n",
       "      <th>1</th>\n",
       "      <td>Champ : France.</td>\n",
       "      <td>NaN</td>\n",
       "      <td>NaN</td>\n",
       "      <td>NaN</td>\n",
       "      <td>NaN</td>\n",
       "      <td>NaN</td>\n",
       "      <td>NaN</td>\n",
       "    </tr>\n",
       "    <tr>\n",
       "      <th>2</th>\n",
       "      <td>Lecture : au 3e trimestre 2024, le produit int...</td>\n",
       "      <td>NaN</td>\n",
       "      <td>NaN</td>\n",
       "      <td>NaN</td>\n",
       "      <td>NaN</td>\n",
       "      <td>NaN</td>\n",
       "      <td>NaN</td>\n",
       "    </tr>\n",
       "    <tr>\n",
       "      <th>3</th>\n",
       "      <td>Note : données révisées ; les volumes sont mes...</td>\n",
       "      <td>NaN</td>\n",
       "      <td>NaN</td>\n",
       "      <td>NaN</td>\n",
       "      <td>NaN</td>\n",
       "      <td>NaN</td>\n",
       "      <td>NaN</td>\n",
       "    </tr>\n",
       "    <tr>\n",
       "      <th>4</th>\n",
       "      <td>1. Administrations publiques.</td>\n",
       "      <td>NaN</td>\n",
       "      <td>NaN</td>\n",
       "      <td>NaN</td>\n",
       "      <td>NaN</td>\n",
       "      <td>NaN</td>\n",
       "      <td>NaN</td>\n",
       "    </tr>\n",
       "  </tbody>\n",
       "</table>\n",
       "</div>"
      ],
      "text/plain": [
       "                                           trimestre ev_pib ev_importations  \\\n",
       "0  Source : Insee, comptes nationaux trimestriels...    NaN             NaN   \n",
       "1                                    Champ : France.    NaN             NaN   \n",
       "2  Lecture : au 3e trimestre 2024, le produit int...    NaN             NaN   \n",
       "3  Note : données révisées ; les volumes sont mes...    NaN             NaN   \n",
       "4                      1. Administrations publiques.    NaN             NaN   \n",
       "\n",
       "  ev_conso_menages ev_conso_apu ev_fbcf ev_exportations  \n",
       "0              NaN          NaN     NaN             NaN  \n",
       "1              NaN          NaN     NaN             NaN  \n",
       "2              NaN          NaN     NaN             NaN  \n",
       "3              NaN          NaN     NaN             NaN  \n",
       "4              NaN          NaN     NaN             NaN  "
      ]
     },
     "execution_count": 378,
     "metadata": {},
     "output_type": "execute_result"
    }
   ],
   "source": [
    "# Supprimer les colonnes\n",
    "ev_pib.drop(columns=['Unnamed: 6', 'Unnamed: 7', 'Unnamed: 8',\n",
    "    'Unnamed: 10', 'Unnamed: 11', 'Unnamed: 12'], inplace=True)\n",
    "\n",
    "#Inversion des colonnes pour avoir des données chronologiques\n",
    "ev_pib = ev_pib.iloc[::-1].reset_index(drop=True)\n",
    "\n",
    "# Vérification\n",
    "ev_pib.head()"
   ]
  },
  {
   "cell_type": "markdown",
   "id": "d1f759c1-39c7-4b09-bf6b-0555db0a4302",
   "metadata": {},
   "source": [
    "On remarque que les données sont ordonnées des plus récentes aux plus anciennes, on souhaite inverser cela pour faciliter le travail avec les autres tables. "
   ]
  },
  {
   "cell_type": "code",
   "execution_count": 379,
   "id": "06530343-7309-4e8c-972b-3a84c71e6d55",
   "metadata": {},
   "outputs": [
    {
     "name": "stdout",
     "output_type": "stream",
     "text": [
      "Index([209], dtype='int64')\n"
     ]
    }
   ],
   "source": [
    "# Trouver l'index de la valeur '2000-T1' dans la colonne 'trimestre'\n",
    "index_2000_t1 = ev_pib[ev_pib['trimestre'] == '2000-T1'].index\n",
    "\n",
    "# Afficher l'index\n",
    "print(index_2000_t1)\n"
   ]
  },
  {
   "cell_type": "code",
   "execution_count": 380,
   "id": "d670cdd3-d7b4-491a-80df-c08c881b27b5",
   "metadata": {},
   "outputs": [],
   "source": [
    "# On supprime les premières lignes inutiles pour que les données débutent au premier trimestre de l'année 2000\n",
    "ev_pib = ev_pib.iloc[209:].reset_index(drop=True)"
   ]
  },
  {
   "cell_type": "markdown",
   "id": "7e87e85f-1503-4366-9b36-fa15f504e5b8",
   "metadata": {},
   "source": [
    "On souhaite créer une nouvelle variable qui regroupe l'évolution de la consommation des ménages et des APU."
   ]
  },
  {
   "cell_type": "code",
   "execution_count": 381,
   "id": "1938a630-1326-4eb9-8fc4-88fa447d1f92",
   "metadata": {},
   "outputs": [
    {
     "data": {
      "text/html": [
       "<div>\n",
       "<style scoped>\n",
       "    .dataframe tbody tr th:only-of-type {\n",
       "        vertical-align: middle;\n",
       "    }\n",
       "\n",
       "    .dataframe tbody tr th {\n",
       "        vertical-align: top;\n",
       "    }\n",
       "\n",
       "    .dataframe thead th {\n",
       "        text-align: right;\n",
       "    }\n",
       "</style>\n",
       "<table border=\"1\" class=\"dataframe\">\n",
       "  <thead>\n",
       "    <tr style=\"text-align: right;\">\n",
       "      <th></th>\n",
       "      <th>trimestre</th>\n",
       "      <th>ev_pib</th>\n",
       "      <th>ev_importations</th>\n",
       "      <th>ev_conso_menages</th>\n",
       "      <th>ev_conso_apu</th>\n",
       "      <th>ev_fbcf</th>\n",
       "      <th>ev_exportations</th>\n",
       "      <th>ev_conso</th>\n",
       "    </tr>\n",
       "  </thead>\n",
       "  <tbody>\n",
       "    <tr>\n",
       "      <th>0</th>\n",
       "      <td>2000-T1</td>\n",
       "      <td>1.011252</td>\n",
       "      <td>4.716928</td>\n",
       "      <td>1.256031</td>\n",
       "      <td>0.606497</td>\n",
       "      <td>2.244349</td>\n",
       "      <td>2.839274</td>\n",
       "      <td>1.862528</td>\n",
       "    </tr>\n",
       "    <tr>\n",
       "      <th>1</th>\n",
       "      <td>2000-T2</td>\n",
       "      <td>1.06425</td>\n",
       "      <td>4.20051</td>\n",
       "      <td>0.772804</td>\n",
       "      <td>0.464126</td>\n",
       "      <td>0.921508</td>\n",
       "      <td>4.963057</td>\n",
       "      <td>1.23693</td>\n",
       "    </tr>\n",
       "    <tr>\n",
       "      <th>2</th>\n",
       "      <td>2000-T3</td>\n",
       "      <td>0.780148</td>\n",
       "      <td>3.529602</td>\n",
       "      <td>0.444674</td>\n",
       "      <td>0.34475</td>\n",
       "      <td>2.53796</td>\n",
       "      <td>1.41363</td>\n",
       "      <td>0.789424</td>\n",
       "    </tr>\n",
       "    <tr>\n",
       "      <th>3</th>\n",
       "      <td>2000-T4</td>\n",
       "      <td>0.563163</td>\n",
       "      <td>2.2326</td>\n",
       "      <td>0.132284</td>\n",
       "      <td>0.155773</td>\n",
       "      <td>0.073162</td>\n",
       "      <td>2.984615</td>\n",
       "      <td>0.288057</td>\n",
       "    </tr>\n",
       "    <tr>\n",
       "      <th>4</th>\n",
       "      <td>2001-T1</td>\n",
       "      <td>0.57489</td>\n",
       "      <td>-1.295035</td>\n",
       "      <td>1.139891</td>\n",
       "      <td>0.125288</td>\n",
       "      <td>0.672418</td>\n",
       "      <td>0.408129</td>\n",
       "      <td>1.265179</td>\n",
       "    </tr>\n",
       "  </tbody>\n",
       "</table>\n",
       "</div>"
      ],
      "text/plain": [
       "  trimestre    ev_pib ev_importations ev_conso_menages ev_conso_apu   ev_fbcf  \\\n",
       "0   2000-T1  1.011252        4.716928         1.256031     0.606497  2.244349   \n",
       "1   2000-T2   1.06425         4.20051         0.772804     0.464126  0.921508   \n",
       "2   2000-T3  0.780148        3.529602         0.444674      0.34475   2.53796   \n",
       "3   2000-T4  0.563163          2.2326         0.132284     0.155773  0.073162   \n",
       "4   2001-T1   0.57489       -1.295035         1.139891     0.125288  0.672418   \n",
       "\n",
       "  ev_exportations  ev_conso  \n",
       "0        2.839274  1.862528  \n",
       "1        4.963057   1.23693  \n",
       "2         1.41363  0.789424  \n",
       "3        2.984615  0.288057  \n",
       "4        0.408129  1.265179  "
      ]
     },
     "execution_count": 381,
     "metadata": {},
     "output_type": "execute_result"
    }
   ],
   "source": [
    "ev_pib['ev_conso'] = ev_pib['ev_conso_menages'] + ev_pib['ev_conso_apu']\n",
    "\n",
    "# Afficher les premieres lignes des données \n",
    "ev_pib.head()"
   ]
  },
  {
   "cell_type": "markdown",
   "id": "2d65ada5",
   "metadata": {},
   "source": [
    "Vérification des NaN"
   ]
  },
  {
   "cell_type": "code",
   "execution_count": 382,
   "id": "9b607680",
   "metadata": {},
   "outputs": [
    {
     "name": "stdout",
     "output_type": "stream",
     "text": [
      "                                             trimestre ev_pib ev_importations  \\\n",
      "99                                                 NaN    NaN             NaN   \n",
      "101  par rapport au trimestre précédent en volume en %    NaN             NaN   \n",
      "102                                                NaN    NaN             NaN   \n",
      "\n",
      "    ev_conso_menages ev_conso_apu ev_fbcf ev_exportations ev_conso  \n",
      "99               NaN          NaN     NaN             NaN      NaN  \n",
      "101              NaN          NaN     NaN             NaN      NaN  \n",
      "102              NaN          NaN     NaN             NaN      NaN  \n"
     ]
    }
   ],
   "source": [
    "print(ev_pib[ev_pib.isna().any(axis=1)])"
   ]
  },
  {
   "cell_type": "code",
   "execution_count": 383,
   "id": "4db3edd9",
   "metadata": {},
   "outputs": [
    {
     "name": "stdout",
     "output_type": "stream",
     "text": [
      "trimestre           0\n",
      "ev_pib              0\n",
      "ev_importations     0\n",
      "ev_conso_menages    0\n",
      "ev_conso_apu        0\n",
      "ev_fbcf             0\n",
      "ev_exportations     0\n",
      "ev_conso            0\n",
      "dtype: int64\n"
     ]
    }
   ],
   "source": [
    "#Suppression des lignes avec des NaN car elles ne nous intéressent pas\n",
    "ev_pib = ev_pib.dropna()\n",
    "\n",
    "#Vérification\n",
    "print(ev_pib.isna().sum())"
   ]
  },
  {
   "cell_type": "markdown",
   "id": "53440de9",
   "metadata": {},
   "source": [
    "Nettoyage des données sur l'indice des prix à la consommation"
   ]
  },
  {
   "cell_type": "code",
   "execution_count": 384,
   "id": "4f7fc7b4-2ce0-4707-a5bb-10baaa0409a0",
   "metadata": {},
   "outputs": [
    {
     "data": {
      "text/html": [
       "<div>\n",
       "<style scoped>\n",
       "    .dataframe tbody tr th:only-of-type {\n",
       "        vertical-align: middle;\n",
       "    }\n",
       "\n",
       "    .dataframe tbody tr th {\n",
       "        vertical-align: top;\n",
       "    }\n",
       "\n",
       "    .dataframe thead th {\n",
       "        text-align: right;\n",
       "    }\n",
       "</style>\n",
       "<table border=\"1\" class=\"dataframe\">\n",
       "  <thead>\n",
       "    <tr style=\"text-align: right;\">\n",
       "      <th></th>\n",
       "      <th>Libellé</th>\n",
       "      <th>Indice des prix à la consommation - Base 2015 - Ensemble des ménages - France - Ensemble</th>\n",
       "      <th>Unnamed: 2</th>\n",
       "    </tr>\n",
       "  </thead>\n",
       "  <tbody>\n",
       "    <tr>\n",
       "      <th>0</th>\n",
       "      <td>idBank</td>\n",
       "      <td>001759970</td>\n",
       "      <td>NaN</td>\n",
       "    </tr>\n",
       "    <tr>\n",
       "      <th>1</th>\n",
       "      <td>Dernière mise à jour</td>\n",
       "      <td>29/11/2024 08:45</td>\n",
       "      <td>NaN</td>\n",
       "    </tr>\n",
       "    <tr>\n",
       "      <th>2</th>\n",
       "      <td>Période</td>\n",
       "      <td>NaN</td>\n",
       "      <td>Date de parution au JO</td>\n",
       "    </tr>\n",
       "    <tr>\n",
       "      <th>3</th>\n",
       "      <td>2024-11</td>\n",
       "      <td>119.81</td>\n",
       "      <td>NaN</td>\n",
       "    </tr>\n",
       "    <tr>\n",
       "      <th>4</th>\n",
       "      <td>2024-10</td>\n",
       "      <td>119.89</td>\n",
       "      <td>17/11/2024</td>\n",
       "    </tr>\n",
       "  </tbody>\n",
       "</table>\n",
       "</div>"
      ],
      "text/plain": [
       "                Libellé  \\\n",
       "0                idBank   \n",
       "1  Dernière mise à jour   \n",
       "2               Période   \n",
       "3               2024-11   \n",
       "4               2024-10   \n",
       "\n",
       "  Indice des prix à la consommation - Base 2015 - Ensemble des ménages - France - Ensemble  \\\n",
       "0                                          001759970                                         \n",
       "1                                   29/11/2024 08:45                                         \n",
       "2                                                NaN                                         \n",
       "3                                             119.81                                         \n",
       "4                                             119.89                                         \n",
       "\n",
       "               Unnamed: 2  \n",
       "0                     NaN  \n",
       "1                     NaN  \n",
       "2  Date de parution au JO  \n",
       "3                     NaN  \n",
       "4              17/11/2024  "
      ]
     },
     "execution_count": 384,
     "metadata": {},
     "output_type": "execute_result"
    }
   ],
   "source": [
    "ipc.head()"
   ]
  },
  {
   "cell_type": "code",
   "execution_count": 385,
   "id": "fc8282ff",
   "metadata": {},
   "outputs": [],
   "source": [
    "# Renommer les colonnes à utiliser\n",
    "ipc.rename(columns={'Libellé': 'mois_année'}, inplace=True)\n",
    "ipc.rename(columns={'Indice des prix à la consommation - Base 2015 - Ensemble des ménages - France - Ensemble': 'ipc_menage'}, inplace=True) "
   ]
  },
  {
   "cell_type": "code",
   "execution_count": 386,
   "id": "cf9aa608",
   "metadata": {},
   "outputs": [
    {
     "name": "stdout",
     "output_type": "stream",
     "text": [
      "Index(['mois_année', 'ipc_menage', 'Unnamed: 2'], dtype='object')\n"
     ]
    }
   ],
   "source": [
    "print(ipc.columns)"
   ]
  },
  {
   "cell_type": "code",
   "execution_count": 387,
   "id": "b5885c9d",
   "metadata": {},
   "outputs": [
    {
     "name": "stdout",
     "output_type": "stream",
     "text": [
      "Index([120], dtype='int64')\n"
     ]
    }
   ],
   "source": [
    "# Supprimer les colonnes\n",
    "ipc.drop(columns='Unnamed: 2', inplace=True)\n",
    "\n",
    "# On supprime les premières lignes inutiles \n",
    "ipc = ipc.iloc[3:].reset_index(drop=True)\n",
    "\n",
    "#Inversion des données pour les classer en ordre chronologique\n",
    "ipc = ipc.iloc[::-1].reset_index(drop=True)\n",
    "\n",
    "# Trouver l'index de la valeur '2000-01' dans la colonne 'mois_année'\n",
    "index_2000_01 = ipc[ipc['mois_année'] == '2000-01'].index\n",
    "\n",
    "# Afficher l'index\n",
    "print(index_2000_01)"
   ]
  },
  {
   "cell_type": "code",
   "execution_count": 388,
   "id": "0c049b28",
   "metadata": {},
   "outputs": [
    {
     "data": {
      "text/html": [
       "<div>\n",
       "<style scoped>\n",
       "    .dataframe tbody tr th:only-of-type {\n",
       "        vertical-align: middle;\n",
       "    }\n",
       "\n",
       "    .dataframe tbody tr th {\n",
       "        vertical-align: top;\n",
       "    }\n",
       "\n",
       "    .dataframe thead th {\n",
       "        text-align: right;\n",
       "    }\n",
       "</style>\n",
       "<table border=\"1\" class=\"dataframe\">\n",
       "  <thead>\n",
       "    <tr style=\"text-align: right;\">\n",
       "      <th></th>\n",
       "      <th>mois_année</th>\n",
       "      <th>ipc_menage</th>\n",
       "    </tr>\n",
       "  </thead>\n",
       "  <tbody>\n",
       "    <tr>\n",
       "      <th>0</th>\n",
       "      <td>2000-01</td>\n",
       "      <td>79.17</td>\n",
       "    </tr>\n",
       "    <tr>\n",
       "      <th>1</th>\n",
       "      <td>2000-02</td>\n",
       "      <td>79.27</td>\n",
       "    </tr>\n",
       "    <tr>\n",
       "      <th>2</th>\n",
       "      <td>2000-03</td>\n",
       "      <td>79.64</td>\n",
       "    </tr>\n",
       "    <tr>\n",
       "      <th>3</th>\n",
       "      <td>2000-04</td>\n",
       "      <td>79.64</td>\n",
       "    </tr>\n",
       "    <tr>\n",
       "      <th>4</th>\n",
       "      <td>2000-05</td>\n",
       "      <td>79.8</td>\n",
       "    </tr>\n",
       "  </tbody>\n",
       "</table>\n",
       "</div>"
      ],
      "text/plain": [
       "  mois_année ipc_menage\n",
       "0    2000-01      79.17\n",
       "1    2000-02      79.27\n",
       "2    2000-03      79.64\n",
       "3    2000-04      79.64\n",
       "4    2000-05       79.8"
      ]
     },
     "execution_count": 388,
     "metadata": {},
     "output_type": "execute_result"
    }
   ],
   "source": [
    "# On supprime les premières lignes pour que les données débutent en janvier 2000\n",
    "ipc = ipc.iloc[120:].reset_index(drop=True)\n",
    "\n",
    "ipc.head()"
   ]
  },
  {
   "cell_type": "code",
   "execution_count": 389,
   "id": "ab32138b",
   "metadata": {},
   "outputs": [
    {
     "ename": "TypeError",
     "evalue": "'method' object is not iterable",
     "output_type": "error",
     "traceback": [
      "\u001b[0;31m---------------------------------------------------------------------------\u001b[0m",
      "\u001b[0;31mTypeError\u001b[0m                                 Traceback (most recent call last)",
      "Cell \u001b[0;32mIn[389], line 1\u001b[0m\n\u001b[0;32m----> 1\u001b[0m \u001b[38;5;28;43msum\u001b[39;49m\u001b[43m(\u001b[49m\u001b[43mipc\u001b[49m\u001b[38;5;241;43m.\u001b[39;49m\u001b[43misna\u001b[49m\u001b[43m)\u001b[49m\n",
      "\u001b[0;31mTypeError\u001b[0m: 'method' object is not iterable"
     ]
    }
   ],
   "source": [
    "sum(ipc.isna)"
   ]
  },
  {
   "cell_type": "markdown",
   "id": "09fecf75",
   "metadata": {},
   "source": [
    "Téléchargement des données sur le CAC 40"
   ]
  },
  {
   "cell_type": "code",
   "execution_count": null,
   "id": "6caf7b44",
   "metadata": {},
   "outputs": [
    {
     "name": "stdout",
     "output_type": "stream",
     "text": [
      "Requirement already satisfied: yfinance in /opt/conda/lib/python3.12/site-packages (0.2.50)\n",
      "Requirement already satisfied: pandas>=1.3.0 in /opt/conda/lib/python3.12/site-packages (from yfinance) (2.2.3)\n",
      "Requirement already satisfied: numpy>=1.16.5 in /opt/conda/lib/python3.12/site-packages (from yfinance) (2.1.3)\n",
      "Requirement already satisfied: requests>=2.31 in /opt/conda/lib/python3.12/site-packages (from yfinance) (2.32.3)\n",
      "Requirement already satisfied: multitasking>=0.0.7 in /opt/conda/lib/python3.12/site-packages (from yfinance) (0.0.11)\n",
      "Requirement already satisfied: lxml>=4.9.1 in /opt/conda/lib/python3.12/site-packages (from yfinance) (5.3.0)\n",
      "Requirement already satisfied: platformdirs>=2.0.0 in /opt/conda/lib/python3.12/site-packages (from yfinance) (4.3.6)\n",
      "Requirement already satisfied: pytz>=2022.5 in /opt/conda/lib/python3.12/site-packages (from yfinance) (2024.1)\n",
      "Requirement already satisfied: frozendict>=2.3.4 in /opt/conda/lib/python3.12/site-packages (from yfinance) (2.4.6)\n",
      "Requirement already satisfied: peewee>=3.16.2 in /opt/conda/lib/python3.12/site-packages (from yfinance) (3.17.8)\n",
      "Requirement already satisfied: beautifulsoup4>=4.11.1 in /opt/conda/lib/python3.12/site-packages (from yfinance) (4.12.3)\n",
      "Requirement already satisfied: html5lib>=1.1 in /opt/conda/lib/python3.12/site-packages (from yfinance) (1.1)\n",
      "Requirement already satisfied: soupsieve>1.2 in /opt/conda/lib/python3.12/site-packages (from beautifulsoup4>=4.11.1->yfinance) (2.5)\n",
      "Requirement already satisfied: six>=1.9 in /opt/conda/lib/python3.12/site-packages (from html5lib>=1.1->yfinance) (1.16.0)\n",
      "Requirement already satisfied: webencodings in /opt/conda/lib/python3.12/site-packages (from html5lib>=1.1->yfinance) (0.5.1)\n",
      "Requirement already satisfied: python-dateutil>=2.8.2 in /opt/conda/lib/python3.12/site-packages (from pandas>=1.3.0->yfinance) (2.9.0.post0)\n",
      "Requirement already satisfied: tzdata>=2022.7 in /opt/conda/lib/python3.12/site-packages (from pandas>=1.3.0->yfinance) (2024.2)\n",
      "Requirement already satisfied: charset-normalizer<4,>=2 in /opt/conda/lib/python3.12/site-packages (from requests>=2.31->yfinance) (3.4.0)\n",
      "Requirement already satisfied: idna<4,>=2.5 in /opt/conda/lib/python3.12/site-packages (from requests>=2.31->yfinance) (3.10)\n",
      "Requirement already satisfied: urllib3<3,>=1.21.1 in /opt/conda/lib/python3.12/site-packages (from requests>=2.31->yfinance) (2.2.3)\n",
      "Requirement already satisfied: certifi>=2017.4.17 in /opt/conda/lib/python3.12/site-packages (from requests>=2.31->yfinance) (2024.8.30)\n",
      "Note: you may need to restart the kernel to use updated packages.\n"
     ]
    }
   ],
   "source": [
    "pip install yfinance\n"
   ]
  },
  {
   "cell_type": "code",
   "execution_count": null,
   "id": "82e3bf59",
   "metadata": {},
   "outputs": [
    {
     "name": "stderr",
     "output_type": "stream",
     "text": [
      "[*********************100%***********************]  1 of 1 completed\n"
     ]
    }
   ],
   "source": [
    "import yfinance as yf\n",
    "import pandas as pd\n",
    "\n",
    "# Téléchargement les données trimestrielles du CAC 40 avec l'API yfinance\n",
    "CAC40_y = \"^FCHI\"  # Symbole Yahoo Finance pour le CAC 40\n",
    "dfcac40 = yf.download(CAC40_y, start=\"2000-01-01\", interval=\"3mo\")\n",
    "\n",
    "# Sauvegarder en CSV \n",
    "dfcac40.to_csv(\"cac40_quarterly.csv\")\n"
   ]
  },
  {
   "cell_type": "markdown",
   "id": "447f9889",
   "metadata": {},
   "source": [
    "nettoyage des données du CAC40"
   ]
  },
  {
   "cell_type": "code",
   "execution_count": null,
   "id": "45992849",
   "metadata": {},
   "outputs": [],
   "source": [
    "cac40 = pd.read_csv(\"cac40_quarterly.csv\")"
   ]
  },
  {
   "cell_type": "code",
   "execution_count": null,
   "id": "7894cb1b",
   "metadata": {},
   "outputs": [
    {
     "data": {
      "text/html": [
       "<div>\n",
       "<style scoped>\n",
       "    .dataframe tbody tr th:only-of-type {\n",
       "        vertical-align: middle;\n",
       "    }\n",
       "\n",
       "    .dataframe tbody tr th {\n",
       "        vertical-align: top;\n",
       "    }\n",
       "\n",
       "    .dataframe thead th {\n",
       "        text-align: right;\n",
       "    }\n",
       "</style>\n",
       "<table border=\"1\" class=\"dataframe\">\n",
       "  <thead>\n",
       "    <tr style=\"text-align: right;\">\n",
       "      <th></th>\n",
       "      <th>Price</th>\n",
       "      <th>Adj Close</th>\n",
       "      <th>Close</th>\n",
       "      <th>High</th>\n",
       "      <th>Low</th>\n",
       "      <th>Open</th>\n",
       "      <th>Volume</th>\n",
       "    </tr>\n",
       "  </thead>\n",
       "  <tbody>\n",
       "    <tr>\n",
       "      <th>0</th>\n",
       "      <td>Ticker</td>\n",
       "      <td>^FCHI</td>\n",
       "      <td>^FCHI</td>\n",
       "      <td>^FCHI</td>\n",
       "      <td>^FCHI</td>\n",
       "      <td>^FCHI</td>\n",
       "      <td>^FCHI</td>\n",
       "    </tr>\n",
       "    <tr>\n",
       "      <th>1</th>\n",
       "      <td>Date</td>\n",
       "      <td>NaN</td>\n",
       "      <td>NaN</td>\n",
       "      <td>NaN</td>\n",
       "      <td>NaN</td>\n",
       "      <td>NaN</td>\n",
       "      <td>NaN</td>\n",
       "    </tr>\n",
       "    <tr>\n",
       "      <th>2</th>\n",
       "      <td>1999-12-01</td>\n",
       "      <td>6190.9599609375</td>\n",
       "      <td>6190.9599609375</td>\n",
       "      <td>6396.97021484375</td>\n",
       "      <td>5388.85009765625</td>\n",
       "      <td>6024.3798828125</td>\n",
       "      <td>0</td>\n",
       "    </tr>\n",
       "    <tr>\n",
       "      <th>3</th>\n",
       "      <td>2000-03-01</td>\n",
       "      <td>6426.259765625</td>\n",
       "      <td>6426.259765625</td>\n",
       "      <td>6591.43994140625</td>\n",
       "      <td>5752.43994140625</td>\n",
       "      <td>6272.1298828125</td>\n",
       "      <td>0</td>\n",
       "    </tr>\n",
       "    <tr>\n",
       "      <th>4</th>\n",
       "      <td>2000-06-01</td>\n",
       "      <td>6625.419921875</td>\n",
       "      <td>6625.419921875</td>\n",
       "      <td>6780.66015625</td>\n",
       "      <td>6354.93017578125</td>\n",
       "      <td>6428.4599609375</td>\n",
       "      <td>0</td>\n",
       "    </tr>\n",
       "  </tbody>\n",
       "</table>\n",
       "</div>"
      ],
      "text/plain": [
       "        Price        Adj Close            Close              High  \\\n",
       "0      Ticker            ^FCHI            ^FCHI             ^FCHI   \n",
       "1        Date              NaN              NaN               NaN   \n",
       "2  1999-12-01  6190.9599609375  6190.9599609375  6396.97021484375   \n",
       "3  2000-03-01   6426.259765625   6426.259765625  6591.43994140625   \n",
       "4  2000-06-01   6625.419921875   6625.419921875     6780.66015625   \n",
       "\n",
       "                Low             Open Volume  \n",
       "0             ^FCHI            ^FCHI  ^FCHI  \n",
       "1               NaN              NaN    NaN  \n",
       "2  5388.85009765625  6024.3798828125      0  \n",
       "3  5752.43994140625  6272.1298828125      0  \n",
       "4  6354.93017578125  6428.4599609375      0  "
      ]
     },
     "execution_count": 87,
     "metadata": {},
     "output_type": "execute_result"
    }
   ],
   "source": [
    "cac40.head()"
   ]
  },
  {
   "cell_type": "code",
   "execution_count": null,
   "id": "5f0437cf",
   "metadata": {},
   "outputs": [
    {
     "data": {
      "text/html": [
       "<div>\n",
       "<style scoped>\n",
       "    .dataframe tbody tr th:only-of-type {\n",
       "        vertical-align: middle;\n",
       "    }\n",
       "\n",
       "    .dataframe tbody tr th {\n",
       "        vertical-align: top;\n",
       "    }\n",
       "\n",
       "    .dataframe thead th {\n",
       "        text-align: right;\n",
       "    }\n",
       "</style>\n",
       "<table border=\"1\" class=\"dataframe\">\n",
       "  <thead>\n",
       "    <tr style=\"text-align: right;\">\n",
       "      <th></th>\n",
       "      <th>Price</th>\n",
       "      <th>Adj Close</th>\n",
       "      <th>Close</th>\n",
       "      <th>High</th>\n",
       "      <th>Low</th>\n",
       "      <th>Open</th>\n",
       "    </tr>\n",
       "  </thead>\n",
       "  <tbody>\n",
       "    <tr>\n",
       "      <th>0</th>\n",
       "      <td>1999-12-01</td>\n",
       "      <td>6190.9599609375</td>\n",
       "      <td>6190.9599609375</td>\n",
       "      <td>6396.97021484375</td>\n",
       "      <td>5388.85009765625</td>\n",
       "      <td>6024.3798828125</td>\n",
       "    </tr>\n",
       "    <tr>\n",
       "      <th>1</th>\n",
       "      <td>2000-03-01</td>\n",
       "      <td>6426.259765625</td>\n",
       "      <td>6426.259765625</td>\n",
       "      <td>6591.43994140625</td>\n",
       "      <td>5752.43994140625</td>\n",
       "      <td>6272.1298828125</td>\n",
       "    </tr>\n",
       "    <tr>\n",
       "      <th>2</th>\n",
       "      <td>2000-06-01</td>\n",
       "      <td>6625.419921875</td>\n",
       "      <td>6625.419921875</td>\n",
       "      <td>6780.66015625</td>\n",
       "      <td>6354.93017578125</td>\n",
       "      <td>6428.4599609375</td>\n",
       "    </tr>\n",
       "    <tr>\n",
       "      <th>3</th>\n",
       "      <td>2000-09-01</td>\n",
       "      <td>5928.080078125</td>\n",
       "      <td>5928.080078125</td>\n",
       "      <td>6944.77001953125</td>\n",
       "      <td>5828.14013671875</td>\n",
       "      <td>6648.64013671875</td>\n",
       "    </tr>\n",
       "    <tr>\n",
       "      <th>4</th>\n",
       "      <td>2000-12-01</td>\n",
       "      <td>5367.47998046875</td>\n",
       "      <td>5367.47998046875</td>\n",
       "      <td>6126.41015625</td>\n",
       "      <td>5302.7900390625</td>\n",
       "      <td>5942.35986328125</td>\n",
       "    </tr>\n",
       "  </tbody>\n",
       "</table>\n",
       "</div>"
      ],
      "text/plain": [
       "        Price         Adj Close             Close              High  \\\n",
       "0  1999-12-01   6190.9599609375   6190.9599609375  6396.97021484375   \n",
       "1  2000-03-01    6426.259765625    6426.259765625  6591.43994140625   \n",
       "2  2000-06-01    6625.419921875    6625.419921875     6780.66015625   \n",
       "3  2000-09-01    5928.080078125    5928.080078125  6944.77001953125   \n",
       "4  2000-12-01  5367.47998046875  5367.47998046875     6126.41015625   \n",
       "\n",
       "                Low              Open  \n",
       "0  5388.85009765625   6024.3798828125  \n",
       "1  5752.43994140625   6272.1298828125  \n",
       "2  6354.93017578125   6428.4599609375  \n",
       "3  5828.14013671875  6648.64013671875  \n",
       "4   5302.7900390625  5942.35986328125  "
      ]
     },
     "execution_count": 88,
     "metadata": {},
     "output_type": "execute_result"
    }
   ],
   "source": [
    "# Supprimer la colonne Volume\n",
    "cac40.drop(columns='Volume', inplace=True)\n",
    "\n",
    "#Supprimer les deux premières colonnes inutiles\n",
    "cac40 = cac40.iloc[2:].reset_index(drop=True)\n",
    "\n",
    "# Afficher les premières lignes du après suppression\n",
    "cac40.head()"
   ]
  },
  {
   "cell_type": "markdown",
   "id": "fe5a9136",
   "metadata": {},
   "source": [
    "Regression linéaire : prédiction du cac 40 à partir d'indicateurs macroéconomiques"
   ]
  },
  {
   "cell_type": "code",
   "execution_count": null,
   "id": "5811f245",
   "metadata": {},
   "outputs": [],
   "source": [
    "from sklearn.linear_model import LinearRegression\n",
    "from sklearn.model_selection import train_test_split\n",
    "from sklearn.metrics import mean_squared_error, r2_score"
   ]
  },
  {
   "cell_type": "code",
   "execution_count": null,
   "id": "cd3bfb0d",
   "metadata": {},
   "outputs": [
    {
     "ename": "KeyError",
     "evalue": "'Year'",
     "output_type": "error",
     "traceback": [
      "\u001b[0;31m---------------------------------------------------------------------------\u001b[0m",
      "\u001b[0;31mKeyError\u001b[0m                                  Traceback (most recent call last)",
      "File \u001b[0;32m/opt/conda/lib/python3.12/site-packages/pandas/core/indexes/base.py:3805\u001b[0m, in \u001b[0;36mIndex.get_loc\u001b[0;34m(self, key)\u001b[0m\n\u001b[1;32m   3804\u001b[0m \u001b[38;5;28;01mtry\u001b[39;00m:\n\u001b[0;32m-> 3805\u001b[0m     \u001b[38;5;28;01mreturn\u001b[39;00m \u001b[38;5;28;43mself\u001b[39;49m\u001b[38;5;241;43m.\u001b[39;49m\u001b[43m_engine\u001b[49m\u001b[38;5;241;43m.\u001b[39;49m\u001b[43mget_loc\u001b[49m\u001b[43m(\u001b[49m\u001b[43mcasted_key\u001b[49m\u001b[43m)\u001b[49m\n\u001b[1;32m   3806\u001b[0m \u001b[38;5;28;01mexcept\u001b[39;00m \u001b[38;5;167;01mKeyError\u001b[39;00m \u001b[38;5;28;01mas\u001b[39;00m err:\n",
      "File \u001b[0;32mindex.pyx:167\u001b[0m, in \u001b[0;36mpandas._libs.index.IndexEngine.get_loc\u001b[0;34m()\u001b[0m\n",
      "File \u001b[0;32mindex.pyx:196\u001b[0m, in \u001b[0;36mpandas._libs.index.IndexEngine.get_loc\u001b[0;34m()\u001b[0m\n",
      "File \u001b[0;32mpandas/_libs/hashtable_class_helper.pxi:7081\u001b[0m, in \u001b[0;36mpandas._libs.hashtable.PyObjectHashTable.get_item\u001b[0;34m()\u001b[0m\n",
      "File \u001b[0;32mpandas/_libs/hashtable_class_helper.pxi:7089\u001b[0m, in \u001b[0;36mpandas._libs.hashtable.PyObjectHashTable.get_item\u001b[0;34m()\u001b[0m\n",
      "\u001b[0;31mKeyError\u001b[0m: 'Year'",
      "\nThe above exception was the direct cause of the following exception:\n",
      "\u001b[0;31mKeyError\u001b[0m                                  Traceback (most recent call last)",
      "Cell \u001b[0;32mIn[90], line 2\u001b[0m\n\u001b[1;32m      1\u001b[0m \u001b[38;5;66;03m# Étendre les données annuelles en trimestrielles pour l'IPC\u001b[39;00m\n\u001b[0;32m----> 2\u001b[0m ipc[\u001b[38;5;124m\"\u001b[39m\u001b[38;5;124mDate\u001b[39m\u001b[38;5;124m\"\u001b[39m] \u001b[38;5;241m=\u001b[39m pd\u001b[38;5;241m.\u001b[39mto_datetime(\u001b[43mipc\u001b[49m\u001b[43m[\u001b[49m\u001b[38;5;124;43m\"\u001b[39;49m\u001b[38;5;124;43mYear\u001b[39;49m\u001b[38;5;124;43m\"\u001b[39;49m\u001b[43m]\u001b[49m, \u001b[38;5;28mformat\u001b[39m\u001b[38;5;241m=\u001b[39m\u001b[38;5;124m\"\u001b[39m\u001b[38;5;124m%\u001b[39m\u001b[38;5;124mY\u001b[39m\u001b[38;5;124m\"\u001b[39m)  \u001b[38;5;66;03m# Suppose une colonne 'Year'\u001b[39;00m\n\u001b[1;32m      3\u001b[0m ipc \u001b[38;5;241m=\u001b[39m ipc\u001b[38;5;241m.\u001b[39mset_index(\u001b[38;5;124m\"\u001b[39m\u001b[38;5;124mDate\u001b[39m\u001b[38;5;124m\"\u001b[39m)\u001b[38;5;241m.\u001b[39mresample(\u001b[38;5;124m\"\u001b[39m\u001b[38;5;124mQ\u001b[39m\u001b[38;5;124m\"\u001b[39m)\u001b[38;5;241m.\u001b[39mffill()\u001b[38;5;241m.\u001b[39mreset_index()\n\u001b[1;32m      5\u001b[0m \u001b[38;5;66;03m# Fusionner toutes les données dans un seul DataFrame\u001b[39;00m\n",
      "File \u001b[0;32m/opt/conda/lib/python3.12/site-packages/pandas/core/frame.py:4102\u001b[0m, in \u001b[0;36mDataFrame.__getitem__\u001b[0;34m(self, key)\u001b[0m\n\u001b[1;32m   4100\u001b[0m \u001b[38;5;28;01mif\u001b[39;00m \u001b[38;5;28mself\u001b[39m\u001b[38;5;241m.\u001b[39mcolumns\u001b[38;5;241m.\u001b[39mnlevels \u001b[38;5;241m>\u001b[39m \u001b[38;5;241m1\u001b[39m:\n\u001b[1;32m   4101\u001b[0m     \u001b[38;5;28;01mreturn\u001b[39;00m \u001b[38;5;28mself\u001b[39m\u001b[38;5;241m.\u001b[39m_getitem_multilevel(key)\n\u001b[0;32m-> 4102\u001b[0m indexer \u001b[38;5;241m=\u001b[39m \u001b[38;5;28;43mself\u001b[39;49m\u001b[38;5;241;43m.\u001b[39;49m\u001b[43mcolumns\u001b[49m\u001b[38;5;241;43m.\u001b[39;49m\u001b[43mget_loc\u001b[49m\u001b[43m(\u001b[49m\u001b[43mkey\u001b[49m\u001b[43m)\u001b[49m\n\u001b[1;32m   4103\u001b[0m \u001b[38;5;28;01mif\u001b[39;00m is_integer(indexer):\n\u001b[1;32m   4104\u001b[0m     indexer \u001b[38;5;241m=\u001b[39m [indexer]\n",
      "File \u001b[0;32m/opt/conda/lib/python3.12/site-packages/pandas/core/indexes/base.py:3812\u001b[0m, in \u001b[0;36mIndex.get_loc\u001b[0;34m(self, key)\u001b[0m\n\u001b[1;32m   3807\u001b[0m     \u001b[38;5;28;01mif\u001b[39;00m \u001b[38;5;28misinstance\u001b[39m(casted_key, \u001b[38;5;28mslice\u001b[39m) \u001b[38;5;129;01mor\u001b[39;00m (\n\u001b[1;32m   3808\u001b[0m         \u001b[38;5;28misinstance\u001b[39m(casted_key, abc\u001b[38;5;241m.\u001b[39mIterable)\n\u001b[1;32m   3809\u001b[0m         \u001b[38;5;129;01mand\u001b[39;00m \u001b[38;5;28many\u001b[39m(\u001b[38;5;28misinstance\u001b[39m(x, \u001b[38;5;28mslice\u001b[39m) \u001b[38;5;28;01mfor\u001b[39;00m x \u001b[38;5;129;01min\u001b[39;00m casted_key)\n\u001b[1;32m   3810\u001b[0m     ):\n\u001b[1;32m   3811\u001b[0m         \u001b[38;5;28;01mraise\u001b[39;00m InvalidIndexError(key)\n\u001b[0;32m-> 3812\u001b[0m     \u001b[38;5;28;01mraise\u001b[39;00m \u001b[38;5;167;01mKeyError\u001b[39;00m(key) \u001b[38;5;28;01mfrom\u001b[39;00m \u001b[38;5;21;01merr\u001b[39;00m\n\u001b[1;32m   3813\u001b[0m \u001b[38;5;28;01mexcept\u001b[39;00m \u001b[38;5;167;01mTypeError\u001b[39;00m:\n\u001b[1;32m   3814\u001b[0m     \u001b[38;5;66;03m# If we have a listlike key, _check_indexing_error will raise\u001b[39;00m\n\u001b[1;32m   3815\u001b[0m     \u001b[38;5;66;03m#  InvalidIndexError. Otherwise we fall through and re-raise\u001b[39;00m\n\u001b[1;32m   3816\u001b[0m     \u001b[38;5;66;03m#  the TypeError.\u001b[39;00m\n\u001b[1;32m   3817\u001b[0m     \u001b[38;5;28mself\u001b[39m\u001b[38;5;241m.\u001b[39m_check_indexing_error(key)\n",
      "\u001b[0;31mKeyError\u001b[0m: 'Year'"
     ]
    }
   ],
   "source": [
    "\n",
    "\n",
    "\n",
    "\n",
    "\n",
    "# Étendre les données annuelles en trimestrielles pour l'IPC\n",
    "ipc[\"Date\"] = pd.to_datetime(ipc[\"Year\"], format=\"%Y\")  # Suppose une colonne 'Year'\n",
    "ipc = ipc.set_index(\"Date\").resample(\"Q\").ffill().reset_index()\n",
    "\n",
    "# Fusionner toutes les données dans un seul DataFrame\n",
    "data = cac40.merge(chomage, on=\"Date\").merge(confiance_trimestriel, on=\"Date\", how=\"left\")\n",
    "data = data.merge(pib, on=\"Date\").merge(importations, on=\"Date\").merge(exportations, on=\"Date\")\n",
    "data = data.merge(consommation, on=\"Date\").merge(fbcf, on=\"Date\").merge(ipc, on=\"Date\")\n",
    "\n",
    "# Supprimer les valeurs manquantes (ou les remplir selon le besoin)\n",
    "data.dropna(inplace=True)\n",
    "\n",
    "# Étape 3 : Régression linéaire\n",
    "X = data.drop(columns=[\"CAC40\", \"Date\"])  # Variables explicatives\n",
    "y = data[\"CAC40\"]  # Variable cible\n",
    "\n",
    "# Diviser les données en ensemble d'entraînement et de test\n",
    "X_train, X_test, y_train, y_test = train_test_split(X, y, test_size=0.2, random_state=42)\n",
    "\n",
    "# Modèle de régression\n",
    "model = LinearRegression()\n",
    "model.fit(X_train, y_train)\n",
    "\n",
    "# Prédictions\n",
    "y_pred = model.predict(X_test)\n",
    "\n",
    "# Étape 4 : Évaluation\n",
    "mse = mean_squared_error(y_test, y_pred)\n",
    "r2 = r2_score(y_test, y_pred)\n",
    "\n",
    "print(f\"Mean Squared Error: {mse}\")\n",
    "print(f\"R2 Score: {r2}\")\n",
    "\n",
    "# Coefficients du modèle\n",
    "coefficients = pd.DataFrame({\"Feature\": X.columns, \"Coefficient\": model.coef_})\n",
    "print(coefficients)\n"
   ]
  }
 ],
 "metadata": {
  "kernelspec": {
   "display_name": "base",
   "language": "python",
   "name": "python3"
  },
  "language_info": {
   "codemirror_mode": {
    "name": "ipython",
    "version": 3
   },
   "file_extension": ".py",
   "mimetype": "text/x-python",
   "name": "python",
   "nbconvert_exporter": "python",
   "pygments_lexer": "ipython3",
   "version": "3.12.7"
  }
 },
 "nbformat": 4,
 "nbformat_minor": 5
}

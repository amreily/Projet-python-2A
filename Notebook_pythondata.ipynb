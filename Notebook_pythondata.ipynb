{
 "cells": [
  {
   "cell_type": "markdown",
   "id": "b4fbca64-d515-4f7f-b332-bceb5a5465ee",
   "metadata": {},
   "source": [
    "Effets des variables macroéconomiques sur le CAC 40"
   ]
  },
  {
   "cell_type": "code",
   "execution_count": 802,
   "id": "a6196c97-23a2-49c3-ba62-6c8c1e260a80",
   "metadata": {},
   "outputs": [
    {
     "name": "stdout",
     "output_type": "stream",
     "text": [
      "Requirement already satisfied: openpyxl in /opt/conda/lib/python3.12/site-packages (3.1.5)\n",
      "Requirement already satisfied: et-xmlfile in /opt/conda/lib/python3.12/site-packages (from openpyxl) (2.0.0)\n"
     ]
    }
   ],
   "source": [
    "import pandas as pd\n",
    "import numpy as np\n",
    "from datetime import datetime\n",
    "import os\n",
    "!pip install openpyxl"
   ]
  },
  {
   "cell_type": "markdown",
   "id": "6dc2b047-77d2-4c24-91df-7a0d660dd66f",
   "metadata": {},
   "source": [
    "Chargement des fichiers Excel qui forment la base de donnée"
   ]
  },
  {
   "cell_type": "code",
   "execution_count": 803,
   "id": "6ac3e61f-9839-42dc-a723-06689d1d1423",
   "metadata": {},
   "outputs": [
    {
     "name": "stderr",
     "output_type": "stream",
     "text": [
      "/opt/conda/lib/python3.12/site-packages/openpyxl/styles/stylesheet.py:237: UserWarning: Workbook contains no default style, apply openpyxl's default\n",
      "  warn(\"Workbook contains no default style, apply openpyxl's default\")\n"
     ]
    }
   ],
   "source": [
    "chomage = pd.read_excel('Chômage_depuis1975.xlsx')\n",
    "confiance = pd.read_excel('Confiance_ménages.xlsx')\n",
    "ev_pib = pd.read_excel('Evolution_PIB_trimestre.xlsx')\n",
    "ipc = pd.read_excel('ipc_menages.xlsx')"
   ]
  },
  {
   "cell_type": "markdown",
   "id": "fae4d61d-be19-4321-ace9-39e27c8dbd70",
   "metadata": {},
   "source": [
    "Nettoyage des données"
   ]
  },
  {
   "cell_type": "code",
   "execution_count": 804,
   "id": "070cb4ef-d4b3-46b0-acaa-3e199a7553ee",
   "metadata": {},
   "outputs": [
    {
     "data": {
      "text/html": [
       "<div>\n",
       "<style scoped>\n",
       "    .dataframe tbody tr th:only-of-type {\n",
       "        vertical-align: middle;\n",
       "    }\n",
       "\n",
       "    .dataframe tbody tr th {\n",
       "        vertical-align: top;\n",
       "    }\n",
       "\n",
       "    .dataframe thead th {\n",
       "        text-align: right;\n",
       "    }\n",
       "</style>\n",
       "<table border=\"1\" class=\"dataframe\">\n",
       "  <thead>\n",
       "    <tr style=\"text-align: right;\">\n",
       "      <th></th>\n",
       "      <th>Tableau 1. Taux de chômage trimestriel au sens du BIT en France (hors Mayotte) par sexe et âge</th>\n",
       "      <th>Unnamed: 1</th>\n",
       "      <th>Unnamed: 2</th>\n",
       "      <th>Unnamed: 3</th>\n",
       "      <th>Unnamed: 4</th>\n",
       "      <th>Unnamed: 5</th>\n",
       "      <th>Unnamed: 6</th>\n",
       "      <th>Unnamed: 7</th>\n",
       "      <th>Unnamed: 8</th>\n",
       "      <th>Unnamed: 9</th>\n",
       "      <th>Unnamed: 10</th>\n",
       "      <th>Unnamed: 11</th>\n",
       "      <th>Unnamed: 12</th>\n",
       "      <th>Unnamed: 13</th>\n",
       "    </tr>\n",
       "  </thead>\n",
       "  <tbody>\n",
       "    <tr>\n",
       "      <th>0</th>\n",
       "      <td>Données CVS en moyenne trimestrielle, en %</td>\n",
       "      <td>NaN</td>\n",
       "      <td>NaN</td>\n",
       "      <td>NaN</td>\n",
       "      <td>NaN</td>\n",
       "      <td>NaN</td>\n",
       "      <td>NaN</td>\n",
       "      <td>NaN</td>\n",
       "      <td>NaN</td>\n",
       "      <td>NaN</td>\n",
       "      <td>NaN</td>\n",
       "      <td>NaN</td>\n",
       "      <td>NaN</td>\n",
       "      <td>NaN</td>\n",
       "    </tr>\n",
       "    <tr>\n",
       "      <th>1</th>\n",
       "      <td>NaN</td>\n",
       "      <td>NaN</td>\n",
       "      <td>NaN</td>\n",
       "      <td>NaN</td>\n",
       "      <td>NaN</td>\n",
       "      <td>NaN</td>\n",
       "      <td>NaN</td>\n",
       "      <td>NaN</td>\n",
       "      <td>NaN</td>\n",
       "      <td>NaN</td>\n",
       "      <td>NaN</td>\n",
       "      <td>NaN</td>\n",
       "      <td>NaN</td>\n",
       "      <td>NaN</td>\n",
       "    </tr>\n",
       "    <tr>\n",
       "      <th>2</th>\n",
       "      <td>En jaune : Les séries ont été constituées à pa...</td>\n",
       "      <td>NaN</td>\n",
       "      <td>NaN</td>\n",
       "      <td>NaN</td>\n",
       "      <td>NaN</td>\n",
       "      <td>NaN</td>\n",
       "      <td>NaN</td>\n",
       "      <td>NaN</td>\n",
       "      <td>NaN</td>\n",
       "      <td>NaN</td>\n",
       "      <td>NaN</td>\n",
       "      <td>NaN</td>\n",
       "      <td>NaN</td>\n",
       "      <td>NaN</td>\n",
       "    </tr>\n",
       "    <tr>\n",
       "      <th>3</th>\n",
       "      <td>NaN</td>\n",
       "      <td>HOMMES (%)</td>\n",
       "      <td>NaN</td>\n",
       "      <td>NaN</td>\n",
       "      <td>NaN</td>\n",
       "      <td>FEMMES (%)</td>\n",
       "      <td>NaN</td>\n",
       "      <td>NaN</td>\n",
       "      <td>NaN</td>\n",
       "      <td>TOTAL (%)</td>\n",
       "      <td>NaN</td>\n",
       "      <td>NaN</td>\n",
       "      <td>NaN</td>\n",
       "      <td>Nombre de chômeurs</td>\n",
       "    </tr>\n",
       "    <tr>\n",
       "      <th>4</th>\n",
       "      <td>trimestre.année</td>\n",
       "      <td>Âge</td>\n",
       "      <td>NaN</td>\n",
       "      <td>NaN</td>\n",
       "      <td>Total</td>\n",
       "      <td>Âge</td>\n",
       "      <td>NaN</td>\n",
       "      <td>NaN</td>\n",
       "      <td>Total</td>\n",
       "      <td>Âge</td>\n",
       "      <td>NaN</td>\n",
       "      <td>NaN</td>\n",
       "      <td>Total</td>\n",
       "      <td>NaN</td>\n",
       "    </tr>\n",
       "  </tbody>\n",
       "</table>\n",
       "</div>"
      ],
      "text/plain": [
       "  Tableau 1. Taux de chômage trimestriel au sens du BIT en France (hors Mayotte) par sexe et âge  \\\n",
       "0         Données CVS en moyenne trimestrielle, en %                                               \n",
       "1                                                NaN                                               \n",
       "2  En jaune : Les séries ont été constituées à pa...                                               \n",
       "3                                                NaN                                               \n",
       "4                                    trimestre.année                                               \n",
       "\n",
       "   Unnamed: 1 Unnamed: 2 Unnamed: 3 Unnamed: 4  Unnamed: 5 Unnamed: 6  \\\n",
       "0         NaN        NaN        NaN        NaN         NaN        NaN   \n",
       "1         NaN        NaN        NaN        NaN         NaN        NaN   \n",
       "2         NaN        NaN        NaN        NaN         NaN        NaN   \n",
       "3  HOMMES (%)        NaN        NaN        NaN  FEMMES (%)        NaN   \n",
       "4         Âge        NaN        NaN      Total         Âge        NaN   \n",
       "\n",
       "  Unnamed: 7 Unnamed: 8 Unnamed: 9 Unnamed: 10 Unnamed: 11 Unnamed: 12  \\\n",
       "0        NaN        NaN        NaN         NaN         NaN         NaN   \n",
       "1        NaN        NaN        NaN         NaN         NaN         NaN   \n",
       "2        NaN        NaN        NaN         NaN         NaN         NaN   \n",
       "3        NaN        NaN  TOTAL (%)         NaN         NaN         NaN   \n",
       "4        NaN      Total        Âge         NaN         NaN       Total   \n",
       "\n",
       "          Unnamed: 13  \n",
       "0                 NaN  \n",
       "1                 NaN  \n",
       "2                 NaN  \n",
       "3  Nombre de chômeurs  \n",
       "4                 NaN  "
      ]
     },
     "execution_count": 804,
     "metadata": {},
     "output_type": "execute_result"
    }
   ],
   "source": [
    "chomage.head()"
   ]
  },
  {
   "cell_type": "code",
   "execution_count": 805,
   "id": "ce05b85d-7a6f-466b-9a4f-d5729328d982",
   "metadata": {},
   "outputs": [],
   "source": [
    "# Renommer les colonnes à utiliser\n",
    "chomage.rename(columns={'Unnamed: 12': 'taux_chomage'}, inplace=True)\n",
    "chomage.rename(columns={'Tableau 1. Taux de chômage trimestriel au sens du BIT en France (hors Mayotte) par sexe et âge': 'trimestre'}, inplace=True) "
   ]
  },
  {
   "cell_type": "code",
   "execution_count": 806,
   "id": "ff7f037d-0180-4e92-8161-a809377bcd5a",
   "metadata": {},
   "outputs": [
    {
     "name": "stdout",
     "output_type": "stream",
     "text": [
      "Index(['trimestre', 'Unnamed: 1', 'Unnamed: 2', 'Unnamed: 3', 'Unnamed: 4',\n",
      "       'Unnamed: 5', 'Unnamed: 6', 'Unnamed: 7', 'Unnamed: 8', 'Unnamed: 9',\n",
      "       'Unnamed: 10', 'Unnamed: 11', 'taux_chomage', 'Unnamed: 13'],\n",
      "      dtype='object')\n"
     ]
    }
   ],
   "source": [
    "print(chomage.columns)"
   ]
  },
  {
   "cell_type": "code",
   "execution_count": 807,
   "id": "20d71c63-42c7-4cb3-83b7-1251b4460dff",
   "metadata": {},
   "outputs": [
    {
     "data": {
      "text/html": [
       "<div>\n",
       "<style scoped>\n",
       "    .dataframe tbody tr th:only-of-type {\n",
       "        vertical-align: middle;\n",
       "    }\n",
       "\n",
       "    .dataframe tbody tr th {\n",
       "        vertical-align: top;\n",
       "    }\n",
       "\n",
       "    .dataframe thead th {\n",
       "        text-align: right;\n",
       "    }\n",
       "</style>\n",
       "<table border=\"1\" class=\"dataframe\">\n",
       "  <thead>\n",
       "    <tr style=\"text-align: right;\">\n",
       "      <th></th>\n",
       "      <th>trimestre</th>\n",
       "      <th>taux_chomage</th>\n",
       "    </tr>\n",
       "  </thead>\n",
       "  <tbody>\n",
       "    <tr>\n",
       "      <th>0</th>\n",
       "      <td>Données CVS en moyenne trimestrielle, en %</td>\n",
       "      <td>NaN</td>\n",
       "    </tr>\n",
       "    <tr>\n",
       "      <th>1</th>\n",
       "      <td>NaN</td>\n",
       "      <td>NaN</td>\n",
       "    </tr>\n",
       "    <tr>\n",
       "      <th>2</th>\n",
       "      <td>En jaune : Les séries ont été constituées à pa...</td>\n",
       "      <td>NaN</td>\n",
       "    </tr>\n",
       "    <tr>\n",
       "      <th>3</th>\n",
       "      <td>NaN</td>\n",
       "      <td>NaN</td>\n",
       "    </tr>\n",
       "    <tr>\n",
       "      <th>4</th>\n",
       "      <td>trimestre.année</td>\n",
       "      <td>Total</td>\n",
       "    </tr>\n",
       "    <tr>\n",
       "      <th>...</th>\n",
       "      <td>...</td>\n",
       "      <td>...</td>\n",
       "    </tr>\n",
       "    <tr>\n",
       "      <th>203</th>\n",
       "      <td>T2.2024</td>\n",
       "      <td>7.3</td>\n",
       "    </tr>\n",
       "    <tr>\n",
       "      <th>204</th>\n",
       "      <td>T3.2024</td>\n",
       "      <td>7.4</td>\n",
       "    </tr>\n",
       "    <tr>\n",
       "      <th>205</th>\n",
       "      <td>NaN</td>\n",
       "      <td>NaN</td>\n",
       "    </tr>\n",
       "    <tr>\n",
       "      <th>206</th>\n",
       "      <td>Champ : France hors Mayotte, personnes vivant ...</td>\n",
       "      <td>NaN</td>\n",
       "    </tr>\n",
       "    <tr>\n",
       "      <th>207</th>\n",
       "      <td>Source : Insee, enquête Emploi</td>\n",
       "      <td>NaN</td>\n",
       "    </tr>\n",
       "  </tbody>\n",
       "</table>\n",
       "<p>208 rows × 2 columns</p>\n",
       "</div>"
      ],
      "text/plain": [
       "                                             trimestre taux_chomage\n",
       "0           Données CVS en moyenne trimestrielle, en %          NaN\n",
       "1                                                  NaN          NaN\n",
       "2    En jaune : Les séries ont été constituées à pa...          NaN\n",
       "3                                                  NaN          NaN\n",
       "4                                      trimestre.année        Total\n",
       "..                                                 ...          ...\n",
       "203                                            T2.2024          7.3\n",
       "204                                            T3.2024          7.4\n",
       "205                                                NaN          NaN\n",
       "206  Champ : France hors Mayotte, personnes vivant ...          NaN\n",
       "207                     Source : Insee, enquête Emploi          NaN\n",
       "\n",
       "[208 rows x 2 columns]"
      ]
     },
     "execution_count": 807,
     "metadata": {},
     "output_type": "execute_result"
    }
   ],
   "source": [
    "# Supprimer les colonnes inutiles\n",
    "chomage.drop(columns=[ 'Unnamed: 1', 'Unnamed: 2', 'Unnamed: 3', 'Unnamed: 4', \n",
    "    'Unnamed: 5', 'Unnamed: 6', 'Unnamed: 7', 'Unnamed: 8', \n",
    "    'Unnamed: 9', 'Unnamed: 10', 'Unnamed: 11', 'Unnamed: 13'], inplace=True)\n",
    "\n",
    "# Afficher la table après suppression\n",
    "chomage"
   ]
  },
  {
   "cell_type": "code",
   "execution_count": 808,
   "id": "ec1f31d7-db83-407c-b6b3-84c1615a6be5",
   "metadata": {},
   "outputs": [
    {
     "name": "stdout",
     "output_type": "stream",
     "text": [
      "Index([106], dtype='int64')\n"
     ]
    }
   ],
   "source": [
    "# Trouver l'index de la valeur 'T1.2000' dans la colonne 'trimestre'\n",
    "index_t1_2000 = chomage[chomage['trimestre'] == 'T1.2000'].index\n",
    "\n",
    "# Afficher l'index\n",
    "print(index_t1_2000)\n"
   ]
  },
  {
   "cell_type": "code",
   "execution_count": 809,
   "id": "1b16a3ec-90eb-4c96-8c4c-7dca0721a277",
   "metadata": {},
   "outputs": [
    {
     "data": {
      "text/html": [
       "<div>\n",
       "<style scoped>\n",
       "    .dataframe tbody tr th:only-of-type {\n",
       "        vertical-align: middle;\n",
       "    }\n",
       "\n",
       "    .dataframe tbody tr th {\n",
       "        vertical-align: top;\n",
       "    }\n",
       "\n",
       "    .dataframe thead th {\n",
       "        text-align: right;\n",
       "    }\n",
       "</style>\n",
       "<table border=\"1\" class=\"dataframe\">\n",
       "  <thead>\n",
       "    <tr style=\"text-align: right;\">\n",
       "      <th></th>\n",
       "      <th>trimestre</th>\n",
       "      <th>taux_chomage</th>\n",
       "    </tr>\n",
       "  </thead>\n",
       "  <tbody>\n",
       "    <tr>\n",
       "      <th>0</th>\n",
       "      <td>T1.2000</td>\n",
       "      <td>9.1</td>\n",
       "    </tr>\n",
       "    <tr>\n",
       "      <th>1</th>\n",
       "      <td>T2.2000</td>\n",
       "      <td>8.7</td>\n",
       "    </tr>\n",
       "    <tr>\n",
       "      <th>2</th>\n",
       "      <td>T3.2000</td>\n",
       "      <td>8.4</td>\n",
       "    </tr>\n",
       "    <tr>\n",
       "      <th>3</th>\n",
       "      <td>T4.2000</td>\n",
       "      <td>8</td>\n",
       "    </tr>\n",
       "    <tr>\n",
       "      <th>4</th>\n",
       "      <td>T1.2001</td>\n",
       "      <td>7.8</td>\n",
       "    </tr>\n",
       "  </tbody>\n",
       "</table>\n",
       "</div>"
      ],
      "text/plain": [
       "  trimestre taux_chomage\n",
       "0   T1.2000          9.1\n",
       "1   T2.2000          8.7\n",
       "2   T3.2000          8.4\n",
       "3   T4.2000            8\n",
       "4   T1.2001          7.8"
      ]
     },
     "execution_count": 809,
     "metadata": {},
     "output_type": "execute_result"
    }
   ],
   "source": [
    "# On supprime les premières lignes inutiles pour que les données débutent au premier trimestre  \n",
    "chomage = chomage.iloc[106:].reset_index(drop=True)\n",
    "\n",
    "# Afficher les premieres lignes des données nettoyées\n",
    "chomage.head()\n"
   ]
  },
  {
   "cell_type": "code",
   "execution_count": 810,
   "id": "366375b8",
   "metadata": {},
   "outputs": [
    {
     "name": "stdout",
     "output_type": "stream",
     "text": [
      "0                                                T1.2000\n",
      "1                                                T2.2000\n",
      "2                                                T3.2000\n",
      "3                                                T4.2000\n",
      "4                                                T1.2001\n",
      "                             ...                        \n",
      "97                                               T2.2024\n",
      "98                                               T3.2024\n",
      "99                                                   NaN\n",
      "100    Champ : France hors Mayotte, personnes vivant ...\n",
      "101                       Source : Insee, enquête Emploi\n",
      "Name: trimestre, Length: 102, dtype: object\n"
     ]
    }
   ],
   "source": [
    "print(chomage.trimestre)"
   ]
  },
  {
   "cell_type": "code",
   "execution_count": 811,
   "id": "a71321fa",
   "metadata": {},
   "outputs": [
    {
     "name": "stdout",
     "output_type": "stream",
     "text": [
      "                                             trimestre taux_chomage\n",
      "99                                                 NaN          NaN\n",
      "100  Champ : France hors Mayotte, personnes vivant ...          NaN\n",
      "101                     Source : Insee, enquête Emploi          NaN\n"
     ]
    }
   ],
   "source": [
    "#Déterminuer où sont situés les NaN s'il y en a\n",
    "print(chomage[chomage.isna().any(axis=1)])"
   ]
  },
  {
   "cell_type": "code",
   "execution_count": 812,
   "id": "77ac675f",
   "metadata": {},
   "outputs": [
    {
     "name": "stdout",
     "output_type": "stream",
     "text": [
      "trimestre       0\n",
      "taux_chomage    0\n",
      "dtype: int64\n"
     ]
    }
   ],
   "source": [
    "# Supprimer les lignes contenant des NaN car elles ne comportent pas de données\n",
    "chomage = chomage.dropna()\n",
    "\n",
    "# Vérifier le résultat\n",
    "print(chomage.isna().sum())  "
   ]
  },
  {
   "cell_type": "markdown",
   "id": "4346c863-4895-4123-8e65-8d6aeafa100e",
   "metadata": {},
   "source": [
    "Nettoyage des données sur la confiance "
   ]
  },
  {
   "cell_type": "code",
   "execution_count": 813,
   "id": "034f2816-2ed9-473d-a5ad-810f61862f4b",
   "metadata": {},
   "outputs": [
    {
     "data": {
      "text/html": [
       "<div>\n",
       "<style scoped>\n",
       "    .dataframe tbody tr th:only-of-type {\n",
       "        vertical-align: middle;\n",
       "    }\n",
       "\n",
       "    .dataframe tbody tr th {\n",
       "        vertical-align: top;\n",
       "    }\n",
       "\n",
       "    .dataframe thead th {\n",
       "        text-align: right;\n",
       "    }\n",
       "</style>\n",
       "<table border=\"1\" class=\"dataframe\">\n",
       "  <thead>\n",
       "    <tr style=\"text-align: right;\">\n",
       "      <th></th>\n",
       "      <th>Opinion des ménages-Monthly confidence consumer survey</th>\n",
       "      <th>Unnamed: 1</th>\n",
       "      <th>Unnamed: 2</th>\n",
       "      <th>Unnamed: 3</th>\n",
       "      <th>Unnamed: 4</th>\n",
       "      <th>Unnamed: 5</th>\n",
       "      <th>Unnamed: 6</th>\n",
       "      <th>Unnamed: 7</th>\n",
       "      <th>Unnamed: 8</th>\n",
       "      <th>Unnamed: 9</th>\n",
       "      <th>Unnamed: 10</th>\n",
       "      <th>Unnamed: 11</th>\n",
       "      <th>Unnamed: 12</th>\n",
       "    </tr>\n",
       "  </thead>\n",
       "  <tbody>\n",
       "    <tr>\n",
       "      <th>0</th>\n",
       "      <td>Données corrigées des variations saisonnières-...</td>\n",
       "      <td>NaN</td>\n",
       "      <td>NaN</td>\n",
       "      <td>NaN</td>\n",
       "      <td>NaN</td>\n",
       "      <td>NaN</td>\n",
       "      <td>NaN</td>\n",
       "      <td>NaN</td>\n",
       "      <td>NaN</td>\n",
       "      <td>NaN</td>\n",
       "      <td>NaN</td>\n",
       "      <td>NaN</td>\n",
       "      <td>NaN</td>\n",
       "    </tr>\n",
       "    <tr>\n",
       "      <th>1</th>\n",
       "      <td>NaN</td>\n",
       "      <td>NaN</td>\n",
       "      <td>NaN</td>\n",
       "      <td>NaN</td>\n",
       "      <td>NaN</td>\n",
       "      <td>NaN</td>\n",
       "      <td>NaN</td>\n",
       "      <td>NaN</td>\n",
       "      <td>NaN</td>\n",
       "      <td>NaN</td>\n",
       "      <td>NaN</td>\n",
       "      <td>NaN</td>\n",
       "      <td>NaN</td>\n",
       "    </tr>\n",
       "    <tr>\n",
       "      <th>2</th>\n",
       "      <td>DATE</td>\n",
       "      <td>Indicateur synthétique</td>\n",
       "      <td>Niveau de vie en France - évolution passée</td>\n",
       "      <td>Niveau de vie en France - perspectives d'évolu...</td>\n",
       "      <td>Chômage - perspectives d'évolution</td>\n",
       "      <td>Prix - évolution passée</td>\n",
       "      <td>Prix - perspectives d'évolution</td>\n",
       "      <td>Opportunité de faire des achats importants</td>\n",
       "      <td>Opportunité d'épargner</td>\n",
       "      <td>Capacité d'épargne actuelle</td>\n",
       "      <td>Situation financière personnelle - évolution p...</td>\n",
       "      <td>Situation financière personnelle - perspective...</td>\n",
       "      <td>Capacité d'épargne future</td>\n",
       "    </tr>\n",
       "    <tr>\n",
       "      <th>3</th>\n",
       "      <td>NaN</td>\n",
       "      <td>Synthetic index</td>\n",
       "      <td>General economic situation, past 12 months</td>\n",
       "      <td>General economic situation, next 12 months</td>\n",
       "      <td>Unemployment, next 12 months</td>\n",
       "      <td>Consumer prices, past 12 months</td>\n",
       "      <td>Consumer prices, next 12 months</td>\n",
       "      <td>Major purchases intentions, next 12 months</td>\n",
       "      <td>Savings intentions, next 12 months</td>\n",
       "      <td>Current saving capacity</td>\n",
       "      <td>Financial situation, past 12 months</td>\n",
       "      <td>Financial situation, next 12 months</td>\n",
       "      <td>Expected saving capacity</td>\n",
       "    </tr>\n",
       "    <tr>\n",
       "      <th>4</th>\n",
       "      <td>moyenne/average</td>\n",
       "      <td>100</td>\n",
       "      <td>-47.749835</td>\n",
       "      <td>-27.733798</td>\n",
       "      <td>32.585969</td>\n",
       "      <td>-13.383858</td>\n",
       "      <td>-31.095762</td>\n",
       "      <td>-15.188091</td>\n",
       "      <td>18.029779</td>\n",
       "      <td>9.656539</td>\n",
       "      <td>-20.980754</td>\n",
       "      <td>-6.560103</td>\n",
       "      <td>-7.110802</td>\n",
       "    </tr>\n",
       "  </tbody>\n",
       "</table>\n",
       "</div>"
      ],
      "text/plain": [
       "  Opinion des ménages-Monthly confidence consumer survey  \\\n",
       "0  Données corrigées des variations saisonnières-...       \n",
       "1                                                NaN       \n",
       "2                                               DATE       \n",
       "3                                                NaN       \n",
       "4                                    moyenne/average       \n",
       "\n",
       "               Unnamed: 1                                   Unnamed: 2  \\\n",
       "0                     NaN                                          NaN   \n",
       "1                     NaN                                          NaN   \n",
       "2  Indicateur synthétique   Niveau de vie en France - évolution passée   \n",
       "3         Synthetic index  General economic situation, past 12 months    \n",
       "4                     100                                   -47.749835   \n",
       "\n",
       "                                          Unnamed: 3  \\\n",
       "0                                                NaN   \n",
       "1                                                NaN   \n",
       "2  Niveau de vie en France - perspectives d'évolu...   \n",
       "3         General economic situation, next 12 months   \n",
       "4                                         -27.733798   \n",
       "\n",
       "                           Unnamed: 4                       Unnamed: 5  \\\n",
       "0                                 NaN                              NaN   \n",
       "1                                 NaN                              NaN   \n",
       "2  Chômage - perspectives d'évolution          Prix - évolution passée   \n",
       "3        Unemployment, next 12 months  Consumer prices, past 12 months   \n",
       "4                           32.585969                       -13.383858   \n",
       "\n",
       "                        Unnamed: 6  \\\n",
       "0                              NaN   \n",
       "1                              NaN   \n",
       "2  Prix - perspectives d'évolution   \n",
       "3  Consumer prices, next 12 months   \n",
       "4                       -31.095762   \n",
       "\n",
       "                                   Unnamed: 7  \\\n",
       "0                                         NaN   \n",
       "1                                         NaN   \n",
       "2  Opportunité de faire des achats importants   \n",
       "3  Major purchases intentions, next 12 months   \n",
       "4                                  -15.188091   \n",
       "\n",
       "                           Unnamed: 8                   Unnamed: 9  \\\n",
       "0                                 NaN                          NaN   \n",
       "1                                 NaN                          NaN   \n",
       "2              Opportunité d'épargner  Capacité d'épargne actuelle   \n",
       "3  Savings intentions, next 12 months      Current saving capacity   \n",
       "4                           18.029779                     9.656539   \n",
       "\n",
       "                                         Unnamed: 10  \\\n",
       "0                                                NaN   \n",
       "1                                                NaN   \n",
       "2  Situation financière personnelle - évolution p...   \n",
       "3               Financial situation, past 12 months    \n",
       "4                                         -20.980754   \n",
       "\n",
       "                                         Unnamed: 11  \\\n",
       "0                                                NaN   \n",
       "1                                                NaN   \n",
       "2  Situation financière personnelle - perspective...   \n",
       "3               Financial situation, next 12 months    \n",
       "4                                          -6.560103   \n",
       "\n",
       "                 Unnamed: 12  \n",
       "0                        NaN  \n",
       "1                        NaN  \n",
       "2  Capacité d'épargne future  \n",
       "3   Expected saving capacity  \n",
       "4                  -7.110802  "
      ]
     },
     "execution_count": 813,
     "metadata": {},
     "output_type": "execute_result"
    }
   ],
   "source": [
    "confiance.head()"
   ]
  },
  {
   "cell_type": "code",
   "execution_count": 814,
   "id": "96ae25f2-4656-4ac6-aff2-8512e1a4d39c",
   "metadata": {},
   "outputs": [],
   "source": [
    "# Renommer les colonnes à utiliser\n",
    "confiance.rename(columns={'Unnamed: 1': 'indic_confiance'}, inplace=True)\n",
    "confiance.rename(columns={'Opinion des ménages-Monthly confidence consumer survey': 'date'}, inplace=True) "
   ]
  },
  {
   "cell_type": "code",
   "execution_count": 815,
   "id": "33cf1e71-313d-4cfa-8a75-210b2a951030",
   "metadata": {},
   "outputs": [
    {
     "name": "stdout",
     "output_type": "stream",
     "text": [
      "Index(['date', 'indic_confiance', 'Unnamed: 2', 'Unnamed: 3', 'Unnamed: 4',\n",
      "       'Unnamed: 5', 'Unnamed: 6', 'Unnamed: 7', 'Unnamed: 8', 'Unnamed: 9',\n",
      "       'Unnamed: 10', 'Unnamed: 11', 'Unnamed: 12'],\n",
      "      dtype='object')\n"
     ]
    }
   ],
   "source": [
    "print(confiance.columns)"
   ]
  },
  {
   "cell_type": "code",
   "execution_count": 816,
   "id": "e345343b-a781-45fc-82ae-e48fa3c83ec9",
   "metadata": {},
   "outputs": [],
   "source": [
    "# Supprimer les colonnes inutiles pour notre analyse\n",
    "confiance.drop(columns=['Unnamed: 2', 'Unnamed: 3', 'Unnamed: 4',\n",
    "       'Unnamed: 5', 'Unnamed: 6', 'Unnamed: 7', 'Unnamed: 8', 'Unnamed: 9',\n",
    "       'Unnamed: 10', 'Unnamed: 11', 'Unnamed: 12'], inplace=True)"
   ]
  },
  {
   "cell_type": "code",
   "execution_count": 817,
   "id": "e8832c0d-71a6-4459-9cb1-5154691cea0d",
   "metadata": {},
   "outputs": [
    {
     "name": "stderr",
     "output_type": "stream",
     "text": [
      "/tmp/ipykernel_55153/3570054967.py:2: UserWarning: Could not infer format, so each element will be parsed individually, falling back to `dateutil`. To ensure parsing is consistent and as-expected, please specify a format.\n",
      "  confiance['date'] = pd.to_datetime(confiance['date'], errors='coerce')\n"
     ]
    },
    {
     "data": {
      "text/html": [
       "<div>\n",
       "<style scoped>\n",
       "    .dataframe tbody tr th:only-of-type {\n",
       "        vertical-align: middle;\n",
       "    }\n",
       "\n",
       "    .dataframe tbody tr th {\n",
       "        vertical-align: top;\n",
       "    }\n",
       "\n",
       "    .dataframe thead th {\n",
       "        text-align: right;\n",
       "    }\n",
       "</style>\n",
       "<table border=\"1\" class=\"dataframe\">\n",
       "  <thead>\n",
       "    <tr style=\"text-align: right;\">\n",
       "      <th></th>\n",
       "      <th>date</th>\n",
       "      <th>indic_confiance</th>\n",
       "    </tr>\n",
       "  </thead>\n",
       "  <tbody>\n",
       "    <tr>\n",
       "      <th>204</th>\n",
       "      <td>2000-01-01</td>\n",
       "      <td>119.186742</td>\n",
       "    </tr>\n",
       "    <tr>\n",
       "      <th>205</th>\n",
       "      <td>2000-02-01</td>\n",
       "      <td>119.010085</td>\n",
       "    </tr>\n",
       "    <tr>\n",
       "      <th>206</th>\n",
       "      <td>2000-03-01</td>\n",
       "      <td>119.930046</td>\n",
       "    </tr>\n",
       "    <tr>\n",
       "      <th>207</th>\n",
       "      <td>2000-04-01</td>\n",
       "      <td>122.586881</td>\n",
       "    </tr>\n",
       "    <tr>\n",
       "      <th>208</th>\n",
       "      <td>2000-05-01</td>\n",
       "      <td>122.625812</td>\n",
       "    </tr>\n",
       "  </tbody>\n",
       "</table>\n",
       "</div>"
      ],
      "text/plain": [
       "          date indic_confiance\n",
       "204 2000-01-01      119.186742\n",
       "205 2000-02-01      119.010085\n",
       "206 2000-03-01      119.930046\n",
       "207 2000-04-01      122.586881\n",
       "208 2000-05-01      122.625812"
      ]
     },
     "execution_count": 817,
     "metadata": {},
     "output_type": "execute_result"
    }
   ],
   "source": [
    "# S'assurer que la colonne 'date' est au format datetime\n",
    "confiance['date'] = pd.to_datetime(confiance['date'], errors='coerce')\n",
    "\n",
    "# Filtrer les données à partir de janvier 2000\n",
    "confiance =confiance[confiance['date'] >= '2000-01-01']\n",
    "\n",
    "# Afficher les premières lignes des données filtrées\n",
    "confiance.head()"
   ]
  },
  {
   "cell_type": "code",
   "execution_count": 818,
   "id": "416332f1",
   "metadata": {},
   "outputs": [
    {
     "data": {
      "text/html": [
       "<div>\n",
       "<style scoped>\n",
       "    .dataframe tbody tr th:only-of-type {\n",
       "        vertical-align: middle;\n",
       "    }\n",
       "\n",
       "    .dataframe tbody tr th {\n",
       "        vertical-align: top;\n",
       "    }\n",
       "\n",
       "    .dataframe thead th {\n",
       "        text-align: right;\n",
       "    }\n",
       "</style>\n",
       "<table border=\"1\" class=\"dataframe\">\n",
       "  <thead>\n",
       "    <tr style=\"text-align: right;\">\n",
       "      <th></th>\n",
       "      <th>trimestre</th>\n",
       "      <th>indic_confiance</th>\n",
       "    </tr>\n",
       "  </thead>\n",
       "  <tbody>\n",
       "    <tr>\n",
       "      <th>0</th>\n",
       "      <td>2000-03-31</td>\n",
       "      <td>119.375624</td>\n",
       "    </tr>\n",
       "    <tr>\n",
       "      <th>1</th>\n",
       "      <td>2000-06-30</td>\n",
       "      <td>122.715558</td>\n",
       "    </tr>\n",
       "    <tr>\n",
       "      <th>2</th>\n",
       "      <td>2000-09-30</td>\n",
       "      <td>121.334655</td>\n",
       "    </tr>\n",
       "    <tr>\n",
       "      <th>3</th>\n",
       "      <td>2000-12-31</td>\n",
       "      <td>121.035423</td>\n",
       "    </tr>\n",
       "    <tr>\n",
       "      <th>4</th>\n",
       "      <td>2001-03-31</td>\n",
       "      <td>124.096635</td>\n",
       "    </tr>\n",
       "  </tbody>\n",
       "</table>\n",
       "</div>"
      ],
      "text/plain": [
       "   trimestre indic_confiance\n",
       "0 2000-03-31      119.375624\n",
       "1 2000-06-30      122.715558\n",
       "2 2000-09-30      121.334655\n",
       "3 2000-12-31      121.035423\n",
       "4 2001-03-31      124.096635"
      ]
     },
     "execution_count": 818,
     "metadata": {},
     "output_type": "execute_result"
    }
   ],
   "source": [
    "# Convertir les données journalières en trimestrielles (moyenne trimestrielle)\n",
    "confiance[\"date\"] = pd.to_datetime(confiance[\"date\"])\n",
    "confiance.set_index(\"date\", inplace=True)\n",
    "confiance = confiance.resample(\"QE\").mean()\n",
    "\n",
    "#Réinitialisation de la colonne date et changement de nom\n",
    "confiance = confiance.reset_index()\n",
    "confiance.rename(columns={'date': 'trimestre'}, inplace=True) \n",
    "\n",
    "#Vérification\n",
    "confiance.head()"
   ]
  },
  {
   "cell_type": "code",
   "execution_count": 819,
   "id": "cdbd5bfd",
   "metadata": {},
   "outputs": [
    {
     "name": "stdout",
     "output_type": "stream",
     "text": [
      "0    2000-03-31\n",
      "1    2000-06-30\n",
      "2    2000-09-30\n",
      "3    2000-12-31\n",
      "4    2001-03-31\n",
      "        ...    \n",
      "95   2023-12-31\n",
      "96   2024-03-31\n",
      "97   2024-06-30\n",
      "98   2024-09-30\n",
      "99   2024-12-31\n",
      "Name: trimestre, Length: 100, dtype: datetime64[ns]\n"
     ]
    }
   ],
   "source": [
    "print(confiance.trimestre)"
   ]
  },
  {
   "cell_type": "code",
   "execution_count": 820,
   "id": "cc6987ce",
   "metadata": {},
   "outputs": [
    {
     "data": {
      "text/html": [
       "<div>\n",
       "<style scoped>\n",
       "    .dataframe tbody tr th:only-of-type {\n",
       "        vertical-align: middle;\n",
       "    }\n",
       "\n",
       "    .dataframe tbody tr th {\n",
       "        vertical-align: top;\n",
       "    }\n",
       "\n",
       "    .dataframe thead th {\n",
       "        text-align: right;\n",
       "    }\n",
       "</style>\n",
       "<table border=\"1\" class=\"dataframe\">\n",
       "  <thead>\n",
       "    <tr style=\"text-align: right;\">\n",
       "      <th></th>\n",
       "      <th>trimestre</th>\n",
       "      <th>indic_confiance</th>\n",
       "    </tr>\n",
       "  </thead>\n",
       "  <tbody>\n",
       "    <tr>\n",
       "      <th>0</th>\n",
       "      <td>T1.2000</td>\n",
       "      <td>119.375624</td>\n",
       "    </tr>\n",
       "    <tr>\n",
       "      <th>1</th>\n",
       "      <td>T2.2000</td>\n",
       "      <td>122.715558</td>\n",
       "    </tr>\n",
       "    <tr>\n",
       "      <th>2</th>\n",
       "      <td>T3.2000</td>\n",
       "      <td>121.334655</td>\n",
       "    </tr>\n",
       "    <tr>\n",
       "      <th>3</th>\n",
       "      <td>T4.2000</td>\n",
       "      <td>121.035423</td>\n",
       "    </tr>\n",
       "    <tr>\n",
       "      <th>4</th>\n",
       "      <td>T1.2001</td>\n",
       "      <td>124.096635</td>\n",
       "    </tr>\n",
       "  </tbody>\n",
       "</table>\n",
       "</div>"
      ],
      "text/plain": [
       "  trimestre indic_confiance\n",
       "0   T1.2000      119.375624\n",
       "1   T2.2000      122.715558\n",
       "2   T3.2000      121.334655\n",
       "3   T4.2000      121.035423\n",
       "4   T1.2001      124.096635"
      ]
     },
     "execution_count": 820,
     "metadata": {},
     "output_type": "execute_result"
    }
   ],
   "source": [
    "#Transformation de l'écriture des éléments de la colonne trimestre pour que toutes les colonnes soient du même format\n",
    "# On sait que la colonne des dates est bien en format datetime\n",
    "\n",
    "def format_trimestre(trimestre):\n",
    "    # Extraire l'année et le trimestre\n",
    "    annee = trimestre.year\n",
    "    mois = trimestre.month\n",
    "    # Calculer le trimestre en fonction du mois\n",
    "    if mois in [3]:\n",
    "        trimestre = \"T1\"\n",
    "    elif mois in [6]:\n",
    "        trimestre = \"T2\"\n",
    "    elif mois in [9]:\n",
    "        trimestre = \"T3\"\n",
    "    else:\n",
    "        trimestre = \"T4\"\n",
    "    # Retourner le format \"T1.2000\"\n",
    "    return f\"{trimestre}.{annee}\"\n",
    "\n",
    "# Appliquer la fonction à chaque date pour créer la nouvelle colonne\n",
    "confiance['trimestre'] = confiance['trimestre'].apply(format_trimestre)\n",
    "\n",
    "confiance.head()\n"
   ]
  },
  {
   "cell_type": "code",
   "execution_count": 821,
   "id": "31696a6c",
   "metadata": {},
   "outputs": [
    {
     "name": "stdout",
     "output_type": "stream",
     "text": [
      "Empty DataFrame\n",
      "Columns: [trimestre, indic_confiance]\n",
      "Index: []\n"
     ]
    }
   ],
   "source": [
    "#Déterminuer où sont situés les NaN s'il y en a\n",
    "print(confiance[confiance.isna().any(axis=1)])"
   ]
  },
  {
   "cell_type": "markdown",
   "id": "2c37fc2c-12d6-4a30-9cf8-839db6915c47",
   "metadata": {},
   "source": [
    "Nettoyage de la table Evolution du PIB"
   ]
  },
  {
   "cell_type": "markdown",
   "id": "3eea85f5-4275-4be1-bb6a-8d75a20bc5d7",
   "metadata": {},
   "source": [
    "On cherche à isoler des indicateurs pour l'évolution du PIB, la consommation des ménages et des APU, la formation brute de capital fixe, les importations et exportations. On fait le choix de prendre plus d'indicateurs, quitte à les éliminer par la suite."
   ]
  },
  {
   "cell_type": "code",
   "execution_count": 822,
   "id": "1ff0a29f-9c31-4b7f-a38c-4f9c8f2ea13e",
   "metadata": {},
   "outputs": [
    {
     "data": {
      "text/html": [
       "<div>\n",
       "<style scoped>\n",
       "    .dataframe tbody tr th:only-of-type {\n",
       "        vertical-align: middle;\n",
       "    }\n",
       "\n",
       "    .dataframe tbody tr th {\n",
       "        vertical-align: top;\n",
       "    }\n",
       "\n",
       "    .dataframe thead th {\n",
       "        text-align: right;\n",
       "    }\n",
       "</style>\n",
       "<table border=\"1\" class=\"dataframe\">\n",
       "  <thead>\n",
       "    <tr style=\"text-align: right;\">\n",
       "      <th></th>\n",
       "      <th>Évolution du produit intérieur brut et de ses composantes</th>\n",
       "      <th>Unnamed: 1</th>\n",
       "      <th>Unnamed: 2</th>\n",
       "      <th>Unnamed: 3</th>\n",
       "      <th>Unnamed: 4</th>\n",
       "      <th>Unnamed: 5</th>\n",
       "      <th>Unnamed: 6</th>\n",
       "      <th>Unnamed: 7</th>\n",
       "      <th>Unnamed: 8</th>\n",
       "      <th>Unnamed: 9</th>\n",
       "      <th>Unnamed: 10</th>\n",
       "      <th>Unnamed: 11</th>\n",
       "      <th>Unnamed: 12</th>\n",
       "    </tr>\n",
       "  </thead>\n",
       "  <tbody>\n",
       "    <tr>\n",
       "      <th>0</th>\n",
       "      <td>NaN</td>\n",
       "      <td>NaN</td>\n",
       "      <td>NaN</td>\n",
       "      <td>NaN</td>\n",
       "      <td>NaN</td>\n",
       "      <td>NaN</td>\n",
       "      <td>NaN</td>\n",
       "      <td>NaN</td>\n",
       "      <td>NaN</td>\n",
       "      <td>NaN</td>\n",
       "      <td>NaN</td>\n",
       "      <td>NaN</td>\n",
       "      <td>NaN</td>\n",
       "    </tr>\n",
       "    <tr>\n",
       "      <th>1</th>\n",
       "      <td>par rapport au trimestre précédent en volume en %</td>\n",
       "      <td>NaN</td>\n",
       "      <td>NaN</td>\n",
       "      <td>NaN</td>\n",
       "      <td>NaN</td>\n",
       "      <td>NaN</td>\n",
       "      <td>NaN</td>\n",
       "      <td>NaN</td>\n",
       "      <td>NaN</td>\n",
       "      <td>NaN</td>\n",
       "      <td>NaN</td>\n",
       "      <td>NaN</td>\n",
       "      <td>NaN</td>\n",
       "    </tr>\n",
       "    <tr>\n",
       "      <th>2</th>\n",
       "      <td>Trimestre</td>\n",
       "      <td>Produit intérieur brut (PIB)</td>\n",
       "      <td>Importations</td>\n",
       "      <td>Dépense de consommation des ménages</td>\n",
       "      <td>Dépense de consommation des APU1</td>\n",
       "      <td>Formation brute de capital fixe</td>\n",
       "      <td>dont :</td>\n",
       "      <td>NaN</td>\n",
       "      <td>NaN</td>\n",
       "      <td>Exportations</td>\n",
       "      <td>Contributions :</td>\n",
       "      <td>NaN</td>\n",
       "      <td>NaN</td>\n",
       "    </tr>\n",
       "    <tr>\n",
       "      <th>3</th>\n",
       "      <td>NaN</td>\n",
       "      <td>NaN</td>\n",
       "      <td>NaN</td>\n",
       "      <td>NaN</td>\n",
       "      <td>NaN</td>\n",
       "      <td>NaN</td>\n",
       "      <td>Entreprises non financières</td>\n",
       "      <td>ménages</td>\n",
       "      <td>APU1</td>\n",
       "      <td>NaN</td>\n",
       "      <td>Demande intérieure finale hors stocks</td>\n",
       "      <td>Variations de stocks</td>\n",
       "      <td>Commerce extérieur</td>\n",
       "    </tr>\n",
       "    <tr>\n",
       "      <th>4</th>\n",
       "      <td>2024-T3</td>\n",
       "      <td>0.362294</td>\n",
       "      <td>-0.684306</td>\n",
       "      <td>0.515766</td>\n",
       "      <td>0.513113</td>\n",
       "      <td>-0.84265</td>\n",
       "      <td>-1.365417</td>\n",
       "      <td>-0.887841</td>\n",
       "      <td>0.472325</td>\n",
       "      <td>-0.470732</td>\n",
       "      <td>0.212544</td>\n",
       "      <td>0.069318</td>\n",
       "      <td>0.080432</td>\n",
       "    </tr>\n",
       "  </tbody>\n",
       "</table>\n",
       "</div>"
      ],
      "text/plain": [
       "  Évolution du produit intérieur brut et de ses composantes  \\\n",
       "0                                                NaN          \n",
       "1  par rapport au trimestre précédent en volume en %          \n",
       "2                                          Trimestre          \n",
       "3                                                NaN          \n",
       "4                                            2024-T3          \n",
       "\n",
       "                     Unnamed: 1    Unnamed: 2  \\\n",
       "0                           NaN           NaN   \n",
       "1                           NaN           NaN   \n",
       "2  Produit intérieur brut (PIB)  Importations   \n",
       "3                           NaN           NaN   \n",
       "4                      0.362294     -0.684306   \n",
       "\n",
       "                            Unnamed: 3                        Unnamed: 4  \\\n",
       "0                                  NaN                               NaN   \n",
       "1                                  NaN                               NaN   \n",
       "2  Dépense de consommation des ménages  Dépense de consommation des APU1   \n",
       "3                                  NaN                               NaN   \n",
       "4                             0.515766                          0.513113   \n",
       "\n",
       "                        Unnamed: 5                   Unnamed: 6 Unnamed: 7  \\\n",
       "0                              NaN                          NaN        NaN   \n",
       "1                              NaN                          NaN        NaN   \n",
       "2  Formation brute de capital fixe                      dont :         NaN   \n",
       "3                              NaN  Entreprises non financières    ménages   \n",
       "4                         -0.84265                    -1.365417  -0.887841   \n",
       "\n",
       "  Unnamed: 8    Unnamed: 9                            Unnamed: 10  \\\n",
       "0        NaN           NaN                                    NaN   \n",
       "1        NaN           NaN                                    NaN   \n",
       "2        NaN  Exportations                        Contributions :   \n",
       "3       APU1           NaN  Demande intérieure finale hors stocks   \n",
       "4   0.472325     -0.470732                               0.212544   \n",
       "\n",
       "            Unnamed: 11         Unnamed: 12  \n",
       "0                   NaN                 NaN  \n",
       "1                   NaN                 NaN  \n",
       "2                   NaN                 NaN  \n",
       "3  Variations de stocks  Commerce extérieur  \n",
       "4              0.069318            0.080432  "
      ]
     },
     "execution_count": 822,
     "metadata": {},
     "output_type": "execute_result"
    }
   ],
   "source": [
    "ev_pib.head()"
   ]
  },
  {
   "cell_type": "code",
   "execution_count": 823,
   "id": "f5bf1a62-749f-48bf-86ef-29e4702ef9de",
   "metadata": {},
   "outputs": [],
   "source": [
    "# Renommer les colonnes à utiliser\n",
    "ev_pib.rename(columns={'Évolution du produit intérieur brut et de ses composantes': 'trimestre'}, inplace=True)\n",
    "ev_pib.rename(columns={'Unnamed: 1': 'ev_pib'}, inplace=True) \n",
    "ev_pib.rename(columns={'Unnamed: 2': 'ev_importations'}, inplace=True) \n",
    "ev_pib.rename(columns={'Unnamed: 3': 'ev_conso_menages'}, inplace=True) \n",
    "ev_pib.rename(columns={'Unnamed: 4': 'ev_conso_apu'}, inplace=True) \n",
    "ev_pib.rename(columns={'Unnamed: 5': 'ev_fbcf'}, inplace=True) \n",
    "ev_pib.rename(columns={'Unnamed: 9': 'ev_exportations'}, inplace=True) "
   ]
  },
  {
   "cell_type": "code",
   "execution_count": 824,
   "id": "4a68bb02-4ea8-4ec0-be87-acb5951ea3bc",
   "metadata": {},
   "outputs": [
    {
     "name": "stdout",
     "output_type": "stream",
     "text": [
      "Index(['trimestre', 'ev_pib', 'ev_importations', 'ev_conso_menages',\n",
      "       'ev_conso_apu', 'ev_fbcf', 'Unnamed: 6', 'Unnamed: 7', 'Unnamed: 8',\n",
      "       'ev_exportations', 'Unnamed: 10', 'Unnamed: 11', 'Unnamed: 12'],\n",
      "      dtype='object')\n"
     ]
    }
   ],
   "source": [
    "print(ev_pib.columns)"
   ]
  },
  {
   "cell_type": "code",
   "execution_count": 825,
   "id": "64c2d019-8616-4a7b-9d77-4e47c55381be",
   "metadata": {},
   "outputs": [
    {
     "data": {
      "text/html": [
       "<div>\n",
       "<style scoped>\n",
       "    .dataframe tbody tr th:only-of-type {\n",
       "        vertical-align: middle;\n",
       "    }\n",
       "\n",
       "    .dataframe tbody tr th {\n",
       "        vertical-align: top;\n",
       "    }\n",
       "\n",
       "    .dataframe thead th {\n",
       "        text-align: right;\n",
       "    }\n",
       "</style>\n",
       "<table border=\"1\" class=\"dataframe\">\n",
       "  <thead>\n",
       "    <tr style=\"text-align: right;\">\n",
       "      <th></th>\n",
       "      <th>trimestre</th>\n",
       "      <th>ev_pib</th>\n",
       "      <th>ev_importations</th>\n",
       "      <th>ev_conso_menages</th>\n",
       "      <th>ev_conso_apu</th>\n",
       "      <th>ev_fbcf</th>\n",
       "      <th>ev_exportations</th>\n",
       "    </tr>\n",
       "  </thead>\n",
       "  <tbody>\n",
       "    <tr>\n",
       "      <th>0</th>\n",
       "      <td>Source : Insee, comptes nationaux trimestriels...</td>\n",
       "      <td>NaN</td>\n",
       "      <td>NaN</td>\n",
       "      <td>NaN</td>\n",
       "      <td>NaN</td>\n",
       "      <td>NaN</td>\n",
       "      <td>NaN</td>\n",
       "    </tr>\n",
       "    <tr>\n",
       "      <th>1</th>\n",
       "      <td>Champ : France.</td>\n",
       "      <td>NaN</td>\n",
       "      <td>NaN</td>\n",
       "      <td>NaN</td>\n",
       "      <td>NaN</td>\n",
       "      <td>NaN</td>\n",
       "      <td>NaN</td>\n",
       "    </tr>\n",
       "    <tr>\n",
       "      <th>2</th>\n",
       "      <td>Lecture : au 3e trimestre 2024, le produit int...</td>\n",
       "      <td>NaN</td>\n",
       "      <td>NaN</td>\n",
       "      <td>NaN</td>\n",
       "      <td>NaN</td>\n",
       "      <td>NaN</td>\n",
       "      <td>NaN</td>\n",
       "    </tr>\n",
       "    <tr>\n",
       "      <th>3</th>\n",
       "      <td>Note : données révisées ; les volumes sont mes...</td>\n",
       "      <td>NaN</td>\n",
       "      <td>NaN</td>\n",
       "      <td>NaN</td>\n",
       "      <td>NaN</td>\n",
       "      <td>NaN</td>\n",
       "      <td>NaN</td>\n",
       "    </tr>\n",
       "    <tr>\n",
       "      <th>4</th>\n",
       "      <td>1. Administrations publiques.</td>\n",
       "      <td>NaN</td>\n",
       "      <td>NaN</td>\n",
       "      <td>NaN</td>\n",
       "      <td>NaN</td>\n",
       "      <td>NaN</td>\n",
       "      <td>NaN</td>\n",
       "    </tr>\n",
       "  </tbody>\n",
       "</table>\n",
       "</div>"
      ],
      "text/plain": [
       "                                           trimestre ev_pib ev_importations  \\\n",
       "0  Source : Insee, comptes nationaux trimestriels...    NaN             NaN   \n",
       "1                                    Champ : France.    NaN             NaN   \n",
       "2  Lecture : au 3e trimestre 2024, le produit int...    NaN             NaN   \n",
       "3  Note : données révisées ; les volumes sont mes...    NaN             NaN   \n",
       "4                      1. Administrations publiques.    NaN             NaN   \n",
       "\n",
       "  ev_conso_menages ev_conso_apu ev_fbcf ev_exportations  \n",
       "0              NaN          NaN     NaN             NaN  \n",
       "1              NaN          NaN     NaN             NaN  \n",
       "2              NaN          NaN     NaN             NaN  \n",
       "3              NaN          NaN     NaN             NaN  \n",
       "4              NaN          NaN     NaN             NaN  "
      ]
     },
     "execution_count": 825,
     "metadata": {},
     "output_type": "execute_result"
    }
   ],
   "source": [
    "# Supprimer les colonnes\n",
    "ev_pib.drop(columns=['Unnamed: 6', 'Unnamed: 7', 'Unnamed: 8',\n",
    "    'Unnamed: 10', 'Unnamed: 11', 'Unnamed: 12'], inplace=True)\n",
    "\n",
    "#Inversion des colonnes pour avoir des données chronologiques\n",
    "ev_pib = ev_pib.iloc[::-1].reset_index(drop=True)\n",
    "\n",
    "# Vérification\n",
    "ev_pib.head()"
   ]
  },
  {
   "cell_type": "markdown",
   "id": "d1f759c1-39c7-4b09-bf6b-0555db0a4302",
   "metadata": {},
   "source": [
    "On remarque que les données sont ordonnées des plus récentes aux plus anciennes, on souhaite inverser cela pour faciliter le travail avec les autres tables. "
   ]
  },
  {
   "cell_type": "code",
   "execution_count": 826,
   "id": "06530343-7309-4e8c-972b-3a84c71e6d55",
   "metadata": {},
   "outputs": [
    {
     "name": "stdout",
     "output_type": "stream",
     "text": [
      "Index([209], dtype='int64')\n"
     ]
    }
   ],
   "source": [
    "# Trouver l'index de la valeur '2000-T1' dans la colonne 'trimestre'\n",
    "index_2000_t1 = ev_pib[ev_pib['trimestre'] == '2000-T1'].index\n",
    "\n",
    "# Afficher l'index\n",
    "print(index_2000_t1)\n"
   ]
  },
  {
   "cell_type": "code",
   "execution_count": 827,
   "id": "d670cdd3-d7b4-491a-80df-c08c881b27b5",
   "metadata": {},
   "outputs": [],
   "source": [
    "# On supprime les premières lignes inutiles pour que les données débutent au premier trimestre de l'année 2000\n",
    "ev_pib = ev_pib.iloc[209:].reset_index(drop=True)"
   ]
  },
  {
   "cell_type": "markdown",
   "id": "7e87e85f-1503-4366-9b36-fa15f504e5b8",
   "metadata": {},
   "source": [
    "On souhaite créer une nouvelle variable qui regroupe l'évolution de la consommation des ménages et des APU."
   ]
  },
  {
   "cell_type": "code",
   "execution_count": 828,
   "id": "1938a630-1326-4eb9-8fc4-88fa447d1f92",
   "metadata": {},
   "outputs": [
    {
     "data": {
      "text/html": [
       "<div>\n",
       "<style scoped>\n",
       "    .dataframe tbody tr th:only-of-type {\n",
       "        vertical-align: middle;\n",
       "    }\n",
       "\n",
       "    .dataframe tbody tr th {\n",
       "        vertical-align: top;\n",
       "    }\n",
       "\n",
       "    .dataframe thead th {\n",
       "        text-align: right;\n",
       "    }\n",
       "</style>\n",
       "<table border=\"1\" class=\"dataframe\">\n",
       "  <thead>\n",
       "    <tr style=\"text-align: right;\">\n",
       "      <th></th>\n",
       "      <th>trimestre</th>\n",
       "      <th>ev_pib</th>\n",
       "      <th>ev_importations</th>\n",
       "      <th>ev_conso_menages</th>\n",
       "      <th>ev_conso_apu</th>\n",
       "      <th>ev_fbcf</th>\n",
       "      <th>ev_exportations</th>\n",
       "      <th>ev_conso</th>\n",
       "    </tr>\n",
       "  </thead>\n",
       "  <tbody>\n",
       "    <tr>\n",
       "      <th>0</th>\n",
       "      <td>2000-T1</td>\n",
       "      <td>1.011252</td>\n",
       "      <td>4.716928</td>\n",
       "      <td>1.256031</td>\n",
       "      <td>0.606497</td>\n",
       "      <td>2.244349</td>\n",
       "      <td>2.839274</td>\n",
       "      <td>1.862528</td>\n",
       "    </tr>\n",
       "    <tr>\n",
       "      <th>1</th>\n",
       "      <td>2000-T2</td>\n",
       "      <td>1.06425</td>\n",
       "      <td>4.20051</td>\n",
       "      <td>0.772804</td>\n",
       "      <td>0.464126</td>\n",
       "      <td>0.921508</td>\n",
       "      <td>4.963057</td>\n",
       "      <td>1.23693</td>\n",
       "    </tr>\n",
       "    <tr>\n",
       "      <th>2</th>\n",
       "      <td>2000-T3</td>\n",
       "      <td>0.780148</td>\n",
       "      <td>3.529602</td>\n",
       "      <td>0.444674</td>\n",
       "      <td>0.34475</td>\n",
       "      <td>2.53796</td>\n",
       "      <td>1.41363</td>\n",
       "      <td>0.789424</td>\n",
       "    </tr>\n",
       "    <tr>\n",
       "      <th>3</th>\n",
       "      <td>2000-T4</td>\n",
       "      <td>0.563163</td>\n",
       "      <td>2.2326</td>\n",
       "      <td>0.132284</td>\n",
       "      <td>0.155773</td>\n",
       "      <td>0.073162</td>\n",
       "      <td>2.984615</td>\n",
       "      <td>0.288057</td>\n",
       "    </tr>\n",
       "    <tr>\n",
       "      <th>4</th>\n",
       "      <td>2001-T1</td>\n",
       "      <td>0.57489</td>\n",
       "      <td>-1.295035</td>\n",
       "      <td>1.139891</td>\n",
       "      <td>0.125288</td>\n",
       "      <td>0.672418</td>\n",
       "      <td>0.408129</td>\n",
       "      <td>1.265179</td>\n",
       "    </tr>\n",
       "  </tbody>\n",
       "</table>\n",
       "</div>"
      ],
      "text/plain": [
       "  trimestre    ev_pib ev_importations ev_conso_menages ev_conso_apu   ev_fbcf  \\\n",
       "0   2000-T1  1.011252        4.716928         1.256031     0.606497  2.244349   \n",
       "1   2000-T2   1.06425         4.20051         0.772804     0.464126  0.921508   \n",
       "2   2000-T3  0.780148        3.529602         0.444674      0.34475   2.53796   \n",
       "3   2000-T4  0.563163          2.2326         0.132284     0.155773  0.073162   \n",
       "4   2001-T1   0.57489       -1.295035         1.139891     0.125288  0.672418   \n",
       "\n",
       "  ev_exportations  ev_conso  \n",
       "0        2.839274  1.862528  \n",
       "1        4.963057   1.23693  \n",
       "2         1.41363  0.789424  \n",
       "3        2.984615  0.288057  \n",
       "4        0.408129  1.265179  "
      ]
     },
     "execution_count": 828,
     "metadata": {},
     "output_type": "execute_result"
    }
   ],
   "source": [
    "ev_pib['ev_conso'] = ev_pib['ev_conso_menages'] + ev_pib['ev_conso_apu']\n",
    "\n",
    "# Afficher les premieres lignes des données \n",
    "ev_pib.head()"
   ]
  },
  {
   "cell_type": "code",
   "execution_count": 829,
   "id": "8ad540fb",
   "metadata": {},
   "outputs": [
    {
     "name": "stdout",
     "output_type": "stream",
     "text": [
      "0                                                2000-T1\n",
      "1                                                2000-T2\n",
      "2                                                2000-T3\n",
      "3                                                2000-T4\n",
      "4                                                2001-T1\n",
      "                             ...                        \n",
      "98                                               2024-T3\n",
      "99                                                   NaN\n",
      "100                                            Trimestre\n",
      "101    par rapport au trimestre précédent en volume en %\n",
      "102                                                  NaN\n",
      "Name: trimestre, Length: 103, dtype: object\n"
     ]
    }
   ],
   "source": [
    "print(ev_pib.trimestre)"
   ]
  },
  {
   "cell_type": "code",
   "execution_count": 830,
   "id": "35386bc6",
   "metadata": {},
   "outputs": [
    {
     "data": {
      "text/html": [
       "<div>\n",
       "<style scoped>\n",
       "    .dataframe tbody tr th:only-of-type {\n",
       "        vertical-align: middle;\n",
       "    }\n",
       "\n",
       "    .dataframe tbody tr th {\n",
       "        vertical-align: top;\n",
       "    }\n",
       "\n",
       "    .dataframe thead th {\n",
       "        text-align: right;\n",
       "    }\n",
       "</style>\n",
       "<table border=\"1\" class=\"dataframe\">\n",
       "  <thead>\n",
       "    <tr style=\"text-align: right;\">\n",
       "      <th></th>\n",
       "      <th>trimestre</th>\n",
       "      <th>ev_pib</th>\n",
       "      <th>ev_importations</th>\n",
       "      <th>ev_conso_menages</th>\n",
       "      <th>ev_conso_apu</th>\n",
       "      <th>ev_fbcf</th>\n",
       "      <th>ev_exportations</th>\n",
       "      <th>ev_conso</th>\n",
       "    </tr>\n",
       "  </thead>\n",
       "  <tbody>\n",
       "    <tr>\n",
       "      <th>0</th>\n",
       "      <td>T1.2000</td>\n",
       "      <td>1.011252</td>\n",
       "      <td>4.716928</td>\n",
       "      <td>1.256031</td>\n",
       "      <td>0.606497</td>\n",
       "      <td>2.244349</td>\n",
       "      <td>2.839274</td>\n",
       "      <td>1.862528</td>\n",
       "    </tr>\n",
       "    <tr>\n",
       "      <th>1</th>\n",
       "      <td>T2.2000</td>\n",
       "      <td>1.06425</td>\n",
       "      <td>4.20051</td>\n",
       "      <td>0.772804</td>\n",
       "      <td>0.464126</td>\n",
       "      <td>0.921508</td>\n",
       "      <td>4.963057</td>\n",
       "      <td>1.23693</td>\n",
       "    </tr>\n",
       "    <tr>\n",
       "      <th>2</th>\n",
       "      <td>T3.2000</td>\n",
       "      <td>0.780148</td>\n",
       "      <td>3.529602</td>\n",
       "      <td>0.444674</td>\n",
       "      <td>0.34475</td>\n",
       "      <td>2.53796</td>\n",
       "      <td>1.41363</td>\n",
       "      <td>0.789424</td>\n",
       "    </tr>\n",
       "    <tr>\n",
       "      <th>3</th>\n",
       "      <td>T4.2000</td>\n",
       "      <td>0.563163</td>\n",
       "      <td>2.2326</td>\n",
       "      <td>0.132284</td>\n",
       "      <td>0.155773</td>\n",
       "      <td>0.073162</td>\n",
       "      <td>2.984615</td>\n",
       "      <td>0.288057</td>\n",
       "    </tr>\n",
       "    <tr>\n",
       "      <th>4</th>\n",
       "      <td>T1.2001</td>\n",
       "      <td>0.57489</td>\n",
       "      <td>-1.295035</td>\n",
       "      <td>1.139891</td>\n",
       "      <td>0.125288</td>\n",
       "      <td>0.672418</td>\n",
       "      <td>0.408129</td>\n",
       "      <td>1.265179</td>\n",
       "    </tr>\n",
       "  </tbody>\n",
       "</table>\n",
       "</div>"
      ],
      "text/plain": [
       "  trimestre    ev_pib ev_importations ev_conso_menages ev_conso_apu   ev_fbcf  \\\n",
       "0   T1.2000  1.011252        4.716928         1.256031     0.606497  2.244349   \n",
       "1   T2.2000   1.06425         4.20051         0.772804     0.464126  0.921508   \n",
       "2   T3.2000  0.780148        3.529602         0.444674      0.34475   2.53796   \n",
       "3   T4.2000  0.563163          2.2326         0.132284     0.155773  0.073162   \n",
       "4   T1.2001   0.57489       -1.295035         1.139891     0.125288  0.672418   \n",
       "\n",
       "  ev_exportations  ev_conso  \n",
       "0        2.839274  1.862528  \n",
       "1        4.963057   1.23693  \n",
       "2         1.41363  0.789424  \n",
       "3        2.984615  0.288057  \n",
       "4        0.408129  1.265179  "
      ]
     },
     "execution_count": 830,
     "metadata": {},
     "output_type": "execute_result"
    }
   ],
   "source": [
    "#Transformation de l'écriture des éléments de la colonne trimestre pour que toutes les colonnes soient du même format\n",
    "# On vérifie que la colonne des trimestres est en chaîne de caractères\n",
    "ev_pib['trimestre'] = ev_pib['trimestre'].astype(str)  \n",
    "\n",
    "# Fonction pour convertir le format '2000-T1' en 'T1.2000'\n",
    "def convertir_format(trimestre):\n",
    "    try:\n",
    "        # On vérifie si le format est correct (années-trimestre)\n",
    "        annee, trimestre_num = trimestre.split('-')\n",
    "        return f\"{trimestre_num}.{annee}\"  # On recompose le format 'T1.2000'\n",
    "    except ValueError:\n",
    "        # Pour les cas où le format n'est pas correct on ne change rien, c'est des valeurs inutiles qu'on supprimera ensuite.\n",
    "        return trimestre  \n",
    "   \n",
    "\n",
    "# On applique la fonction à chaque valeur de la colonne\n",
    "ev_pib['trimestre'] = ev_pib['trimestre'].apply(convertir_format)\n",
    "\n",
    "#Verification\n",
    "ev_pib.head()\n"
   ]
  },
  {
   "cell_type": "markdown",
   "id": "2d65ada5",
   "metadata": {},
   "source": [
    "Vérification des NaN"
   ]
  },
  {
   "cell_type": "code",
   "execution_count": 831,
   "id": "9b607680",
   "metadata": {},
   "outputs": [
    {
     "name": "stdout",
     "output_type": "stream",
     "text": [
      "                                             trimestre ev_pib ev_importations  \\\n",
      "99                                                 nan    NaN             NaN   \n",
      "101  par rapport au trimestre précédent en volume en %    NaN             NaN   \n",
      "102                                                nan    NaN             NaN   \n",
      "\n",
      "    ev_conso_menages ev_conso_apu ev_fbcf ev_exportations ev_conso  \n",
      "99               NaN          NaN     NaN             NaN      NaN  \n",
      "101              NaN          NaN     NaN             NaN      NaN  \n",
      "102              NaN          NaN     NaN             NaN      NaN  \n"
     ]
    }
   ],
   "source": [
    "print(ev_pib[ev_pib.isna().any(axis=1)])"
   ]
  },
  {
   "cell_type": "code",
   "execution_count": 832,
   "id": "4db3edd9",
   "metadata": {},
   "outputs": [
    {
     "name": "stdout",
     "output_type": "stream",
     "text": [
      "trimestre           0\n",
      "ev_pib              0\n",
      "ev_importations     0\n",
      "ev_conso_menages    0\n",
      "ev_conso_apu        0\n",
      "ev_fbcf             0\n",
      "ev_exportations     0\n",
      "ev_conso            0\n",
      "dtype: int64\n"
     ]
    }
   ],
   "source": [
    "#Suppression des lignes avec des NaN car elles ne nous intéressent pas\n",
    "ev_pib = ev_pib.dropna()\n",
    "\n",
    "#Vérification\n",
    "print(ev_pib.isna().sum())"
   ]
  },
  {
   "cell_type": "markdown",
   "id": "53440de9",
   "metadata": {},
   "source": [
    "Nettoyage des données sur l'indice des prix à la consommation"
   ]
  },
  {
   "cell_type": "code",
   "execution_count": 833,
   "id": "4f7fc7b4-2ce0-4707-a5bb-10baaa0409a0",
   "metadata": {},
   "outputs": [
    {
     "data": {
      "text/html": [
       "<div>\n",
       "<style scoped>\n",
       "    .dataframe tbody tr th:only-of-type {\n",
       "        vertical-align: middle;\n",
       "    }\n",
       "\n",
       "    .dataframe tbody tr th {\n",
       "        vertical-align: top;\n",
       "    }\n",
       "\n",
       "    .dataframe thead th {\n",
       "        text-align: right;\n",
       "    }\n",
       "</style>\n",
       "<table border=\"1\" class=\"dataframe\">\n",
       "  <thead>\n",
       "    <tr style=\"text-align: right;\">\n",
       "      <th></th>\n",
       "      <th>Libellé</th>\n",
       "      <th>Indice des prix à la consommation - Base 2015 - Ensemble des ménages - France - Ensemble</th>\n",
       "      <th>Unnamed: 2</th>\n",
       "    </tr>\n",
       "  </thead>\n",
       "  <tbody>\n",
       "    <tr>\n",
       "      <th>0</th>\n",
       "      <td>idBank</td>\n",
       "      <td>001759970</td>\n",
       "      <td>NaN</td>\n",
       "    </tr>\n",
       "    <tr>\n",
       "      <th>1</th>\n",
       "      <td>Dernière mise à jour</td>\n",
       "      <td>29/11/2024 08:45</td>\n",
       "      <td>NaN</td>\n",
       "    </tr>\n",
       "    <tr>\n",
       "      <th>2</th>\n",
       "      <td>Période</td>\n",
       "      <td>NaN</td>\n",
       "      <td>Date de parution au JO</td>\n",
       "    </tr>\n",
       "    <tr>\n",
       "      <th>3</th>\n",
       "      <td>2024-11</td>\n",
       "      <td>119.81</td>\n",
       "      <td>NaN</td>\n",
       "    </tr>\n",
       "    <tr>\n",
       "      <th>4</th>\n",
       "      <td>2024-10</td>\n",
       "      <td>119.89</td>\n",
       "      <td>17/11/2024</td>\n",
       "    </tr>\n",
       "  </tbody>\n",
       "</table>\n",
       "</div>"
      ],
      "text/plain": [
       "                Libellé  \\\n",
       "0                idBank   \n",
       "1  Dernière mise à jour   \n",
       "2               Période   \n",
       "3               2024-11   \n",
       "4               2024-10   \n",
       "\n",
       "  Indice des prix à la consommation - Base 2015 - Ensemble des ménages - France - Ensemble  \\\n",
       "0                                          001759970                                         \n",
       "1                                   29/11/2024 08:45                                         \n",
       "2                                                NaN                                         \n",
       "3                                             119.81                                         \n",
       "4                                             119.89                                         \n",
       "\n",
       "               Unnamed: 2  \n",
       "0                     NaN  \n",
       "1                     NaN  \n",
       "2  Date de parution au JO  \n",
       "3                     NaN  \n",
       "4              17/11/2024  "
      ]
     },
     "execution_count": 833,
     "metadata": {},
     "output_type": "execute_result"
    }
   ],
   "source": [
    "ipc.head()"
   ]
  },
  {
   "cell_type": "code",
   "execution_count": 834,
   "id": "fc8282ff",
   "metadata": {},
   "outputs": [],
   "source": [
    "# Renommer les colonnes à utiliser\n",
    "ipc.rename(columns={'Libellé': 'mois_année'}, inplace=True)\n",
    "ipc.rename(columns={'Indice des prix à la consommation - Base 2015 - Ensemble des ménages - France - Ensemble': 'ipc_menage'}, inplace=True) "
   ]
  },
  {
   "cell_type": "code",
   "execution_count": 835,
   "id": "cf9aa608",
   "metadata": {},
   "outputs": [
    {
     "name": "stdout",
     "output_type": "stream",
     "text": [
      "Index(['mois_année', 'ipc_menage', 'Unnamed: 2'], dtype='object')\n"
     ]
    }
   ],
   "source": [
    "print(ipc.columns)"
   ]
  },
  {
   "cell_type": "code",
   "execution_count": 836,
   "id": "b5885c9d",
   "metadata": {},
   "outputs": [
    {
     "name": "stdout",
     "output_type": "stream",
     "text": [
      "Index([120], dtype='int64')\n"
     ]
    }
   ],
   "source": [
    "# Supprimer les colonnes\n",
    "ipc.drop(columns='Unnamed: 2', inplace=True)\n",
    "\n",
    "# On supprime les premières lignes inutiles \n",
    "ipc = ipc.iloc[3:].reset_index(drop=True)\n",
    "\n",
    "#Inversion des données pour les classer en ordre chronologique\n",
    "ipc = ipc.iloc[::-1].reset_index(drop=True)\n",
    "\n",
    "# Trouver l'index de la valeur '2000-01' dans la colonne 'mois_année'\n",
    "index_2000_01 = ipc[ipc['mois_année'] == '2000-01'].index\n",
    "\n",
    "# Afficher l'index\n",
    "print(index_2000_01)"
   ]
  },
  {
   "cell_type": "code",
   "execution_count": 837,
   "id": "0c049b28",
   "metadata": {},
   "outputs": [
    {
     "data": {
      "text/html": [
       "<div>\n",
       "<style scoped>\n",
       "    .dataframe tbody tr th:only-of-type {\n",
       "        vertical-align: middle;\n",
       "    }\n",
       "\n",
       "    .dataframe tbody tr th {\n",
       "        vertical-align: top;\n",
       "    }\n",
       "\n",
       "    .dataframe thead th {\n",
       "        text-align: right;\n",
       "    }\n",
       "</style>\n",
       "<table border=\"1\" class=\"dataframe\">\n",
       "  <thead>\n",
       "    <tr style=\"text-align: right;\">\n",
       "      <th></th>\n",
       "      <th>mois_année</th>\n",
       "      <th>ipc_menage</th>\n",
       "    </tr>\n",
       "  </thead>\n",
       "  <tbody>\n",
       "    <tr>\n",
       "      <th>0</th>\n",
       "      <td>2000-01</td>\n",
       "      <td>79.17</td>\n",
       "    </tr>\n",
       "    <tr>\n",
       "      <th>1</th>\n",
       "      <td>2000-02</td>\n",
       "      <td>79.27</td>\n",
       "    </tr>\n",
       "    <tr>\n",
       "      <th>2</th>\n",
       "      <td>2000-03</td>\n",
       "      <td>79.64</td>\n",
       "    </tr>\n",
       "    <tr>\n",
       "      <th>3</th>\n",
       "      <td>2000-04</td>\n",
       "      <td>79.64</td>\n",
       "    </tr>\n",
       "    <tr>\n",
       "      <th>4</th>\n",
       "      <td>2000-05</td>\n",
       "      <td>79.8</td>\n",
       "    </tr>\n",
       "  </tbody>\n",
       "</table>\n",
       "</div>"
      ],
      "text/plain": [
       "  mois_année ipc_menage\n",
       "0    2000-01      79.17\n",
       "1    2000-02      79.27\n",
       "2    2000-03      79.64\n",
       "3    2000-04      79.64\n",
       "4    2000-05       79.8"
      ]
     },
     "execution_count": 837,
     "metadata": {},
     "output_type": "execute_result"
    }
   ],
   "source": [
    "# On supprime les premières lignes pour que les données débutent en janvier 2000\n",
    "ipc = ipc.iloc[120:].reset_index(drop=True)\n",
    "\n",
    "ipc.head()"
   ]
  },
  {
   "cell_type": "code",
   "execution_count": 838,
   "id": "ab32138b",
   "metadata": {},
   "outputs": [
    {
     "name": "stdout",
     "output_type": "stream",
     "text": [
      "Empty DataFrame\n",
      "Columns: [mois_année, ipc_menage]\n",
      "Index: []\n"
     ]
    }
   ],
   "source": [
    "#Vérification des NaN\n",
    "print(ipc[ipc.isna().any(axis=1)])"
   ]
  },
  {
   "cell_type": "code",
   "execution_count": 839,
   "id": "752f9413",
   "metadata": {},
   "outputs": [
    {
     "data": {
      "text/html": [
       "<div>\n",
       "<style scoped>\n",
       "    .dataframe tbody tr th:only-of-type {\n",
       "        vertical-align: middle;\n",
       "    }\n",
       "\n",
       "    .dataframe tbody tr th {\n",
       "        vertical-align: top;\n",
       "    }\n",
       "\n",
       "    .dataframe thead th {\n",
       "        text-align: right;\n",
       "    }\n",
       "</style>\n",
       "<table border=\"1\" class=\"dataframe\">\n",
       "  <thead>\n",
       "    <tr style=\"text-align: right;\">\n",
       "      <th></th>\n",
       "      <th>trimestre</th>\n",
       "      <th>ipc_menage</th>\n",
       "    </tr>\n",
       "  </thead>\n",
       "  <tbody>\n",
       "    <tr>\n",
       "      <th>0</th>\n",
       "      <td>2000-03-31</td>\n",
       "      <td>238.08</td>\n",
       "    </tr>\n",
       "    <tr>\n",
       "      <th>1</th>\n",
       "      <td>2000-06-30</td>\n",
       "      <td>239.44</td>\n",
       "    </tr>\n",
       "    <tr>\n",
       "      <th>2</th>\n",
       "      <td>2000-09-30</td>\n",
       "      <td>240.32</td>\n",
       "    </tr>\n",
       "    <tr>\n",
       "      <th>3</th>\n",
       "      <td>2000-12-31</td>\n",
       "      <td>241.31</td>\n",
       "    </tr>\n",
       "    <tr>\n",
       "      <th>4</th>\n",
       "      <td>2001-03-31</td>\n",
       "      <td>241.19</td>\n",
       "    </tr>\n",
       "  </tbody>\n",
       "</table>\n",
       "</div>"
      ],
      "text/plain": [
       "   trimestre ipc_menage\n",
       "0 2000-03-31     238.08\n",
       "1 2000-06-30     239.44\n",
       "2 2000-09-30     240.32\n",
       "3 2000-12-31     241.31\n",
       "4 2001-03-31     241.19"
      ]
     },
     "execution_count": 839,
     "metadata": {},
     "output_type": "execute_result"
    }
   ],
   "source": [
    "#Passage de données mensuelles à trimestrielles\n",
    "# Conversion de la colonne 'mois_année' en type datetime\n",
    "ipc['mois_année'] = pd.to_datetime(ipc['mois_année'], format='%Y-%m')\n",
    "\n",
    "# Définir la colonne 'mois_année' comme index\n",
    "ipc.set_index('mois_année', inplace=True)\n",
    "\n",
    "# Résumer les données par trimestre (somme dans cet exemple)\n",
    "ipc = ipc.resample('QE').sum()\n",
    "\n",
    "#Réinitialisation de la colonne mois_année et changement de nom\n",
    "ipc = ipc.reset_index()\n",
    "ipc.rename(columns={'mois_année': 'trimestre'}, inplace=True) \n",
    "\n",
    "#Vérification \n",
    "ipc.head()"
   ]
  },
  {
   "cell_type": "code",
   "execution_count": 840,
   "id": "4139a922",
   "metadata": {},
   "outputs": [
    {
     "data": {
      "text/html": [
       "<div>\n",
       "<style scoped>\n",
       "    .dataframe tbody tr th:only-of-type {\n",
       "        vertical-align: middle;\n",
       "    }\n",
       "\n",
       "    .dataframe tbody tr th {\n",
       "        vertical-align: top;\n",
       "    }\n",
       "\n",
       "    .dataframe thead th {\n",
       "        text-align: right;\n",
       "    }\n",
       "</style>\n",
       "<table border=\"1\" class=\"dataframe\">\n",
       "  <thead>\n",
       "    <tr style=\"text-align: right;\">\n",
       "      <th></th>\n",
       "      <th>trimestre</th>\n",
       "      <th>ipc_menage</th>\n",
       "    </tr>\n",
       "  </thead>\n",
       "  <tbody>\n",
       "    <tr>\n",
       "      <th>0</th>\n",
       "      <td>T1.2000</td>\n",
       "      <td>238.08</td>\n",
       "    </tr>\n",
       "    <tr>\n",
       "      <th>1</th>\n",
       "      <td>T2.2000</td>\n",
       "      <td>239.44</td>\n",
       "    </tr>\n",
       "    <tr>\n",
       "      <th>2</th>\n",
       "      <td>T3.2000</td>\n",
       "      <td>240.32</td>\n",
       "    </tr>\n",
       "    <tr>\n",
       "      <th>3</th>\n",
       "      <td>T4.2000</td>\n",
       "      <td>241.31</td>\n",
       "    </tr>\n",
       "    <tr>\n",
       "      <th>4</th>\n",
       "      <td>T1.2001</td>\n",
       "      <td>241.19</td>\n",
       "    </tr>\n",
       "  </tbody>\n",
       "</table>\n",
       "</div>"
      ],
      "text/plain": [
       "  trimestre ipc_menage\n",
       "0   T1.2000     238.08\n",
       "1   T2.2000     239.44\n",
       "2   T3.2000     240.32\n",
       "3   T4.2000     241.31\n",
       "4   T1.2001     241.19"
      ]
     },
     "execution_count": 840,
     "metadata": {},
     "output_type": "execute_result"
    }
   ],
   "source": [
    "#On utilise la fonction définie précedemmentpour modifier la colonne trimestre pour que toutes les colonnes soient du même format\n",
    "ipc['trimestre'] = ipc['trimestre'].apply(format_trimestre)\n",
    "\n",
    "#Verification\n",
    "ipc.head()"
   ]
  },
  {
   "cell_type": "markdown",
   "id": "09fecf75",
   "metadata": {},
   "source": [
    "Téléchargement des données sur le CAC 40"
   ]
  },
  {
   "cell_type": "code",
   "execution_count": 841,
   "id": "6caf7b44",
   "metadata": {},
   "outputs": [
    {
     "name": "stdout",
     "output_type": "stream",
     "text": [
      "Requirement already satisfied: yfinance in /opt/conda/lib/python3.12/site-packages (0.2.51)\n",
      "Requirement already satisfied: pandas>=1.3.0 in /opt/conda/lib/python3.12/site-packages (from yfinance) (2.2.3)\n",
      "Requirement already satisfied: numpy>=1.16.5 in /opt/conda/lib/python3.12/site-packages (from yfinance) (2.2.0)\n",
      "Requirement already satisfied: requests>=2.31 in /opt/conda/lib/python3.12/site-packages (from yfinance) (2.32.3)\n",
      "Requirement already satisfied: multitasking>=0.0.7 in /opt/conda/lib/python3.12/site-packages (from yfinance) (0.0.11)\n",
      "Requirement already satisfied: lxml>=4.9.1 in /opt/conda/lib/python3.12/site-packages (from yfinance) (5.3.0)\n",
      "Requirement already satisfied: platformdirs>=2.0.0 in /opt/conda/lib/python3.12/site-packages (from yfinance) (4.3.6)\n",
      "Requirement already satisfied: pytz>=2022.5 in /opt/conda/lib/python3.12/site-packages (from yfinance) (2024.1)\n",
      "Requirement already satisfied: frozendict>=2.3.4 in /opt/conda/lib/python3.12/site-packages (from yfinance) (2.4.6)\n",
      "Requirement already satisfied: peewee>=3.16.2 in /opt/conda/lib/python3.12/site-packages (from yfinance) (3.17.8)\n",
      "Requirement already satisfied: beautifulsoup4>=4.11.1 in /opt/conda/lib/python3.12/site-packages (from yfinance) (4.12.3)\n",
      "Requirement already satisfied: html5lib>=1.1 in /opt/conda/lib/python3.12/site-packages (from yfinance) (1.1)\n",
      "Requirement already satisfied: soupsieve>1.2 in /opt/conda/lib/python3.12/site-packages (from beautifulsoup4>=4.11.1->yfinance) (2.5)\n",
      "Requirement already satisfied: six>=1.9 in /opt/conda/lib/python3.12/site-packages (from html5lib>=1.1->yfinance) (1.17.0)\n",
      "Requirement already satisfied: webencodings in /opt/conda/lib/python3.12/site-packages (from html5lib>=1.1->yfinance) (0.5.1)\n",
      "Requirement already satisfied: python-dateutil>=2.8.2 in /opt/conda/lib/python3.12/site-packages (from pandas>=1.3.0->yfinance) (2.9.0.post0)\n",
      "Requirement already satisfied: tzdata>=2022.7 in /opt/conda/lib/python3.12/site-packages (from pandas>=1.3.0->yfinance) (2024.2)\n",
      "Requirement already satisfied: charset_normalizer<4,>=2 in /opt/conda/lib/python3.12/site-packages (from requests>=2.31->yfinance) (3.4.0)\n",
      "Requirement already satisfied: idna<4,>=2.5 in /opt/conda/lib/python3.12/site-packages (from requests>=2.31->yfinance) (3.10)\n",
      "Requirement already satisfied: urllib3<3,>=1.21.1 in /opt/conda/lib/python3.12/site-packages (from requests>=2.31->yfinance) (2.2.3)\n",
      "Requirement already satisfied: certifi>=2017.4.17 in /opt/conda/lib/python3.12/site-packages (from requests>=2.31->yfinance) (2024.8.30)\n",
      "Note: you may need to restart the kernel to use updated packages.\n"
     ]
    }
   ],
   "source": [
    "pip install yfinance\n"
   ]
  },
  {
   "cell_type": "code",
   "execution_count": 842,
   "id": "82e3bf59",
   "metadata": {},
   "outputs": [
    {
     "name": "stderr",
     "output_type": "stream",
     "text": [
      "[*********************100%***********************]  1 of 1 completed\n"
     ]
    }
   ],
   "source": [
    "import yfinance as yf\n",
    "\n",
    "# Téléchargement les données trimestrielles du CAC 40 avec l'API yfinance\n",
    "CAC40_y = \"^FCHI\"  # Symbole Yahoo Finance pour le CAC 40\n",
    "dfcac40 = yf.download(CAC40_y, start=\"2000-01-01\", interval=\"3mo\")\n",
    "\n",
    "# Sauvegarder en CSV \n",
    "dfcac40.to_csv(\"cac40_trimestre.csv\")\n"
   ]
  },
  {
   "cell_type": "markdown",
   "id": "447f9889",
   "metadata": {},
   "source": [
    "nettoyage des données du CAC40"
   ]
  },
  {
   "cell_type": "code",
   "execution_count": 843,
   "id": "45992849",
   "metadata": {},
   "outputs": [],
   "source": [
    "cac40 = pd.read_csv(\"cac40_trimestre.csv\")"
   ]
  },
  {
   "cell_type": "code",
   "execution_count": 844,
   "id": "7894cb1b",
   "metadata": {},
   "outputs": [
    {
     "data": {
      "text/html": [
       "<div>\n",
       "<style scoped>\n",
       "    .dataframe tbody tr th:only-of-type {\n",
       "        vertical-align: middle;\n",
       "    }\n",
       "\n",
       "    .dataframe tbody tr th {\n",
       "        vertical-align: top;\n",
       "    }\n",
       "\n",
       "    .dataframe thead th {\n",
       "        text-align: right;\n",
       "    }\n",
       "</style>\n",
       "<table border=\"1\" class=\"dataframe\">\n",
       "  <thead>\n",
       "    <tr style=\"text-align: right;\">\n",
       "      <th></th>\n",
       "      <th>Price</th>\n",
       "      <th>Close</th>\n",
       "      <th>High</th>\n",
       "      <th>Low</th>\n",
       "      <th>Open</th>\n",
       "      <th>Volume</th>\n",
       "    </tr>\n",
       "  </thead>\n",
       "  <tbody>\n",
       "    <tr>\n",
       "      <th>0</th>\n",
       "      <td>Ticker</td>\n",
       "      <td>^FCHI</td>\n",
       "      <td>^FCHI</td>\n",
       "      <td>^FCHI</td>\n",
       "      <td>^FCHI</td>\n",
       "      <td>^FCHI</td>\n",
       "    </tr>\n",
       "    <tr>\n",
       "      <th>1</th>\n",
       "      <td>Date</td>\n",
       "      <td>NaN</td>\n",
       "      <td>NaN</td>\n",
       "      <td>NaN</td>\n",
       "      <td>NaN</td>\n",
       "      <td>NaN</td>\n",
       "    </tr>\n",
       "    <tr>\n",
       "      <th>2</th>\n",
       "      <td>1999-12-01</td>\n",
       "      <td>6190.9599609375</td>\n",
       "      <td>6396.97021484375</td>\n",
       "      <td>5388.85009765625</td>\n",
       "      <td>6024.3798828125</td>\n",
       "      <td>0</td>\n",
       "    </tr>\n",
       "    <tr>\n",
       "      <th>3</th>\n",
       "      <td>2000-03-01</td>\n",
       "      <td>6426.259765625</td>\n",
       "      <td>6591.43994140625</td>\n",
       "      <td>5752.43994140625</td>\n",
       "      <td>6272.1298828125</td>\n",
       "      <td>0</td>\n",
       "    </tr>\n",
       "    <tr>\n",
       "      <th>4</th>\n",
       "      <td>2000-06-01</td>\n",
       "      <td>6625.419921875</td>\n",
       "      <td>6780.66015625</td>\n",
       "      <td>6354.93017578125</td>\n",
       "      <td>6428.4599609375</td>\n",
       "      <td>0</td>\n",
       "    </tr>\n",
       "  </tbody>\n",
       "</table>\n",
       "</div>"
      ],
      "text/plain": [
       "        Price            Close              High               Low  \\\n",
       "0      Ticker            ^FCHI             ^FCHI             ^FCHI   \n",
       "1        Date              NaN               NaN               NaN   \n",
       "2  1999-12-01  6190.9599609375  6396.97021484375  5388.85009765625   \n",
       "3  2000-03-01   6426.259765625  6591.43994140625  5752.43994140625   \n",
       "4  2000-06-01   6625.419921875     6780.66015625  6354.93017578125   \n",
       "\n",
       "              Open Volume  \n",
       "0            ^FCHI  ^FCHI  \n",
       "1              NaN    NaN  \n",
       "2  6024.3798828125      0  \n",
       "3  6272.1298828125      0  \n",
       "4  6428.4599609375      0  "
      ]
     },
     "execution_count": 844,
     "metadata": {},
     "output_type": "execute_result"
    }
   ],
   "source": [
    "cac40.head()"
   ]
  },
  {
   "cell_type": "code",
   "execution_count": 845,
   "id": "5f0437cf",
   "metadata": {},
   "outputs": [
    {
     "data": {
      "text/html": [
       "<div>\n",
       "<style scoped>\n",
       "    .dataframe tbody tr th:only-of-type {\n",
       "        vertical-align: middle;\n",
       "    }\n",
       "\n",
       "    .dataframe tbody tr th {\n",
       "        vertical-align: top;\n",
       "    }\n",
       "\n",
       "    .dataframe thead th {\n",
       "        text-align: right;\n",
       "    }\n",
       "</style>\n",
       "<table border=\"1\" class=\"dataframe\">\n",
       "  <thead>\n",
       "    <tr style=\"text-align: right;\">\n",
       "      <th></th>\n",
       "      <th>Price</th>\n",
       "      <th>Close</th>\n",
       "      <th>High</th>\n",
       "      <th>Low</th>\n",
       "      <th>Open</th>\n",
       "    </tr>\n",
       "  </thead>\n",
       "  <tbody>\n",
       "    <tr>\n",
       "      <th>0</th>\n",
       "      <td>2000-03-01</td>\n",
       "      <td>6426.259765625</td>\n",
       "      <td>6591.43994140625</td>\n",
       "      <td>5752.43994140625</td>\n",
       "      <td>6272.1298828125</td>\n",
       "    </tr>\n",
       "    <tr>\n",
       "      <th>1</th>\n",
       "      <td>2000-06-01</td>\n",
       "      <td>6625.419921875</td>\n",
       "      <td>6780.66015625</td>\n",
       "      <td>6354.93017578125</td>\n",
       "      <td>6428.4599609375</td>\n",
       "    </tr>\n",
       "    <tr>\n",
       "      <th>2</th>\n",
       "      <td>2000-09-01</td>\n",
       "      <td>5928.080078125</td>\n",
       "      <td>6944.77001953125</td>\n",
       "      <td>5828.14013671875</td>\n",
       "      <td>6648.64013671875</td>\n",
       "    </tr>\n",
       "    <tr>\n",
       "      <th>3</th>\n",
       "      <td>2000-12-01</td>\n",
       "      <td>5367.47998046875</td>\n",
       "      <td>6126.41015625</td>\n",
       "      <td>5302.7900390625</td>\n",
       "      <td>5942.35986328125</td>\n",
       "    </tr>\n",
       "    <tr>\n",
       "      <th>4</th>\n",
       "      <td>2001-03-01</td>\n",
       "      <td>5454.18994140625</td>\n",
       "      <td>5728.52001953125</td>\n",
       "      <td>4804.39990234375</td>\n",
       "      <td>5334.22998046875</td>\n",
       "    </tr>\n",
       "  </tbody>\n",
       "</table>\n",
       "</div>"
      ],
      "text/plain": [
       "        Price             Close              High               Low  \\\n",
       "0  2000-03-01    6426.259765625  6591.43994140625  5752.43994140625   \n",
       "1  2000-06-01    6625.419921875     6780.66015625  6354.93017578125   \n",
       "2  2000-09-01    5928.080078125  6944.77001953125  5828.14013671875   \n",
       "3  2000-12-01  5367.47998046875     6126.41015625   5302.7900390625   \n",
       "4  2001-03-01  5454.18994140625  5728.52001953125  4804.39990234375   \n",
       "\n",
       "               Open  \n",
       "0   6272.1298828125  \n",
       "1   6428.4599609375  \n",
       "2  6648.64013671875  \n",
       "3  5942.35986328125  \n",
       "4  5334.22998046875  "
      ]
     },
     "execution_count": 845,
     "metadata": {},
     "output_type": "execute_result"
    }
   ],
   "source": [
    "# Supprimer la colonne Volume\n",
    "cac40.drop(columns='Volume', inplace=True)\n",
    "\n",
    "#Supprimer les deux premières colonnes inutiles\n",
    "cac40 = cac40.iloc[3:].reset_index(drop=True)\n",
    "\n",
    "# Afficher les premières lignes du après suppression\n",
    "cac40.head()"
   ]
  },
  {
   "cell_type": "code",
   "execution_count": 846,
   "id": "af26aa77",
   "metadata": {},
   "outputs": [],
   "source": [
    "#Changement de nom de la colonne Price en date\n",
    "cac40.rename(columns={'Price': 'trimestre'}, inplace=True)"
   ]
  },
  {
   "cell_type": "code",
   "execution_count": 847,
   "id": "bfa21918",
   "metadata": {},
   "outputs": [
    {
     "name": "stdout",
     "output_type": "stream",
     "text": [
      "Empty DataFrame\n",
      "Columns: [trimestre, Close, High, Low, Open]\n",
      "Index: []\n"
     ]
    }
   ],
   "source": [
    "#Vérification des NaN \n",
    "print(cac40[cac40.isna().any(axis=1)])"
   ]
  },
  {
   "cell_type": "code",
   "execution_count": 848,
   "id": "2fccd5de",
   "metadata": {},
   "outputs": [
    {
     "data": {
      "text/html": [
       "<div>\n",
       "<style scoped>\n",
       "    .dataframe tbody tr th:only-of-type {\n",
       "        vertical-align: middle;\n",
       "    }\n",
       "\n",
       "    .dataframe tbody tr th {\n",
       "        vertical-align: top;\n",
       "    }\n",
       "\n",
       "    .dataframe thead th {\n",
       "        text-align: right;\n",
       "    }\n",
       "</style>\n",
       "<table border=\"1\" class=\"dataframe\">\n",
       "  <thead>\n",
       "    <tr style=\"text-align: right;\">\n",
       "      <th></th>\n",
       "      <th>trimestre</th>\n",
       "      <th>Close</th>\n",
       "      <th>High</th>\n",
       "      <th>Low</th>\n",
       "      <th>Open</th>\n",
       "    </tr>\n",
       "  </thead>\n",
       "  <tbody>\n",
       "    <tr>\n",
       "      <th>0</th>\n",
       "      <td>T1.2000</td>\n",
       "      <td>6426.259765625</td>\n",
       "      <td>6591.43994140625</td>\n",
       "      <td>5752.43994140625</td>\n",
       "      <td>6272.1298828125</td>\n",
       "    </tr>\n",
       "    <tr>\n",
       "      <th>1</th>\n",
       "      <td>T2.2000</td>\n",
       "      <td>6625.419921875</td>\n",
       "      <td>6780.66015625</td>\n",
       "      <td>6354.93017578125</td>\n",
       "      <td>6428.4599609375</td>\n",
       "    </tr>\n",
       "    <tr>\n",
       "      <th>2</th>\n",
       "      <td>T3.2000</td>\n",
       "      <td>5928.080078125</td>\n",
       "      <td>6944.77001953125</td>\n",
       "      <td>5828.14013671875</td>\n",
       "      <td>6648.64013671875</td>\n",
       "    </tr>\n",
       "    <tr>\n",
       "      <th>3</th>\n",
       "      <td>T4.2000</td>\n",
       "      <td>5367.47998046875</td>\n",
       "      <td>6126.41015625</td>\n",
       "      <td>5302.7900390625</td>\n",
       "      <td>5942.35986328125</td>\n",
       "    </tr>\n",
       "    <tr>\n",
       "      <th>4</th>\n",
       "      <td>T1.2001</td>\n",
       "      <td>5454.18994140625</td>\n",
       "      <td>5728.52001953125</td>\n",
       "      <td>4804.39990234375</td>\n",
       "      <td>5334.22998046875</td>\n",
       "    </tr>\n",
       "  </tbody>\n",
       "</table>\n",
       "</div>"
      ],
      "text/plain": [
       "  trimestre             Close              High               Low  \\\n",
       "0   T1.2000    6426.259765625  6591.43994140625  5752.43994140625   \n",
       "1   T2.2000    6625.419921875     6780.66015625  6354.93017578125   \n",
       "2   T3.2000    5928.080078125  6944.77001953125  5828.14013671875   \n",
       "3   T4.2000  5367.47998046875     6126.41015625   5302.7900390625   \n",
       "4   T1.2001  5454.18994140625  5728.52001953125  4804.39990234375   \n",
       "\n",
       "               Open  \n",
       "0   6272.1298828125  \n",
       "1   6428.4599609375  \n",
       "2  6648.64013671875  \n",
       "3  5942.35986328125  \n",
       "4  5334.22998046875  "
      ]
     },
     "execution_count": 848,
     "metadata": {},
     "output_type": "execute_result"
    }
   ],
   "source": [
    "#On vérifie que les données de la colonne trimestre soient du format datetime\n",
    "cac40['trimestre'] = pd.to_datetime(cac40['trimestre']) \n",
    "\n",
    "#On utilise la fonction définie précedemmentpour modifier la colonne trimestre pour que toutes les colonnes soient du même format\n",
    "cac40['trimestre'] = cac40['trimestre'].apply(format_trimestre)\n",
    "\n",
    "#Verification\n",
    "cac40.head()"
   ]
  },
  {
   "cell_type": "markdown",
   "id": "0a3f952e",
   "metadata": {},
   "source": [
    "On veut à présent rassembler toutes les données dans un seul tableau excel indexé par la date en trimestre depuis 2000."
   ]
  },
  {
   "cell_type": "code",
   "execution_count": 849,
   "id": "6a52264f",
   "metadata": {},
   "outputs": [],
   "source": [
    "# Fusionner toutes les données dans un seul DataFrame\n",
    "df = cac40.merge(chomage, on=\"trimestre\").merge(confiance, on=\"trimestre\")\n",
    "df = df.merge(ev_pib, on=\"trimestre\").merge(ipc, on=\"trimestre\")\n",
    "\n",
    "# Fonction pour convertir 'T1.2000' -> '2000-01-01', etc.\n",
    "def trimestre_to_date(trimestre):\n",
    "    # Assurer que la chaîne est correctement extraite\n",
    "    year = int(trimestre.split('.')[1])  # Extraire l'année après le point\n",
    "    quarter = int(trimestre[1])  # Extraire le trimestre (T1, T2, T3, T4)\n",
    "    \n",
    "    # Déterminer le premier jour du trimestre en fonction du trimestre\n",
    "    if quarter == 1:\n",
    "        return pd.Timestamp(f'{year}-01-01')  # Premier trimestre (janvier)\n",
    "    elif quarter == 2:\n",
    "        return pd.Timestamp(f'{year}-04-01')  # Deuxième trimestre (avril)\n",
    "    elif quarter == 3:\n",
    "        return pd.Timestamp(f'{year}-07-01')  # Troisième trimestre (juillet)\n",
    "    elif quarter == 4:\n",
    "        return pd.Timestamp(f'{year}-10-01')  # Quatrième trimestre (octobre)\n",
    "\n",
    "# Appliquer la fonction pour convertir 'T1.2000' -> '2000-01-01', etc.\n",
    "df['date'] = df['trimestre'].apply(trimestre_to_date)\n",
    "\n",
    "# Définir 'date' comme index sans modifier le format de 'trimestre'\n",
    "df.set_index('trimestre', inplace=True)"
   ]
  },
  {
   "cell_type": "code",
   "execution_count": 850,
   "id": "eaba7ef4",
   "metadata": {},
   "outputs": [
    {
     "data": {
      "text/html": [
       "<div>\n",
       "<style scoped>\n",
       "    .dataframe tbody tr th:only-of-type {\n",
       "        vertical-align: middle;\n",
       "    }\n",
       "\n",
       "    .dataframe tbody tr th {\n",
       "        vertical-align: top;\n",
       "    }\n",
       "\n",
       "    .dataframe thead th {\n",
       "        text-align: right;\n",
       "    }\n",
       "</style>\n",
       "<table border=\"1\" class=\"dataframe\">\n",
       "  <thead>\n",
       "    <tr style=\"text-align: right;\">\n",
       "      <th></th>\n",
       "      <th>Close</th>\n",
       "      <th>High</th>\n",
       "      <th>Low</th>\n",
       "      <th>Open</th>\n",
       "      <th>taux_chomage</th>\n",
       "      <th>indic_confiance</th>\n",
       "      <th>ev_pib</th>\n",
       "      <th>ev_importations</th>\n",
       "      <th>ev_conso_menages</th>\n",
       "      <th>ev_conso_apu</th>\n",
       "      <th>ev_fbcf</th>\n",
       "      <th>ev_exportations</th>\n",
       "      <th>ev_conso</th>\n",
       "      <th>ipc_menage</th>\n",
       "      <th>date</th>\n",
       "    </tr>\n",
       "    <tr>\n",
       "      <th>trimestre</th>\n",
       "      <th></th>\n",
       "      <th></th>\n",
       "      <th></th>\n",
       "      <th></th>\n",
       "      <th></th>\n",
       "      <th></th>\n",
       "      <th></th>\n",
       "      <th></th>\n",
       "      <th></th>\n",
       "      <th></th>\n",
       "      <th></th>\n",
       "      <th></th>\n",
       "      <th></th>\n",
       "      <th></th>\n",
       "      <th></th>\n",
       "    </tr>\n",
       "  </thead>\n",
       "  <tbody>\n",
       "    <tr>\n",
       "      <th>T1.2000</th>\n",
       "      <td>6426.259765625</td>\n",
       "      <td>6591.43994140625</td>\n",
       "      <td>5752.43994140625</td>\n",
       "      <td>6272.1298828125</td>\n",
       "      <td>9.1</td>\n",
       "      <td>119.375624</td>\n",
       "      <td>1.011252</td>\n",
       "      <td>4.716928</td>\n",
       "      <td>1.256031</td>\n",
       "      <td>0.606497</td>\n",
       "      <td>2.244349</td>\n",
       "      <td>2.839274</td>\n",
       "      <td>1.862528</td>\n",
       "      <td>238.08</td>\n",
       "      <td>2000-01-01</td>\n",
       "    </tr>\n",
       "    <tr>\n",
       "      <th>T2.2000</th>\n",
       "      <td>6625.419921875</td>\n",
       "      <td>6780.66015625</td>\n",
       "      <td>6354.93017578125</td>\n",
       "      <td>6428.4599609375</td>\n",
       "      <td>8.7</td>\n",
       "      <td>122.715558</td>\n",
       "      <td>1.06425</td>\n",
       "      <td>4.20051</td>\n",
       "      <td>0.772804</td>\n",
       "      <td>0.464126</td>\n",
       "      <td>0.921508</td>\n",
       "      <td>4.963057</td>\n",
       "      <td>1.23693</td>\n",
       "      <td>239.44</td>\n",
       "      <td>2000-04-01</td>\n",
       "    </tr>\n",
       "    <tr>\n",
       "      <th>T3.2000</th>\n",
       "      <td>5928.080078125</td>\n",
       "      <td>6944.77001953125</td>\n",
       "      <td>5828.14013671875</td>\n",
       "      <td>6648.64013671875</td>\n",
       "      <td>8.4</td>\n",
       "      <td>121.334655</td>\n",
       "      <td>0.780148</td>\n",
       "      <td>3.529602</td>\n",
       "      <td>0.444674</td>\n",
       "      <td>0.34475</td>\n",
       "      <td>2.53796</td>\n",
       "      <td>1.41363</td>\n",
       "      <td>0.789424</td>\n",
       "      <td>240.32</td>\n",
       "      <td>2000-07-01</td>\n",
       "    </tr>\n",
       "    <tr>\n",
       "      <th>T4.2000</th>\n",
       "      <td>5367.47998046875</td>\n",
       "      <td>6126.41015625</td>\n",
       "      <td>5302.7900390625</td>\n",
       "      <td>5942.35986328125</td>\n",
       "      <td>8</td>\n",
       "      <td>121.035423</td>\n",
       "      <td>0.563163</td>\n",
       "      <td>2.2326</td>\n",
       "      <td>0.132284</td>\n",
       "      <td>0.155773</td>\n",
       "      <td>0.073162</td>\n",
       "      <td>2.984615</td>\n",
       "      <td>0.288057</td>\n",
       "      <td>241.31</td>\n",
       "      <td>2000-10-01</td>\n",
       "    </tr>\n",
       "    <tr>\n",
       "      <th>T1.2001</th>\n",
       "      <td>5454.18994140625</td>\n",
       "      <td>5728.52001953125</td>\n",
       "      <td>4804.39990234375</td>\n",
       "      <td>5334.22998046875</td>\n",
       "      <td>7.8</td>\n",
       "      <td>124.096635</td>\n",
       "      <td>0.57489</td>\n",
       "      <td>-1.295035</td>\n",
       "      <td>1.139891</td>\n",
       "      <td>0.125288</td>\n",
       "      <td>0.672418</td>\n",
       "      <td>0.408129</td>\n",
       "      <td>1.265179</td>\n",
       "      <td>241.19</td>\n",
       "      <td>2001-01-01</td>\n",
       "    </tr>\n",
       "  </tbody>\n",
       "</table>\n",
       "</div>"
      ],
      "text/plain": [
       "                      Close              High               Low  \\\n",
       "trimestre                                                         \n",
       "T1.2000      6426.259765625  6591.43994140625  5752.43994140625   \n",
       "T2.2000      6625.419921875     6780.66015625  6354.93017578125   \n",
       "T3.2000      5928.080078125  6944.77001953125  5828.14013671875   \n",
       "T4.2000    5367.47998046875     6126.41015625   5302.7900390625   \n",
       "T1.2001    5454.18994140625  5728.52001953125  4804.39990234375   \n",
       "\n",
       "                       Open taux_chomage indic_confiance    ev_pib  \\\n",
       "trimestre                                                            \n",
       "T1.2000     6272.1298828125          9.1      119.375624  1.011252   \n",
       "T2.2000     6428.4599609375          8.7      122.715558   1.06425   \n",
       "T3.2000    6648.64013671875          8.4      121.334655  0.780148   \n",
       "T4.2000    5942.35986328125            8      121.035423  0.563163   \n",
       "T1.2001    5334.22998046875          7.8      124.096635   0.57489   \n",
       "\n",
       "          ev_importations ev_conso_menages ev_conso_apu   ev_fbcf  \\\n",
       "trimestre                                                           \n",
       "T1.2000          4.716928         1.256031     0.606497  2.244349   \n",
       "T2.2000           4.20051         0.772804     0.464126  0.921508   \n",
       "T3.2000          3.529602         0.444674      0.34475   2.53796   \n",
       "T4.2000            2.2326         0.132284     0.155773  0.073162   \n",
       "T1.2001         -1.295035         1.139891     0.125288  0.672418   \n",
       "\n",
       "          ev_exportations  ev_conso ipc_menage       date  \n",
       "trimestre                                                  \n",
       "T1.2000          2.839274  1.862528     238.08 2000-01-01  \n",
       "T2.2000          4.963057   1.23693     239.44 2000-04-01  \n",
       "T3.2000           1.41363  0.789424     240.32 2000-07-01  \n",
       "T4.2000          2.984615  0.288057     241.31 2000-10-01  \n",
       "T1.2001          0.408129  1.265179     241.19 2001-01-01  "
      ]
     },
     "execution_count": 850,
     "metadata": {},
     "output_type": "execute_result"
    }
   ],
   "source": [
    "df.head()"
   ]
  },
  {
   "cell_type": "markdown",
   "id": "fe5a9136",
   "metadata": {},
   "source": [
    "Regression linéaire : prédiction du cac 40 à partir d'indicateurs macroéconomiques"
   ]
  },
  {
   "cell_type": "code",
   "execution_count": 851,
   "id": "5811f245",
   "metadata": {},
   "outputs": [],
   "source": [
    "from sklearn.linear_model import LinearRegression\n",
    "from sklearn.model_selection import train_test_split\n",
    "from sklearn.metrics import mean_squared_error, r2_score"
   ]
  },
  {
   "cell_type": "markdown",
   "id": "d9fadec5",
   "metadata": {},
   "source": [
    "Première tentative de regression linéaire "
   ]
  },
  {
   "cell_type": "markdown",
   "id": "f6b62fb4",
   "metadata": {},
   "source": [
    "Sélection des variables dépendantes et indépendantes :"
   ]
  },
  {
   "cell_type": "code",
   "execution_count": 852,
   "id": "9e3679c2",
   "metadata": {},
   "outputs": [
    {
     "name": "stdout",
     "output_type": "stream",
     "text": [
      "Requirement already satisfied: scikit-learn in /opt/conda/lib/python3.12/site-packages (1.6.0)\n",
      "Requirement already satisfied: numpy>=1.19.5 in /opt/conda/lib/python3.12/site-packages (from scikit-learn) (2.2.0)\n",
      "Requirement already satisfied: scipy>=1.6.0 in /opt/conda/lib/python3.12/site-packages (from scikit-learn) (1.14.1)\n",
      "Requirement already satisfied: joblib>=1.2.0 in /opt/conda/lib/python3.12/site-packages (from scikit-learn) (1.4.2)\n",
      "Requirement already satisfied: threadpoolctl>=3.1.0 in /opt/conda/lib/python3.12/site-packages (from scikit-learn) (3.5.0)\n",
      "Note: you may need to restart the kernel to use updated packages.\n"
     ]
    }
   ],
   "source": [
    "pip install --upgrade scikit-learn"
   ]
  },
  {
   "cell_type": "code",
   "execution_count": 853,
   "id": "8a7dd311",
   "metadata": {},
   "outputs": [],
   "source": [
    "# Variables indépendantes : toutes les colonnes sauf les valeurs du CAC40 ( 'ev_conso_menages','ev_conso_apu')\n",
    "X = df[['taux_chomage', 'indic_confiance', 'ev_pib', 'ev_importations', \n",
    "         'ev_fbcf', 'ev_exportations', 'ev_conso', 'ipc_menage']]\n",
    "\n",
    "# Variables dépendantes (on cherche celle qui est la plus pertinente)\n",
    "y = df['Close']  # ou  'High', 'Low', 'Open' selon"
   ]
  },
  {
   "cell_type": "code",
   "execution_count": 854,
   "id": "e63ea02a",
   "metadata": {},
   "outputs": [],
   "source": [
    "# On sépare les données en un ensemble d'entraînement et un ensemble de test\n",
    "X_train, X_test, y_train, y_test = train_test_split(X, y, test_size=0.2, random_state=42)"
   ]
  },
  {
   "cell_type": "code",
   "execution_count": 855,
   "id": "6c1b10c3",
   "metadata": {},
   "outputs": [
    {
     "name": "stdout",
     "output_type": "stream",
     "text": [
      "Coefficient : [-377.89091513   60.77607239  492.55871939  129.06089974  -71.01087667\n",
      "  -77.44556365 -202.19036938   35.24460599]\n",
      "Interception : -7985.3775198031\n"
     ]
    }
   ],
   "source": [
    "# Créer et entraîner le modèle\n",
    "model = LinearRegression()\n",
    "model.fit(X_train, y_train)\n",
    "\n",
    "#Coefficients du model\n",
    "print(\"Coefficient :\", model.coef_)\n",
    "print(\"Interception :\", model.intercept_)\n",
    "\n"
   ]
  },
  {
   "cell_type": "code",
   "execution_count": 856,
   "id": "1df7ddca",
   "metadata": {},
   "outputs": [
    {
     "name": "stdout",
     "output_type": "stream",
     "text": [
      "RMSE: 561958.7238162903\n",
      "R²: 0.7095822145194289\n",
      "R² ajusté: 0.4983692796244682\n"
     ]
    }
   ],
   "source": [
    "# Prédictions\n",
    "y_pred = model.predict(X_test)\n",
    "\n",
    "# Calcul des métriques\n",
    "r2 = r2_score(y_test, y_pred)  # R² classique\n",
    "n = X_test.shape[0]           # Nombre d'observations dans l'ensemble de test\n",
    "p = X_test.shape[1]           # Nombre de variables explicatives\n",
    "\n",
    "# Calcul du R² ajusté\n",
    "r2_adjusted = 1 - ((1 - r2) * (n - 1) / (n - p - 1))\n",
    "\n",
    "# Résultats\n",
    "print(f\"RMSE: {mean_squared_error(y_test, y_pred)}\")\n",
    "print(f\"R²: {r2}\")\n",
    "print(f\"R² ajusté: {r2_adjusted}\")\n"
   ]
  },
  {
   "cell_type": "code",
   "execution_count": 857,
   "id": "27504263",
   "metadata": {},
   "outputs": [
    {
     "data": {
      "image/png": "[encoded data removed]",
      "text/plain": [
       "<Figure size 640x480 with 1 Axes>"
      ]
     },
     "metadata": {},
     "output_type": "display_data"
    }
   ],
   "source": [
    "import matplotlib.pyplot as plt\n",
    "\n",
    "# Affichage des valeurs réelles vs prédites\n",
    "plt.scatter(y_test, y_pred)\n",
    "plt.plot([y_test.min(), y_test.max()], [y_test.min(), y_test.max()], '--', color='red')\n",
    "plt.xlabel('Valeurs réelles : Variables macroéconomiques')\n",
    "plt.ylabel('Valeurs prédites : Cac 40')\n",
    "plt.title('Régression linéaire - Valeurs réelles vs prédites')\n",
    "plt.show()\n"
   ]
  },
  {
   "cell_type": "markdown",
   "id": "68680d39",
   "metadata": {},
   "source": [
    "Regression LASSO "
   ]
  },
  {
   "cell_type": "markdown",
   "id": "cda10d0b",
   "metadata": {},
   "source": [
    "La regression linéaire simple n'a pas donné de résultats satifaisants. On utilise une regression lasso pour éliminer automatiquement les paramètres qui ne sont pas pertinents pour prédire le cac40."
   ]
  },
  {
   "cell_type": "code",
   "execution_count": 858,
   "id": "b3b20546",
   "metadata": {},
   "outputs": [
    {
     "name": "stdout",
     "output_type": "stream",
     "text": [
      "RMSE: 561642.4839973154\n",
      "R²: 0.7097456458605846\n",
      "R² ajusté: 0.498651570122828\n",
      "          Variable  Coefficient\n",
      "0     taux_chomage  -377.787961\n",
      "1  indic_confiance    60.778723\n",
      "2           ev_pib   489.220959\n",
      "3  ev_importations   128.828391\n",
      "4          ev_fbcf   -70.378934\n",
      "5  ev_exportations   -76.810101\n",
      "6         ev_conso  -201.127741\n",
      "7       ipc_menage    35.247080\n"
     ]
    }
   ],
   "source": [
    "from sklearn.model_selection import train_test_split\n",
    "from sklearn.linear_model import Lasso\n",
    "from sklearn.metrics import mean_squared_error, r2_score\n",
    "\n",
    "# Diviser les données en ensembles d'entraînement et de test\n",
    "X_train, X_test, y_train, y_test = train_test_split(X, y, test_size=0.2, random_state=42)\n",
    "\n",
    "# Modèle de régression Lasso avec un paramètre alpha (régularisation)\n",
    "alpha = 0.1  #Ce paramètre conrole la pénalisation\n",
    "lasso = Lasso(alpha=alpha, random_state=42)\n",
    "lasso.fit(X_train, y_train)\n",
    "\n",
    "# Prédictions\n",
    "y_pred = lasso.predict(X_test)\n",
    "\n",
    "# Calcul des métriques\n",
    "r2 = r2_score(y_test, y_pred)  # R² classique\n",
    "n = X_test.shape[0]           # Nombre d'observations\n",
    "p = X_test.shape[1]           # Nombre de variables explicatives\n",
    "\n",
    "# Calcul du R² ajusté\n",
    "r2_adjusted = 1 - ((1 - r2) * (n - 1) / (n - p - 1))\n",
    "\n",
    "# Affichage des résultats\n",
    "print(f\"RMSE: {mean_squared_error(y_test, y_pred)}\")\n",
    "print(f\"R²: {r2}\")\n",
    "print(f\"R² ajusté: {r2_adjusted}\")\n",
    "\n",
    "# Affichage des coefficients Lasso\n",
    "lasso_coefficients = pd.DataFrame({\n",
    "    \"Variable\": X.columns,\n",
    "    \"Coefficient\": lasso.coef_\n",
    "})\n",
    "print(lasso_coefficients[lasso_coefficients[\"Coefficient\"] != 0])  # Variables sélectionnées\n"
   ]
  },
  {
   "cell_type": "markdown",
   "id": "60f812fe",
   "metadata": {},
   "source": [
    "On cherche la valeur alpha optimale (validation croisée) :"
   ]
  },
  {
   "cell_type": "code",
   "execution_count": 859,
   "id": "13a201c5",
   "metadata": {},
   "outputs": [
    {
     "name": "stdout",
     "output_type": "stream",
     "text": [
      "Meilleur alpha : 100\n",
      "Meilleur R² en validation croisée : 0.5809708050400562\n"
     ]
    },
    {
     "name": "stderr",
     "output_type": "stream",
     "text": [
      "/opt/conda/lib/python3.12/site-packages/sklearn/linear_model/_coordinate_descent.py:695: ConvergenceWarning: Objective did not converge. You might want to increase the number of iterations, check the scale of the features or consider increasing regularisation. Duality gap: 3.094e+06, tolerance: 1.005e+04\n",
      "  model = cd_fast.enet_coordinate_descent(\n",
      "/opt/conda/lib/python3.12/site-packages/sklearn/linear_model/_coordinate_descent.py:695: ConvergenceWarning: Objective did not converge. You might want to increase the number of iterations, check the scale of the features or consider increasing regularisation. Duality gap: 8.980e+06, tolerance: 9.460e+03\n",
      "  model = cd_fast.enet_coordinate_descent(\n",
      "/opt/conda/lib/python3.12/site-packages/sklearn/linear_model/_coordinate_descent.py:695: ConvergenceWarning: Objective did not converge. You might want to increase the number of iterations, check the scale of the features or consider increasing regularisation. Duality gap: 1.211e+06, tolerance: 8.322e+03\n",
      "  model = cd_fast.enet_coordinate_descent(\n",
      "/opt/conda/lib/python3.12/site-packages/sklearn/linear_model/_coordinate_descent.py:695: ConvergenceWarning: Objective did not converge. You might want to increase the number of iterations, check the scale of the features or consider increasing regularisation. Duality gap: 1.050e+05, tolerance: 1.005e+04\n",
      "  model = cd_fast.enet_coordinate_descent(\n",
      "/opt/conda/lib/python3.12/site-packages/sklearn/linear_model/_coordinate_descent.py:695: ConvergenceWarning: Objective did not converge. You might want to increase the number of iterations, check the scale of the features or consider increasing regularisation. Duality gap: 1.357e+06, tolerance: 9.460e+03\n",
      "  model = cd_fast.enet_coordinate_descent(\n",
      "/opt/conda/lib/python3.12/site-packages/sklearn/linear_model/_coordinate_descent.py:695: ConvergenceWarning: Objective did not converge. You might want to increase the number of iterations, check the scale of the features or consider increasing regularisation. Duality gap: 2.400e+04, tolerance: 8.322e+03\n",
      "  model = cd_fast.enet_coordinate_descent(\n",
      "/opt/conda/lib/python3.12/site-packages/sklearn/linear_model/_coordinate_descent.py:695: ConvergenceWarning: Objective did not converge. You might want to increase the number of iterations, check the scale of the features or consider increasing regularisation. Duality gap: 2.697e+04, tolerance: 9.460e+03\n",
      "  model = cd_fast.enet_coordinate_descent(\n"
     ]
    }
   ],
   "source": [
    "from sklearn.model_selection import GridSearchCV\n",
    "\n",
    "# Définir une grille de valeurs pour alpha\n",
    "param_grid = {'alpha': [0.001, 0.01, 0.1, 1, 10, 100]}\n",
    "lasso_cv = GridSearchCV(Lasso(random_state=42), param_grid, cv=5, scoring='r2')\n",
    "lasso_cv.fit(X_train, y_train)\n",
    "\n",
    "# Meilleur alpha et R²\n",
    "best_alpha = lasso_cv.best_params_['alpha']\n",
    "print(f\"Meilleur alpha : {best_alpha}\")\n",
    "print(f\"Meilleur R² en validation croisée : {lasso_cv.best_score_}\")\n",
    "\n",
    "# Réentraîner avec le meilleur alpha\n",
    "lasso = Lasso(alpha=best_alpha, random_state=42)\n",
    "lasso.fit(X_train, y_train)\n",
    "y_pred = lasso.predict(X_test)\n"
   ]
  },
  {
   "cell_type": "code",
   "execution_count": 860,
   "id": "69bf22d8",
   "metadata": {},
   "outputs": [
    {
     "name": "stdout",
     "output_type": "stream",
     "text": [
      "taux_chomage       object\n",
      "indic_confiance    object\n",
      "ev_pib             object\n",
      "ev_importations    object\n",
      "ev_fbcf            object\n",
      "ev_exportations    object\n",
      "ev_conso           object\n",
      "ipc_menage         object\n",
      "dtype: object\n"
     ]
    }
   ],
   "source": [
    "print(X.dtypes)\n"
   ]
  },
  {
   "cell_type": "code",
   "execution_count": 861,
   "id": "38503034",
   "metadata": {},
   "outputs": [
    {
     "ename": "TypeError",
     "evalue": "float() argument must be a string or a real number, not 'Timestamp'",
     "output_type": "error",
     "traceback": [
      "\u001b[0;31m---------------------------------------------------------------------------\u001b[0m",
      "\u001b[0;31mTypeError\u001b[0m                                 Traceback (most recent call last)",
      "\u001b[0;32m/tmp/ipykernel_55153/2494222934.py\u001b[0m in \u001b[0;36m?\u001b[0;34m()\u001b[0m\n\u001b[1;32m      7\u001b[0m \u001b[0my\u001b[0m \u001b[0;34m=\u001b[0m \u001b[0mdf\u001b[0m\u001b[0;34m[\u001b[0m\u001b[0;34m\"Close\"\u001b[0m\u001b[0;34m]\u001b[0m\u001b[0;34m\u001b[0m\u001b[0;34m\u001b[0m\u001b[0m\n\u001b[1;32m      8\u001b[0m \u001b[0;34m\u001b[0m\u001b[0m\n\u001b[1;32m      9\u001b[0m \u001b[0;31m# Normalisation des données car elles ont des échelles très différentes\u001b[0m\u001b[0;34m\u001b[0m\u001b[0;34m\u001b[0m\u001b[0m\n\u001b[1;32m     10\u001b[0m \u001b[0mscaler\u001b[0m \u001b[0;34m=\u001b[0m \u001b[0mStandardScaler\u001b[0m\u001b[0;34m(\u001b[0m\u001b[0;34m)\u001b[0m\u001b[0;34m\u001b[0m\u001b[0;34m\u001b[0m\u001b[0m\n\u001b[0;32m---> 11\u001b[0;31m \u001b[0mX_scaled\u001b[0m \u001b[0;34m=\u001b[0m \u001b[0mscaler\u001b[0m\u001b[0;34m.\u001b[0m\u001b[0mfit_transform\u001b[0m\u001b[0;34m(\u001b[0m\u001b[0mX\u001b[0m\u001b[0;34m)\u001b[0m\u001b[0;34m\u001b[0m\u001b[0;34m\u001b[0m\u001b[0m\n\u001b[0m\u001b[1;32m     12\u001b[0m \u001b[0;34m\u001b[0m\u001b[0m\n\u001b[1;32m     13\u001b[0m \u001b[0;31m# Diviser les données en ensembles d'entraînement et de test\u001b[0m\u001b[0;34m\u001b[0m\u001b[0;34m\u001b[0m\u001b[0m\n\u001b[1;32m     14\u001b[0m \u001b[0mX_train\u001b[0m\u001b[0;34m,\u001b[0m \u001b[0mX_test\u001b[0m\u001b[0;34m,\u001b[0m \u001b[0my_train\u001b[0m\u001b[0;34m,\u001b[0m \u001b[0my_test\u001b[0m \u001b[0;34m=\u001b[0m \u001b[0mtrain_test_split\u001b[0m\u001b[0;34m(\u001b[0m\u001b[0mX_scaled\u001b[0m\u001b[0;34m,\u001b[0m \u001b[0my\u001b[0m\u001b[0;34m,\u001b[0m \u001b[0mtest_size\u001b[0m\u001b[0;34m=\u001b[0m\u001b[0;36m0.2\u001b[0m\u001b[0;34m,\u001b[0m \u001b[0mrandom_state\u001b[0m\u001b[0;34m=\u001b[0m\u001b[0;36m42\u001b[0m\u001b[0;34m)\u001b[0m\u001b[0;34m\u001b[0m\u001b[0;34m\u001b[0m\u001b[0m\n",
      "\u001b[0;32m/opt/conda/lib/python3.12/site-packages/sklearn/utils/_set_output.py\u001b[0m in \u001b[0;36m?\u001b[0;34m(self, X, *args, **kwargs)\u001b[0m\n\u001b[1;32m    317\u001b[0m     \u001b[0;34m@\u001b[0m\u001b[0mwraps\u001b[0m\u001b[0;34m(\u001b[0m\u001b[0mf\u001b[0m\u001b[0;34m)\u001b[0m\u001b[0;34m\u001b[0m\u001b[0;34m\u001b[0m\u001b[0m\n\u001b[1;32m    318\u001b[0m     \u001b[0;32mdef\u001b[0m \u001b[0mwrapped\u001b[0m\u001b[0;34m(\u001b[0m\u001b[0mself\u001b[0m\u001b[0;34m,\u001b[0m \u001b[0mX\u001b[0m\u001b[0;34m,\u001b[0m \u001b[0;34m*\u001b[0m\u001b[0margs\u001b[0m\u001b[0;34m,\u001b[0m \u001b[0;34m**\u001b[0m\u001b[0mkwargs\u001b[0m\u001b[0;34m)\u001b[0m\u001b[0;34m:\u001b[0m\u001b[0;34m\u001b[0m\u001b[0;34m\u001b[0m\u001b[0m\n\u001b[0;32m--> 319\u001b[0;31m         \u001b[0mdata_to_wrap\u001b[0m \u001b[0;34m=\u001b[0m \u001b[0mf\u001b[0m\u001b[0;34m(\u001b[0m\u001b[0mself\u001b[0m\u001b[0;34m,\u001b[0m \u001b[0mX\u001b[0m\u001b[0;34m,\u001b[0m \u001b[0;34m*\u001b[0m\u001b[0margs\u001b[0m\u001b[0;34m,\u001b[0m \u001b[0;34m**\u001b[0m\u001b[0mkwargs\u001b[0m\u001b[0;34m)\u001b[0m\u001b[0;34m\u001b[0m\u001b[0;34m\u001b[0m\u001b[0m\n\u001b[0m\u001b[1;32m    320\u001b[0m         \u001b[0;32mif\u001b[0m \u001b[0misinstance\u001b[0m\u001b[0;34m(\u001b[0m\u001b[0mdata_to_wrap\u001b[0m\u001b[0;34m,\u001b[0m \u001b[0mtuple\u001b[0m\u001b[0;34m)\u001b[0m\u001b[0;34m:\u001b[0m\u001b[0;34m\u001b[0m\u001b[0;34m\u001b[0m\u001b[0m\n\u001b[1;32m    321\u001b[0m             \u001b[0;31m# only wrap the first output for cross decomposition\u001b[0m\u001b[0;34m\u001b[0m\u001b[0;34m\u001b[0m\u001b[0m\n\u001b[1;32m    322\u001b[0m             return_tuple = (\n",
      "\u001b[0;32m/opt/conda/lib/python3.12/site-packages/sklearn/base.py\u001b[0m in \u001b[0;36m?\u001b[0;34m(self, X, y, **fit_params)\u001b[0m\n\u001b[1;32m    914\u001b[0m                 \u001b[0;34m)\u001b[0m\u001b[0;34m\u001b[0m\u001b[0;34m\u001b[0m\u001b[0m\n\u001b[1;32m    915\u001b[0m \u001b[0;34m\u001b[0m\u001b[0m\n\u001b[1;32m    916\u001b[0m         \u001b[0;32mif\u001b[0m \u001b[0my\u001b[0m \u001b[0;32mis\u001b[0m \u001b[0;32mNone\u001b[0m\u001b[0;34m:\u001b[0m\u001b[0;34m\u001b[0m\u001b[0;34m\u001b[0m\u001b[0m\n\u001b[1;32m    917\u001b[0m             \u001b[0;31m# fit method of arity 1 (unsupervised transformation)\u001b[0m\u001b[0;34m\u001b[0m\u001b[0;34m\u001b[0m\u001b[0m\n\u001b[0;32m--> 918\u001b[0;31m             \u001b[0;32mreturn\u001b[0m \u001b[0mself\u001b[0m\u001b[0;34m.\u001b[0m\u001b[0mfit\u001b[0m\u001b[0;34m(\u001b[0m\u001b[0mX\u001b[0m\u001b[0;34m,\u001b[0m \u001b[0;34m**\u001b[0m\u001b[0mfit_params\u001b[0m\u001b[0;34m)\u001b[0m\u001b[0;34m.\u001b[0m\u001b[0mtransform\u001b[0m\u001b[0;34m(\u001b[0m\u001b[0mX\u001b[0m\u001b[0;34m)\u001b[0m\u001b[0;34m\u001b[0m\u001b[0;34m\u001b[0m\u001b[0m\n\u001b[0m\u001b[1;32m    919\u001b[0m         \u001b[0;32melse\u001b[0m\u001b[0;34m:\u001b[0m\u001b[0;34m\u001b[0m\u001b[0;34m\u001b[0m\u001b[0m\n\u001b[1;32m    920\u001b[0m             \u001b[0;31m# fit method of arity 2 (supervised transformation)\u001b[0m\u001b[0;34m\u001b[0m\u001b[0;34m\u001b[0m\u001b[0m\n\u001b[1;32m    921\u001b[0m             \u001b[0;32mreturn\u001b[0m \u001b[0mself\u001b[0m\u001b[0;34m.\u001b[0m\u001b[0mfit\u001b[0m\u001b[0;34m(\u001b[0m\u001b[0mX\u001b[0m\u001b[0;34m,\u001b[0m \u001b[0my\u001b[0m\u001b[0;34m,\u001b[0m \u001b[0;34m**\u001b[0m\u001b[0mfit_params\u001b[0m\u001b[0;34m)\u001b[0m\u001b[0;34m.\u001b[0m\u001b[0mtransform\u001b[0m\u001b[0;34m(\u001b[0m\u001b[0mX\u001b[0m\u001b[0;34m)\u001b[0m\u001b[0;34m\u001b[0m\u001b[0;34m\u001b[0m\u001b[0m\n",
      "\u001b[0;32m/opt/conda/lib/python3.12/site-packages/sklearn/preprocessing/_data.py\u001b[0m in \u001b[0;36m?\u001b[0;34m(self, X, y, sample_weight)\u001b[0m\n\u001b[1;32m    890\u001b[0m             \u001b[0mFitted\u001b[0m \u001b[0mscaler\u001b[0m\u001b[0;34m.\u001b[0m\u001b[0;34m\u001b[0m\u001b[0;34m\u001b[0m\u001b[0m\n\u001b[1;32m    891\u001b[0m         \"\"\"\n\u001b[1;32m    892\u001b[0m         \u001b[0;31m# Reset internal state before fitting\u001b[0m\u001b[0;34m\u001b[0m\u001b[0;34m\u001b[0m\u001b[0m\n\u001b[1;32m    893\u001b[0m         \u001b[0mself\u001b[0m\u001b[0;34m.\u001b[0m\u001b[0m_reset\u001b[0m\u001b[0;34m(\u001b[0m\u001b[0;34m)\u001b[0m\u001b[0;34m\u001b[0m\u001b[0;34m\u001b[0m\u001b[0m\n\u001b[0;32m--> 894\u001b[0;31m         \u001b[0;32mreturn\u001b[0m \u001b[0mself\u001b[0m\u001b[0;34m.\u001b[0m\u001b[0mpartial_fit\u001b[0m\u001b[0;34m(\u001b[0m\u001b[0mX\u001b[0m\u001b[0;34m,\u001b[0m \u001b[0my\u001b[0m\u001b[0;34m,\u001b[0m \u001b[0msample_weight\u001b[0m\u001b[0;34m)\u001b[0m\u001b[0;34m\u001b[0m\u001b[0;34m\u001b[0m\u001b[0m\n\u001b[0m",
      "\u001b[0;32m/opt/conda/lib/python3.12/site-packages/sklearn/base.py\u001b[0m in \u001b[0;36m?\u001b[0;34m(estimator, *args, **kwargs)\u001b[0m\n\u001b[1;32m   1385\u001b[0m                 skip_parameter_validation=(\n\u001b[1;32m   1386\u001b[0m                     \u001b[0mprefer_skip_nested_validation\u001b[0m \u001b[0;32mor\u001b[0m \u001b[0mglobal_skip_validation\u001b[0m\u001b[0;34m\u001b[0m\u001b[0;34m\u001b[0m\u001b[0m\n\u001b[1;32m   1387\u001b[0m                 \u001b[0;34m)\u001b[0m\u001b[0;34m\u001b[0m\u001b[0;34m\u001b[0m\u001b[0m\n\u001b[1;32m   1388\u001b[0m             \u001b[0;34m)\u001b[0m\u001b[0;34m:\u001b[0m\u001b[0;34m\u001b[0m\u001b[0;34m\u001b[0m\u001b[0m\n\u001b[0;32m-> 1389\u001b[0;31m                 \u001b[0;32mreturn\u001b[0m \u001b[0mfit_method\u001b[0m\u001b[0;34m(\u001b[0m\u001b[0mestimator\u001b[0m\u001b[0;34m,\u001b[0m \u001b[0;34m*\u001b[0m\u001b[0margs\u001b[0m\u001b[0;34m,\u001b[0m \u001b[0;34m**\u001b[0m\u001b[0mkwargs\u001b[0m\u001b[0;34m)\u001b[0m\u001b[0;34m\u001b[0m\u001b[0;34m\u001b[0m\u001b[0m\n\u001b[0m",
      "\u001b[0;32m/opt/conda/lib/python3.12/site-packages/sklearn/preprocessing/_data.py\u001b[0m in \u001b[0;36m?\u001b[0;34m(self, X, y, sample_weight)\u001b[0m\n\u001b[1;32m    926\u001b[0m         \u001b[0mself\u001b[0m \u001b[0;34m:\u001b[0m \u001b[0mobject\u001b[0m\u001b[0;34m\u001b[0m\u001b[0;34m\u001b[0m\u001b[0m\n\u001b[1;32m    927\u001b[0m             \u001b[0mFitted\u001b[0m \u001b[0mscaler\u001b[0m\u001b[0;34m.\u001b[0m\u001b[0;34m\u001b[0m\u001b[0;34m\u001b[0m\u001b[0m\n\u001b[1;32m    928\u001b[0m         \"\"\"\n\u001b[1;32m    929\u001b[0m         \u001b[0mfirst_call\u001b[0m \u001b[0;34m=\u001b[0m \u001b[0;32mnot\u001b[0m \u001b[0mhasattr\u001b[0m\u001b[0;34m(\u001b[0m\u001b[0mself\u001b[0m\u001b[0;34m,\u001b[0m \u001b[0;34m\"n_samples_seen_\"\u001b[0m\u001b[0;34m)\u001b[0m\u001b[0;34m\u001b[0m\u001b[0;34m\u001b[0m\u001b[0m\n\u001b[0;32m--> 930\u001b[0;31m         X = validate_data(\n\u001b[0m\u001b[1;32m    931\u001b[0m             \u001b[0mself\u001b[0m\u001b[0;34m,\u001b[0m\u001b[0;34m\u001b[0m\u001b[0;34m\u001b[0m\u001b[0m\n\u001b[1;32m    932\u001b[0m             \u001b[0mX\u001b[0m\u001b[0;34m,\u001b[0m\u001b[0;34m\u001b[0m\u001b[0;34m\u001b[0m\u001b[0m\n\u001b[1;32m    933\u001b[0m             \u001b[0maccept_sparse\u001b[0m\u001b[0;34m=\u001b[0m\u001b[0;34m(\u001b[0m\u001b[0;34m\"csr\"\u001b[0m\u001b[0;34m,\u001b[0m \u001b[0;34m\"csc\"\u001b[0m\u001b[0;34m)\u001b[0m\u001b[0;34m,\u001b[0m\u001b[0;34m\u001b[0m\u001b[0;34m\u001b[0m\u001b[0m\n",
      "\u001b[0;32m/opt/conda/lib/python3.12/site-packages/sklearn/utils/validation.py\u001b[0m in \u001b[0;36m?\u001b[0;34m(_estimator, X, y, reset, validate_separately, skip_check_array, **check_params)\u001b[0m\n\u001b[1;32m   2940\u001b[0m             \u001b[0mout\u001b[0m \u001b[0;34m=\u001b[0m \u001b[0my\u001b[0m\u001b[0;34m\u001b[0m\u001b[0;34m\u001b[0m\u001b[0m\n\u001b[1;32m   2941\u001b[0m         \u001b[0;32melse\u001b[0m\u001b[0;34m:\u001b[0m\u001b[0;34m\u001b[0m\u001b[0;34m\u001b[0m\u001b[0m\n\u001b[1;32m   2942\u001b[0m             \u001b[0mout\u001b[0m \u001b[0;34m=\u001b[0m \u001b[0mX\u001b[0m\u001b[0;34m,\u001b[0m \u001b[0my\u001b[0m\u001b[0;34m\u001b[0m\u001b[0;34m\u001b[0m\u001b[0m\n\u001b[1;32m   2943\u001b[0m     \u001b[0;32melif\u001b[0m \u001b[0;32mnot\u001b[0m \u001b[0mno_val_X\u001b[0m \u001b[0;32mand\u001b[0m \u001b[0mno_val_y\u001b[0m\u001b[0;34m:\u001b[0m\u001b[0;34m\u001b[0m\u001b[0;34m\u001b[0m\u001b[0m\n\u001b[0;32m-> 2944\u001b[0;31m         \u001b[0mout\u001b[0m \u001b[0;34m=\u001b[0m \u001b[0mcheck_array\u001b[0m\u001b[0;34m(\u001b[0m\u001b[0mX\u001b[0m\u001b[0;34m,\u001b[0m \u001b[0minput_name\u001b[0m\u001b[0;34m=\u001b[0m\u001b[0;34m\"X\"\u001b[0m\u001b[0;34m,\u001b[0m \u001b[0;34m**\u001b[0m\u001b[0mcheck_params\u001b[0m\u001b[0;34m)\u001b[0m\u001b[0;34m\u001b[0m\u001b[0;34m\u001b[0m\u001b[0m\n\u001b[0m\u001b[1;32m   2945\u001b[0m     \u001b[0;32melif\u001b[0m \u001b[0mno_val_X\u001b[0m \u001b[0;32mand\u001b[0m \u001b[0;32mnot\u001b[0m \u001b[0mno_val_y\u001b[0m\u001b[0;34m:\u001b[0m\u001b[0;34m\u001b[0m\u001b[0;34m\u001b[0m\u001b[0m\n\u001b[1;32m   2946\u001b[0m         \u001b[0mout\u001b[0m \u001b[0;34m=\u001b[0m \u001b[0m_check_y\u001b[0m\u001b[0;34m(\u001b[0m\u001b[0my\u001b[0m\u001b[0;34m,\u001b[0m \u001b[0;34m**\u001b[0m\u001b[0mcheck_params\u001b[0m\u001b[0;34m)\u001b[0m\u001b[0;34m\u001b[0m\u001b[0;34m\u001b[0m\u001b[0m\n\u001b[1;32m   2947\u001b[0m     \u001b[0;32melse\u001b[0m\u001b[0;34m:\u001b[0m\u001b[0;34m\u001b[0m\u001b[0;34m\u001b[0m\u001b[0m\n",
      "\u001b[0;32m/opt/conda/lib/python3.12/site-packages/sklearn/utils/validation.py\u001b[0m in \u001b[0;36m?\u001b[0;34m(array, accept_sparse, accept_large_sparse, dtype, order, copy, force_writeable, force_all_finite, ensure_all_finite, ensure_non_negative, ensure_2d, allow_nd, ensure_min_samples, ensure_min_features, estimator, input_name)\u001b[0m\n\u001b[1;32m   1052\u001b[0m                         \u001b[0;34m)\u001b[0m\u001b[0;34m\u001b[0m\u001b[0;34m\u001b[0m\u001b[0m\n\u001b[1;32m   1053\u001b[0m                     \u001b[0marray\u001b[0m \u001b[0;34m=\u001b[0m \u001b[0mxp\u001b[0m\u001b[0;34m.\u001b[0m\u001b[0mastype\u001b[0m\u001b[0;34m(\u001b[0m\u001b[0marray\u001b[0m\u001b[0;34m,\u001b[0m \u001b[0mdtype\u001b[0m\u001b[0;34m,\u001b[0m \u001b[0mcopy\u001b[0m\u001b[0;34m=\u001b[0m\u001b[0;32mFalse\u001b[0m\u001b[0;34m)\u001b[0m\u001b[0;34m\u001b[0m\u001b[0;34m\u001b[0m\u001b[0m\n\u001b[1;32m   1054\u001b[0m                 \u001b[0;32melse\u001b[0m\u001b[0;34m:\u001b[0m\u001b[0;34m\u001b[0m\u001b[0;34m\u001b[0m\u001b[0m\n\u001b[1;32m   1055\u001b[0m                     \u001b[0marray\u001b[0m \u001b[0;34m=\u001b[0m \u001b[0m_asarray_with_order\u001b[0m\u001b[0;34m(\u001b[0m\u001b[0marray\u001b[0m\u001b[0;34m,\u001b[0m \u001b[0morder\u001b[0m\u001b[0;34m=\u001b[0m\u001b[0morder\u001b[0m\u001b[0;34m,\u001b[0m \u001b[0mdtype\u001b[0m\u001b[0;34m=\u001b[0m\u001b[0mdtype\u001b[0m\u001b[0;34m,\u001b[0m \u001b[0mxp\u001b[0m\u001b[0;34m=\u001b[0m\u001b[0mxp\u001b[0m\u001b[0;34m)\u001b[0m\u001b[0;34m\u001b[0m\u001b[0;34m\u001b[0m\u001b[0m\n\u001b[0;32m-> 1056\u001b[0;31m             \u001b[0;32mexcept\u001b[0m \u001b[0mComplexWarning\u001b[0m \u001b[0;32mas\u001b[0m \u001b[0mcomplex_warning\u001b[0m\u001b[0;34m:\u001b[0m\u001b[0;34m\u001b[0m\u001b[0;34m\u001b[0m\u001b[0m\n\u001b[0m\u001b[1;32m   1057\u001b[0m                 raise ValueError(\n\u001b[1;32m   1058\u001b[0m                     \u001b[0;34m\"Complex data not supported\\n{}\\n\"\u001b[0m\u001b[0;34m.\u001b[0m\u001b[0mformat\u001b[0m\u001b[0;34m(\u001b[0m\u001b[0marray\u001b[0m\u001b[0;34m)\u001b[0m\u001b[0;34m\u001b[0m\u001b[0;34m\u001b[0m\u001b[0m\n\u001b[1;32m   1059\u001b[0m                 \u001b[0;34m)\u001b[0m \u001b[0;32mfrom\u001b[0m \u001b[0mcomplex_warning\u001b[0m\u001b[0;34m\u001b[0m\u001b[0;34m\u001b[0m\u001b[0m\n",
      "\u001b[0;32m/opt/conda/lib/python3.12/site-packages/sklearn/utils/_array_api.py\u001b[0m in \u001b[0;36m?\u001b[0;34m(array, dtype, order, copy, xp, device)\u001b[0m\n\u001b[1;32m    828\u001b[0m         \u001b[0;31m# Use NumPy API to support order\u001b[0m\u001b[0;34m\u001b[0m\u001b[0;34m\u001b[0m\u001b[0m\n\u001b[1;32m    829\u001b[0m         \u001b[0;32mif\u001b[0m \u001b[0mcopy\u001b[0m \u001b[0;32mis\u001b[0m \u001b[0;32mTrue\u001b[0m\u001b[0;34m:\u001b[0m\u001b[0;34m\u001b[0m\u001b[0;34m\u001b[0m\u001b[0m\n\u001b[1;32m    830\u001b[0m             \u001b[0marray\u001b[0m \u001b[0;34m=\u001b[0m \u001b[0mnumpy\u001b[0m\u001b[0;34m.\u001b[0m\u001b[0marray\u001b[0m\u001b[0;34m(\u001b[0m\u001b[0marray\u001b[0m\u001b[0;34m,\u001b[0m \u001b[0morder\u001b[0m\u001b[0;34m=\u001b[0m\u001b[0morder\u001b[0m\u001b[0;34m,\u001b[0m \u001b[0mdtype\u001b[0m\u001b[0;34m=\u001b[0m\u001b[0mdtype\u001b[0m\u001b[0;34m)\u001b[0m\u001b[0;34m\u001b[0m\u001b[0;34m\u001b[0m\u001b[0m\n\u001b[1;32m    831\u001b[0m         \u001b[0;32melse\u001b[0m\u001b[0;34m:\u001b[0m\u001b[0;34m\u001b[0m\u001b[0;34m\u001b[0m\u001b[0m\n\u001b[0;32m--> 832\u001b[0;31m             \u001b[0marray\u001b[0m \u001b[0;34m=\u001b[0m \u001b[0mnumpy\u001b[0m\u001b[0;34m.\u001b[0m\u001b[0masarray\u001b[0m\u001b[0;34m(\u001b[0m\u001b[0marray\u001b[0m\u001b[0;34m,\u001b[0m \u001b[0morder\u001b[0m\u001b[0;34m=\u001b[0m\u001b[0morder\u001b[0m\u001b[0;34m,\u001b[0m \u001b[0mdtype\u001b[0m\u001b[0;34m=\u001b[0m\u001b[0mdtype\u001b[0m\u001b[0;34m)\u001b[0m\u001b[0;34m\u001b[0m\u001b[0;34m\u001b[0m\u001b[0m\n\u001b[0m\u001b[1;32m    833\u001b[0m \u001b[0;34m\u001b[0m\u001b[0m\n\u001b[1;32m    834\u001b[0m         \u001b[0;31m# At this point array is a NumPy ndarray. We convert it to an array\u001b[0m\u001b[0;34m\u001b[0m\u001b[0;34m\u001b[0m\u001b[0m\n\u001b[1;32m    835\u001b[0m         \u001b[0;31m# container that is consistent with the input's namespace.\u001b[0m\u001b[0;34m\u001b[0m\u001b[0;34m\u001b[0m\u001b[0m\n",
      "\u001b[0;32m/opt/conda/lib/python3.12/site-packages/pandas/core/generic.py\u001b[0m in \u001b[0;36m?\u001b[0;34m(self, dtype, copy)\u001b[0m\n\u001b[1;32m   2149\u001b[0m     def __array__(\n\u001b[1;32m   2150\u001b[0m         \u001b[0mself\u001b[0m\u001b[0;34m,\u001b[0m \u001b[0mdtype\u001b[0m\u001b[0;34m:\u001b[0m \u001b[0mnpt\u001b[0m\u001b[0;34m.\u001b[0m\u001b[0mDTypeLike\u001b[0m \u001b[0;34m|\u001b[0m \u001b[0;32mNone\u001b[0m \u001b[0;34m=\u001b[0m \u001b[0;32mNone\u001b[0m\u001b[0;34m,\u001b[0m \u001b[0mcopy\u001b[0m\u001b[0;34m:\u001b[0m \u001b[0mbool_t\u001b[0m \u001b[0;34m|\u001b[0m \u001b[0;32mNone\u001b[0m \u001b[0;34m=\u001b[0m \u001b[0;32mNone\u001b[0m\u001b[0;34m\u001b[0m\u001b[0;34m\u001b[0m\u001b[0m\n\u001b[1;32m   2151\u001b[0m     \u001b[0;34m)\u001b[0m \u001b[0;34m->\u001b[0m \u001b[0mnp\u001b[0m\u001b[0;34m.\u001b[0m\u001b[0mndarray\u001b[0m\u001b[0;34m:\u001b[0m\u001b[0;34m\u001b[0m\u001b[0;34m\u001b[0m\u001b[0m\n\u001b[1;32m   2152\u001b[0m         \u001b[0mvalues\u001b[0m \u001b[0;34m=\u001b[0m \u001b[0mself\u001b[0m\u001b[0;34m.\u001b[0m\u001b[0m_values\u001b[0m\u001b[0;34m\u001b[0m\u001b[0;34m\u001b[0m\u001b[0m\n\u001b[0;32m-> 2153\u001b[0;31m         \u001b[0marr\u001b[0m \u001b[0;34m=\u001b[0m \u001b[0mnp\u001b[0m\u001b[0;34m.\u001b[0m\u001b[0masarray\u001b[0m\u001b[0;34m(\u001b[0m\u001b[0mvalues\u001b[0m\u001b[0;34m,\u001b[0m \u001b[0mdtype\u001b[0m\u001b[0;34m=\u001b[0m\u001b[0mdtype\u001b[0m\u001b[0;34m)\u001b[0m\u001b[0;34m\u001b[0m\u001b[0;34m\u001b[0m\u001b[0m\n\u001b[0m\u001b[1;32m   2154\u001b[0m         if (\n\u001b[1;32m   2155\u001b[0m             \u001b[0mastype_is_view\u001b[0m\u001b[0;34m(\u001b[0m\u001b[0mvalues\u001b[0m\u001b[0;34m.\u001b[0m\u001b[0mdtype\u001b[0m\u001b[0;34m,\u001b[0m \u001b[0marr\u001b[0m\u001b[0;34m.\u001b[0m\u001b[0mdtype\u001b[0m\u001b[0;34m)\u001b[0m\u001b[0;34m\u001b[0m\u001b[0;34m\u001b[0m\u001b[0m\n\u001b[1;32m   2156\u001b[0m             \u001b[0;32mand\u001b[0m \u001b[0musing_copy_on_write\u001b[0m\u001b[0;34m(\u001b[0m\u001b[0;34m)\u001b[0m\u001b[0;34m\u001b[0m\u001b[0;34m\u001b[0m\u001b[0m\n",
      "\u001b[0;31mTypeError\u001b[0m: float() argument must be a string or a real number, not 'Timestamp'"
     ]
    }
   ],
   "source": [
    "from sklearn.model_selection import train_test_split, GridSearchCV, cross_val_score\n",
    "from sklearn.preprocessing import StandardScaler\n",
    "from sklearn.linear_model import Lasso, ElasticNet\n",
    "from sklearn.metrics import mean_squared_error, r2_score\n",
    "df = df.reset_index(drop=True)\n",
    "X = df.drop(columns=[\"Close\", \"High\", \"Low\", \"Open\", ])\n",
    "y = df[\"Close\"]\n",
    "\n",
    "# Normalisation des données car elles ont des échelles très différentes\n",
    "scaler = StandardScaler()\n",
    "X_scaled = scaler.fit_transform(X)\n",
    "\n",
    "# Diviser les données en ensembles d'entraînement et de test\n",
    "X_train, X_test, y_train, y_test = train_test_split(X_scaled, y, test_size=0.2, random_state=42)\n",
    "\n",
    "# Recherche de l'alpha optimal pour Lasso avec validation croisée\n",
    "param_grid = {'alpha': [0.001, 0.01, 0.1, 1, 10, 100, 200]}\n",
    "lasso_cv = GridSearchCV(Lasso(max_iter=10000, random_state=42), param_grid, cv=5, scoring='r2')\n",
    "lasso_cv.fit(X_train, y_train)\n",
    "\n",
    "# Meilleur alpha\n",
    "best_alpha = lasso_cv.best_params_['alpha']\n",
    "print(f\"Meilleur alpha pour Lasso : {best_alpha}\")\n",
    "print(f\"Meilleur R² en validation croisée : {lasso_cv.best_score_}\")\n",
    "\n",
    "# Entraînement du modèle Lasso avec le meilleur alpha\n",
    "lasso = Lasso(alpha=best_alpha, max_iter=10000, random_state=42)\n",
    "lasso.fit(X_train, y_train)\n",
    "y_pred_lasso = lasso.predict(X_test)\n",
    "\n",
    "# Calcul des métriques pour Lasso\n",
    "r2_lasso = r2_score(y_test, y_pred_lasso)\n",
    "rmse_lasso = mean_squared_error(y_test, y_pred_lasso)\n",
    "n, p = X_test.shape\n",
    "r2_adjusted_lasso = 1 - ((1 - r2_lasso) * (n - 1) / (n - p - 1))\n",
    "\n",
    "print(f\"Lasso - RMSE: {rmse_lasso}\")\n",
    "print(f\"Lasso - R²: {r2_lasso}\")\n",
    "print(f\"Lasso - R² ajusté: {r2_adjusted_lasso}\")\n",
    "\n",
    "# Affichage des coefficients Lasso\n",
    "# Affichage des coefficients Lasso\n",
    "lasso_coefficients = pd.DataFrame({\n",
    "    \"Variable\": X.columns,  # Utiliser les colonnes de X\n",
    "    \"Coefficient\": lasso.coef_\n",
    "})\n",
    "\n",
    "print(\"Variables sélectionnées par Lasso :\")\n",
    "print(lasso_coefficients[lasso_coefficients[\"Coefficient\"] != 0])  # Affiche uniquement les variables sélectionnées\n",
    "\n",
    "\n",
    "# Tester ElasticNet en cas de convergence difficile pour Lasso\n",
    "elastic_net = ElasticNet(alpha=best_alpha, l1_ratio=0.6, max_iter=10000, random_state=42)\n",
    "elastic_net.fit(X_train, y_train)\n",
    "y_pred_enet = elastic_net.predict(X_test)\n",
    "\n",
    "# Calcul des métriques pour ElasticNet\n",
    "r2_enet = r2_score(y_test, y_pred_enet)\n",
    "rmse_enet = mean_squared_error(y_test, y_pred_enet)\n",
    "r2_adjusted_enet = 1 - ((1 - r2_enet) * (n - 1) / (n - p - 1))\n",
    "\n",
    "print(f\"ElasticNet - RMSE: {rmse_enet}\")\n",
    "print(f\"ElasticNet - R²: {r2_enet}\")\n",
    "print(f\"ElasticNet - R² ajusté: {r2_adjusted_enet}\")\n",
    "\n",
    "# Comparaison des modèles\n",
    "print(\"\\nComparaison des performances :\")\n",
    "print(f\"Lasso: R² = {r2_lasso}, R² ajusté = {r2_adjusted_lasso}, RMSE = {rmse_lasso}\")\n",
    "print(f\"ElasticNet: R² = {r2_enet}, R² ajusté = {r2_adjusted_enet}, RMSE = {rmse_enet}\")\n",
    "\n",
    "# Visualisation des prédictions (facultatif)\n",
    "import matplotlib.pyplot as plt\n",
    "\n",
    "plt.figure(figsize=(10, 6))\n",
    "plt.scatter(y_test, y_pred_lasso, alpha=0.7, label=\"Lasso\", color='blue')\n",
    "plt.scatter(y_test, y_pred_enet, alpha=0.7, label=\"ElasticNet\", color='green')\n",
    "plt.plot([y_test.min(), y_test.max()], [y_test.min(), y_test.max()], color='red', linestyle='--')\n",
    "plt.xlabel('Variables macroéconomiques')\n",
    "plt.ylabel('Cac 40')\n",
    "plt.title('Cac 40 vs Variables macroéconomiques')\n",
    "plt.legend()\n",
    "plt.show()\n"
   ]
  },
  {
   "cell_type": "markdown",
   "id": "6ccd2586",
   "metadata": {},
   "source": [
    "Le modèle Lasso explique 71.77% de la variance avec une erreur modérée (RMSE = 546089.8), sélectionnant des variables clés comme le taux de chômage et l'indice de confiance. Il surperforme l'ElasticNet, offrant de meilleures prédictions.\n",
    "Le modèle ElasticNet n'explique que 55.87% de la variance et présente une erreur plus importante (RMSE = 853888.1), avec des problèmes de convergence suggérant des ajustements nécessaires, notamment dans la régularisation ou la normalisation des données."
   ]
  },
  {
   "cell_type": "markdown",
   "id": "17c5c8e4",
   "metadata": {},
   "source": [
    "L'absence de points bleu ou vert nous montrent que les regressions ne prédisent pas bien le cac40 à partir des variables macroéconomiques. De plus, le résultat nous dit qu'il y a un problème de convergence. Nous avons augmenté le nombre maximum d'itérations et avoir standardisé les données, ce problème vient donc du alpha qui est trop élevé. En effet, d'après les résultats, le meilleur alpha pour la regression lasso est 1, or alpha est compris entre 0 et 1 et un alpha trop élevé peut pénaliser la solution optimale, empêchant la regression. "
   ]
  },
  {
   "cell_type": "markdown",
   "id": "c3e4d4c1",
   "metadata": {},
   "source": [
    "Nous allons à présent tester une série temporelle. "
   ]
  },
  {
   "cell_type": "code",
   "execution_count": 865,
   "id": "5b5d28c0",
   "metadata": {},
   "outputs": [
    {
     "ename": "NameError",
     "evalue": "name 'index' is not defined",
     "output_type": "error",
     "traceback": [
      "\u001b[0;31m---------------------------------------------------------------------------\u001b[0m",
      "\u001b[0;31mNameError\u001b[0m                                 Traceback (most recent call last)",
      "Cell \u001b[0;32mIn[865], line 1\u001b[0m\n\u001b[0;32m----> 1\u001b[0m \u001b[38;5;28mprint\u001b[39m(\u001b[43mindex\u001b[49m)\n",
      "\u001b[0;31mNameError\u001b[0m: name 'index' is not defined"
     ]
    }
   ],
   "source": [
    "print(index)"
   ]
  },
  {
   "cell_type": "code",
   "execution_count": 868,
   "id": "a8acfd64",
   "metadata": {},
   "outputs": [
    {
     "ename": "ValueError",
     "evalue": "The indices for endog and exog are not aligned",
     "output_type": "error",
     "traceback": [
      "\u001b[0;31m---------------------------------------------------------------------------\u001b[0m",
      "\u001b[0;31mValueError\u001b[0m                                Traceback (most recent call last)",
      "Cell \u001b[0;32mIn[868], line 21\u001b[0m\n\u001b[1;32m     18\u001b[0m X \u001b[38;5;241m=\u001b[39m sm\u001b[38;5;241m.\u001b[39madd_constant(X)\n\u001b[1;32m     20\u001b[0m \u001b[38;5;66;03m# Réaliser la régression linéaire\u001b[39;00m\n\u001b[0;32m---> 21\u001b[0m model \u001b[38;5;241m=\u001b[39m \u001b[43msm\u001b[49m\u001b[38;5;241;43m.\u001b[39;49m\u001b[43mOLS\u001b[49m\u001b[43m(\u001b[49m\u001b[43my\u001b[49m\u001b[43m,\u001b[49m\u001b[43m \u001b[49m\u001b[43mX\u001b[49m\u001b[43m)\u001b[49m\u001b[38;5;241m.\u001b[39mfit()\n\u001b[1;32m     23\u001b[0m \u001b[38;5;66;03m# Résumé des résultats\u001b[39;00m\n\u001b[1;32m     24\u001b[0m \u001b[38;5;28mprint\u001b[39m(model\u001b[38;5;241m.\u001b[39msummary())\n",
      "File \u001b[0;32m/opt/conda/lib/python3.12/site-packages/statsmodels/regression/linear_model.py:921\u001b[0m, in \u001b[0;36mOLS.__init__\u001b[0;34m(self, endog, exog, missing, hasconst, **kwargs)\u001b[0m\n\u001b[1;32m    918\u001b[0m     msg \u001b[38;5;241m=\u001b[39m (\u001b[38;5;124m\"\u001b[39m\u001b[38;5;124mWeights are not supported in OLS and will be ignored\u001b[39m\u001b[38;5;124m\"\u001b[39m\n\u001b[1;32m    919\u001b[0m            \u001b[38;5;124m\"\u001b[39m\u001b[38;5;124mAn exception will be raised in the next version.\u001b[39m\u001b[38;5;124m\"\u001b[39m)\n\u001b[1;32m    920\u001b[0m     warnings\u001b[38;5;241m.\u001b[39mwarn(msg, ValueWarning)\n\u001b[0;32m--> 921\u001b[0m \u001b[38;5;28;43msuper\u001b[39;49m\u001b[43m(\u001b[49m\u001b[43m)\u001b[49m\u001b[38;5;241;43m.\u001b[39;49m\u001b[38;5;21;43m__init__\u001b[39;49m\u001b[43m(\u001b[49m\u001b[43mendog\u001b[49m\u001b[43m,\u001b[49m\u001b[43m \u001b[49m\u001b[43mexog\u001b[49m\u001b[43m,\u001b[49m\u001b[43m \u001b[49m\u001b[43mmissing\u001b[49m\u001b[38;5;241;43m=\u001b[39;49m\u001b[43mmissing\u001b[49m\u001b[43m,\u001b[49m\n\u001b[1;32m    922\u001b[0m \u001b[43m                          \u001b[49m\u001b[43mhasconst\u001b[49m\u001b[38;5;241;43m=\u001b[39;49m\u001b[43mhasconst\u001b[49m\u001b[43m,\u001b[49m\u001b[43m \u001b[49m\u001b[38;5;241;43m*\u001b[39;49m\u001b[38;5;241;43m*\u001b[39;49m\u001b[43mkwargs\u001b[49m\u001b[43m)\u001b[49m\n\u001b[1;32m    923\u001b[0m \u001b[38;5;28;01mif\u001b[39;00m \u001b[38;5;124m\"\u001b[39m\u001b[38;5;124mweights\u001b[39m\u001b[38;5;124m\"\u001b[39m \u001b[38;5;129;01min\u001b[39;00m \u001b[38;5;28mself\u001b[39m\u001b[38;5;241m.\u001b[39m_init_keys:\n\u001b[1;32m    924\u001b[0m     \u001b[38;5;28mself\u001b[39m\u001b[38;5;241m.\u001b[39m_init_keys\u001b[38;5;241m.\u001b[39mremove(\u001b[38;5;124m\"\u001b[39m\u001b[38;5;124mweights\u001b[39m\u001b[38;5;124m\"\u001b[39m)\n",
      "File \u001b[0;32m/opt/conda/lib/python3.12/site-packages/statsmodels/regression/linear_model.py:746\u001b[0m, in \u001b[0;36mWLS.__init__\u001b[0;34m(self, endog, exog, weights, missing, hasconst, **kwargs)\u001b[0m\n\u001b[1;32m    744\u001b[0m \u001b[38;5;28;01melse\u001b[39;00m:\n\u001b[1;32m    745\u001b[0m     weights \u001b[38;5;241m=\u001b[39m weights\u001b[38;5;241m.\u001b[39msqueeze()\n\u001b[0;32m--> 746\u001b[0m \u001b[38;5;28;43msuper\u001b[39;49m\u001b[43m(\u001b[49m\u001b[43m)\u001b[49m\u001b[38;5;241;43m.\u001b[39;49m\u001b[38;5;21;43m__init__\u001b[39;49m\u001b[43m(\u001b[49m\u001b[43mendog\u001b[49m\u001b[43m,\u001b[49m\u001b[43m \u001b[49m\u001b[43mexog\u001b[49m\u001b[43m,\u001b[49m\u001b[43m \u001b[49m\u001b[43mmissing\u001b[49m\u001b[38;5;241;43m=\u001b[39;49m\u001b[43mmissing\u001b[49m\u001b[43m,\u001b[49m\n\u001b[1;32m    747\u001b[0m \u001b[43m                          \u001b[49m\u001b[43mweights\u001b[49m\u001b[38;5;241;43m=\u001b[39;49m\u001b[43mweights\u001b[49m\u001b[43m,\u001b[49m\u001b[43m \u001b[49m\u001b[43mhasconst\u001b[49m\u001b[38;5;241;43m=\u001b[39;49m\u001b[43mhasconst\u001b[49m\u001b[43m,\u001b[49m\u001b[43m \u001b[49m\u001b[38;5;241;43m*\u001b[39;49m\u001b[38;5;241;43m*\u001b[39;49m\u001b[43mkwargs\u001b[49m\u001b[43m)\u001b[49m\n\u001b[1;32m    748\u001b[0m nobs \u001b[38;5;241m=\u001b[39m \u001b[38;5;28mself\u001b[39m\u001b[38;5;241m.\u001b[39mexog\u001b[38;5;241m.\u001b[39mshape[\u001b[38;5;241m0\u001b[39m]\n\u001b[1;32m    749\u001b[0m weights \u001b[38;5;241m=\u001b[39m \u001b[38;5;28mself\u001b[39m\u001b[38;5;241m.\u001b[39mweights\n",
      "File \u001b[0;32m/opt/conda/lib/python3.12/site-packages/statsmodels/regression/linear_model.py:200\u001b[0m, in \u001b[0;36mRegressionModel.__init__\u001b[0;34m(self, endog, exog, **kwargs)\u001b[0m\n\u001b[1;32m    199\u001b[0m \u001b[38;5;28;01mdef\u001b[39;00m \u001b[38;5;21m__init__\u001b[39m(\u001b[38;5;28mself\u001b[39m, endog, exog, \u001b[38;5;241m*\u001b[39m\u001b[38;5;241m*\u001b[39mkwargs):\n\u001b[0;32m--> 200\u001b[0m     \u001b[38;5;28;43msuper\u001b[39;49m\u001b[43m(\u001b[49m\u001b[43m)\u001b[49m\u001b[38;5;241;43m.\u001b[39;49m\u001b[38;5;21;43m__init__\u001b[39;49m\u001b[43m(\u001b[49m\u001b[43mendog\u001b[49m\u001b[43m,\u001b[49m\u001b[43m \u001b[49m\u001b[43mexog\u001b[49m\u001b[43m,\u001b[49m\u001b[43m \u001b[49m\u001b[38;5;241;43m*\u001b[39;49m\u001b[38;5;241;43m*\u001b[39;49m\u001b[43mkwargs\u001b[49m\u001b[43m)\u001b[49m\n\u001b[1;32m    201\u001b[0m     \u001b[38;5;28mself\u001b[39m\u001b[38;5;241m.\u001b[39mpinv_wexog: Float64Array \u001b[38;5;241m|\u001b[39m \u001b[38;5;28;01mNone\u001b[39;00m \u001b[38;5;241m=\u001b[39m \u001b[38;5;28;01mNone\u001b[39;00m\n\u001b[1;32m    202\u001b[0m     \u001b[38;5;28mself\u001b[39m\u001b[38;5;241m.\u001b[39m_data_attr\u001b[38;5;241m.\u001b[39mextend([\u001b[38;5;124m'\u001b[39m\u001b[38;5;124mpinv_wexog\u001b[39m\u001b[38;5;124m'\u001b[39m, \u001b[38;5;124m'\u001b[39m\u001b[38;5;124mwendog\u001b[39m\u001b[38;5;124m'\u001b[39m, \u001b[38;5;124m'\u001b[39m\u001b[38;5;124mwexog\u001b[39m\u001b[38;5;124m'\u001b[39m, \u001b[38;5;124m'\u001b[39m\u001b[38;5;124mweights\u001b[39m\u001b[38;5;124m'\u001b[39m])\n",
      "File \u001b[0;32m/opt/conda/lib/python3.12/site-packages/statsmodels/base/model.py:270\u001b[0m, in \u001b[0;36mLikelihoodModel.__init__\u001b[0;34m(self, endog, exog, **kwargs)\u001b[0m\n\u001b[1;32m    269\u001b[0m \u001b[38;5;28;01mdef\u001b[39;00m \u001b[38;5;21m__init__\u001b[39m(\u001b[38;5;28mself\u001b[39m, endog, exog\u001b[38;5;241m=\u001b[39m\u001b[38;5;28;01mNone\u001b[39;00m, \u001b[38;5;241m*\u001b[39m\u001b[38;5;241m*\u001b[39mkwargs):\n\u001b[0;32m--> 270\u001b[0m     \u001b[38;5;28;43msuper\u001b[39;49m\u001b[43m(\u001b[49m\u001b[43m)\u001b[49m\u001b[38;5;241;43m.\u001b[39;49m\u001b[38;5;21;43m__init__\u001b[39;49m\u001b[43m(\u001b[49m\u001b[43mendog\u001b[49m\u001b[43m,\u001b[49m\u001b[43m \u001b[49m\u001b[43mexog\u001b[49m\u001b[43m,\u001b[49m\u001b[43m \u001b[49m\u001b[38;5;241;43m*\u001b[39;49m\u001b[38;5;241;43m*\u001b[39;49m\u001b[43mkwargs\u001b[49m\u001b[43m)\u001b[49m\n\u001b[1;32m    271\u001b[0m     \u001b[38;5;28mself\u001b[39m\u001b[38;5;241m.\u001b[39minitialize()\n",
      "File \u001b[0;32m/opt/conda/lib/python3.12/site-packages/statsmodels/base/model.py:95\u001b[0m, in \u001b[0;36mModel.__init__\u001b[0;34m(self, endog, exog, **kwargs)\u001b[0m\n\u001b[1;32m     93\u001b[0m missing \u001b[38;5;241m=\u001b[39m kwargs\u001b[38;5;241m.\u001b[39mpop(\u001b[38;5;124m'\u001b[39m\u001b[38;5;124mmissing\u001b[39m\u001b[38;5;124m'\u001b[39m, \u001b[38;5;124m'\u001b[39m\u001b[38;5;124mnone\u001b[39m\u001b[38;5;124m'\u001b[39m)\n\u001b[1;32m     94\u001b[0m hasconst \u001b[38;5;241m=\u001b[39m kwargs\u001b[38;5;241m.\u001b[39mpop(\u001b[38;5;124m'\u001b[39m\u001b[38;5;124mhasconst\u001b[39m\u001b[38;5;124m'\u001b[39m, \u001b[38;5;28;01mNone\u001b[39;00m)\n\u001b[0;32m---> 95\u001b[0m \u001b[38;5;28mself\u001b[39m\u001b[38;5;241m.\u001b[39mdata \u001b[38;5;241m=\u001b[39m \u001b[38;5;28;43mself\u001b[39;49m\u001b[38;5;241;43m.\u001b[39;49m\u001b[43m_handle_data\u001b[49m\u001b[43m(\u001b[49m\u001b[43mendog\u001b[49m\u001b[43m,\u001b[49m\u001b[43m \u001b[49m\u001b[43mexog\u001b[49m\u001b[43m,\u001b[49m\u001b[43m \u001b[49m\u001b[43mmissing\u001b[49m\u001b[43m,\u001b[49m\u001b[43m \u001b[49m\u001b[43mhasconst\u001b[49m\u001b[43m,\u001b[49m\n\u001b[1;32m     96\u001b[0m \u001b[43m                              \u001b[49m\u001b[38;5;241;43m*\u001b[39;49m\u001b[38;5;241;43m*\u001b[39;49m\u001b[43mkwargs\u001b[49m\u001b[43m)\u001b[49m\n\u001b[1;32m     97\u001b[0m \u001b[38;5;28mself\u001b[39m\u001b[38;5;241m.\u001b[39mk_constant \u001b[38;5;241m=\u001b[39m \u001b[38;5;28mself\u001b[39m\u001b[38;5;241m.\u001b[39mdata\u001b[38;5;241m.\u001b[39mk_constant\n\u001b[1;32m     98\u001b[0m \u001b[38;5;28mself\u001b[39m\u001b[38;5;241m.\u001b[39mexog \u001b[38;5;241m=\u001b[39m \u001b[38;5;28mself\u001b[39m\u001b[38;5;241m.\u001b[39mdata\u001b[38;5;241m.\u001b[39mexog\n",
      "File \u001b[0;32m/opt/conda/lib/python3.12/site-packages/statsmodels/base/model.py:135\u001b[0m, in \u001b[0;36mModel._handle_data\u001b[0;34m(self, endog, exog, missing, hasconst, **kwargs)\u001b[0m\n\u001b[1;32m    134\u001b[0m \u001b[38;5;28;01mdef\u001b[39;00m \u001b[38;5;21m_handle_data\u001b[39m(\u001b[38;5;28mself\u001b[39m, endog, exog, missing, hasconst, \u001b[38;5;241m*\u001b[39m\u001b[38;5;241m*\u001b[39mkwargs):\n\u001b[0;32m--> 135\u001b[0m     data \u001b[38;5;241m=\u001b[39m \u001b[43mhandle_data\u001b[49m\u001b[43m(\u001b[49m\u001b[43mendog\u001b[49m\u001b[43m,\u001b[49m\u001b[43m \u001b[49m\u001b[43mexog\u001b[49m\u001b[43m,\u001b[49m\u001b[43m \u001b[49m\u001b[43mmissing\u001b[49m\u001b[43m,\u001b[49m\u001b[43m \u001b[49m\u001b[43mhasconst\u001b[49m\u001b[43m,\u001b[49m\u001b[43m \u001b[49m\u001b[38;5;241;43m*\u001b[39;49m\u001b[38;5;241;43m*\u001b[39;49m\u001b[43mkwargs\u001b[49m\u001b[43m)\u001b[49m\n\u001b[1;32m    136\u001b[0m     \u001b[38;5;66;03m# kwargs arrays could have changed, easier to just attach here\u001b[39;00m\n\u001b[1;32m    137\u001b[0m     \u001b[38;5;28;01mfor\u001b[39;00m key \u001b[38;5;129;01min\u001b[39;00m kwargs:\n",
      "File \u001b[0;32m/opt/conda/lib/python3.12/site-packages/statsmodels/base/data.py:675\u001b[0m, in \u001b[0;36mhandle_data\u001b[0;34m(endog, exog, missing, hasconst, **kwargs)\u001b[0m\n\u001b[1;32m    672\u001b[0m     exog \u001b[38;5;241m=\u001b[39m np\u001b[38;5;241m.\u001b[39masarray(exog)\n\u001b[1;32m    674\u001b[0m klass \u001b[38;5;241m=\u001b[39m handle_data_class_factory(endog, exog)\n\u001b[0;32m--> 675\u001b[0m \u001b[38;5;28;01mreturn\u001b[39;00m \u001b[43mklass\u001b[49m\u001b[43m(\u001b[49m\u001b[43mendog\u001b[49m\u001b[43m,\u001b[49m\u001b[43m \u001b[49m\u001b[43mexog\u001b[49m\u001b[38;5;241;43m=\u001b[39;49m\u001b[43mexog\u001b[49m\u001b[43m,\u001b[49m\u001b[43m \u001b[49m\u001b[43mmissing\u001b[49m\u001b[38;5;241;43m=\u001b[39;49m\u001b[43mmissing\u001b[49m\u001b[43m,\u001b[49m\u001b[43m \u001b[49m\u001b[43mhasconst\u001b[49m\u001b[38;5;241;43m=\u001b[39;49m\u001b[43mhasconst\u001b[49m\u001b[43m,\u001b[49m\n\u001b[1;32m    676\u001b[0m \u001b[43m             \u001b[49m\u001b[38;5;241;43m*\u001b[39;49m\u001b[38;5;241;43m*\u001b[39;49m\u001b[43mkwargs\u001b[49m\u001b[43m)\u001b[49m\n",
      "File \u001b[0;32m/opt/conda/lib/python3.12/site-packages/statsmodels/base/data.py:89\u001b[0m, in \u001b[0;36mModelData.__init__\u001b[0;34m(self, endog, exog, missing, hasconst, **kwargs)\u001b[0m\n\u001b[1;32m     87\u001b[0m \u001b[38;5;28mself\u001b[39m\u001b[38;5;241m.\u001b[39mk_constant \u001b[38;5;241m=\u001b[39m \u001b[38;5;241m0\u001b[39m\n\u001b[1;32m     88\u001b[0m \u001b[38;5;28mself\u001b[39m\u001b[38;5;241m.\u001b[39m_handle_constant(hasconst)\n\u001b[0;32m---> 89\u001b[0m \u001b[38;5;28;43mself\u001b[39;49m\u001b[38;5;241;43m.\u001b[39;49m\u001b[43m_check_integrity\u001b[49m\u001b[43m(\u001b[49m\u001b[43m)\u001b[49m\n\u001b[1;32m     90\u001b[0m \u001b[38;5;28mself\u001b[39m\u001b[38;5;241m.\u001b[39m_cache \u001b[38;5;241m=\u001b[39m {}\n",
      "File \u001b[0;32m/opt/conda/lib/python3.12/site-packages/statsmodels/base/data.py:533\u001b[0m, in \u001b[0;36mPandasData._check_integrity\u001b[0;34m(self)\u001b[0m\n\u001b[1;32m    529\u001b[0m \u001b[38;5;66;03m# exog can be None and we could be upcasting one or the other\u001b[39;00m\n\u001b[1;32m    530\u001b[0m \u001b[38;5;28;01mif\u001b[39;00m (exog \u001b[38;5;129;01mis\u001b[39;00m \u001b[38;5;129;01mnot\u001b[39;00m \u001b[38;5;28;01mNone\u001b[39;00m \u001b[38;5;129;01mand\u001b[39;00m\n\u001b[1;32m    531\u001b[0m         (\u001b[38;5;28mhasattr\u001b[39m(endog, \u001b[38;5;124m'\u001b[39m\u001b[38;5;124mindex\u001b[39m\u001b[38;5;124m'\u001b[39m) \u001b[38;5;129;01mand\u001b[39;00m \u001b[38;5;28mhasattr\u001b[39m(exog, \u001b[38;5;124m'\u001b[39m\u001b[38;5;124mindex\u001b[39m\u001b[38;5;124m'\u001b[39m)) \u001b[38;5;129;01mand\u001b[39;00m\n\u001b[1;32m    532\u001b[0m         \u001b[38;5;129;01mnot\u001b[39;00m \u001b[38;5;28mself\u001b[39m\u001b[38;5;241m.\u001b[39morig_endog\u001b[38;5;241m.\u001b[39mindex\u001b[38;5;241m.\u001b[39mequals(\u001b[38;5;28mself\u001b[39m\u001b[38;5;241m.\u001b[39morig_exog\u001b[38;5;241m.\u001b[39mindex)):\n\u001b[0;32m--> 533\u001b[0m     \u001b[38;5;28;01mraise\u001b[39;00m \u001b[38;5;167;01mValueError\u001b[39;00m(\u001b[38;5;124m\"\u001b[39m\u001b[38;5;124mThe indices for endog and exog are not aligned\u001b[39m\u001b[38;5;124m\"\u001b[39m)\n\u001b[1;32m    534\u001b[0m \u001b[38;5;28msuper\u001b[39m()\u001b[38;5;241m.\u001b[39m_check_integrity()\n",
      "\u001b[0;31mValueError\u001b[0m: The indices for endog and exog are not aligned"
     ]
    }
   ],
   "source": [
    "import statsmodels.api as sm\n",
    "import pandas as pd\n",
    "\n",
    "# Convertir les colonnes de X et y en type float (si nécessaire)\n",
    "X = df[['taux_chomage', 'indic_confiance', 'ev_pib', 'ev_importations', \n",
    "        'ev_fbcf', 'ev_exportations', 'ev_conso', 'ipc_menage']].apply(pd.to_numeric, errors='coerce')\n",
    "\n",
    "# Convertir l'index 'date' en datetime si ce n'est pas déjà fait\n",
    "df.index = pd.to_datetime(df.index)\n",
    "\n",
    "# Convertir l'index 'date' en nombre (par exemple, nombre de jours depuis la première date)\n",
    "X['date_index'] = (df.index - df.index.min()).days  # Nombre de jours depuis la première date\n",
    "\n",
    "# Définir y (variable cible) et s'assurer qu'elle est aussi numérique\n",
    "y = pd.to_numeric(df['Close'], errors='coerce')\n",
    "\n",
    "# Ajouter une constante pour l'ordonnée à l'origine\n",
    "X = sm.add_constant(X)\n",
    "\n",
    "# Réaliser la régression linéaire\n",
    "model = sm.OLS(y, X).fit()\n",
    "\n",
    "# Résumé des résultats\n",
    "print(model.summary())\n"
   ]
  },
  {
   "cell_type": "code",
   "execution_count": null,
   "id": "f4b9f27d",
   "metadata": {},
   "outputs": [
    {
     "data": {
      "text/plain": [
       "array([['T1.2000', '6426.259765625', '6591.43994140625', ..., 2.83927389,\n",
       "        1.862527630751311, 238.07999999999998],\n",
       "       ['T2.2000', '6625.419921875', '6780.66015625', ..., 4.96305748,\n",
       "        1.23692988648799, 239.44],\n",
       "       ['T3.2000', '5928.080078125', '6944.77001953125', ..., 1.41363016,\n",
       "        0.7894241507999651, 240.32],\n",
       "       ...,\n",
       "       ['T1.2024', '7992.8701171875', '8259.1904296875', ..., 0.59747425,\n",
       "        0.782907877885613, 356.87],\n",
       "       ['T2.2024', '7630.9501953125', '8072.31005859375', ...,\n",
       "        0.53876965, 0.46000951042319704, 360.38],\n",
       "       ['T3.2024', '7235.10986328125', '7804.64013671875', ...,\n",
       "        -0.47073213, 1.028878554834666, 361.04]],\n",
       "      shape=(99, 15), dtype=object)"
      ]
     },
     "execution_count": 565,
     "metadata": {},
     "output_type": "execute_result"
    }
   ],
   "source": [
    "np.asarray(df)"
   ]
  },
  {
   "cell_type": "code",
   "execution_count": null,
   "id": "d0dcf0cf",
   "metadata": {},
   "outputs": [
    {
     "name": "stdout",
     "output_type": "stream",
     "text": [
      "ARIMA - RMSE: 1089.6990724685918\n",
      "ARIMA - R²: -0.38179653210324505\n"
     ]
    },
    {
     "data": {
      "image/png": "[encoded data removed]",
      "text/plain": [
       "<Figure size 1000x600 with 1 Axes>"
      ]
     },
     "metadata": {},
     "output_type": "display_data"
    }
   ],
   "source": [
    "#Modèle ARIMA\n",
    "from statsmodels.tsa.arima.model import ARIMA\n",
    "from sklearn.model_selection import train_test_split\n",
    "from sklearn.metrics import mean_squared_error\n",
    "\n",
    "y = pd.to_numeric(df['Close'], errors='coerce')  # Coerce les erreurs en NaN si des valeurs non numériques sont présentes\n",
    "X = df[['taux_chomage', 'indic_confiance', 'ev_pib', 'ev_importations', \n",
    "        'ev_fbcf', 'ev_exportations', 'ev_conso', 'ipc_menage']].apply(pd.to_numeric, errors='coerce')\n",
    "\n",
    "\n",
    "# Diviser les données en ensembles d'entraînement et de test (80% entraînement, 20% test)\n",
    "train_size = int(len(y) * 0.8)\n",
    "train, test = y[:train_size], y[train_size:]\n",
    "\n",
    "# Créer et ajuster le modèle ARIMA\n",
    "# Vous pouvez ajuster (p, d, q) selon vos données en fonction des tests ACF et PACF\n",
    "model = ARIMA(train, order=(5, 1, 0))  # p=5, d=1, q=0 (à ajuster)\n",
    "model_fit = model.fit()\n",
    "\n",
    "# Faire des prédictions\n",
    "y_pred = model_fit.forecast(steps=len(test))\n",
    "\n",
    "# Calculer les métriques\n",
    "rmse = np.sqrt(mean_squared_error(test, y_pred))\n",
    "r2 = 1 - (np.sum((test - y_pred) ** 2) / np.sum((test - np.mean(test)) ** 2))\n",
    "\n",
    "print(f'ARIMA - RMSE: {rmse}')\n",
    "print(f'ARIMA - R²: {r2}')\n",
    "\n",
    "# Visualiser les résultats\n",
    "plt.figure(figsize=(10,6))\n",
    "plt.plot(test.index, test, label='Vrai', color='blue')\n",
    "plt.plot(test.index, y_pred, label='Prédiction ARIMA', color='red')\n",
    "plt.title('Prédiction ARIMA')\n",
    "plt.legend()\n",
    "plt.show()\n"
   ]
  }
 ],
 "metadata": {
  "kernelspec": {
   "display_name": "base",
   "language": "python",
   "name": "python3"
  },
  "language_info": {
   "codemirror_mode": {
    "name": "ipython",
    "version": 3
   },
   "file_extension": ".py",
   "mimetype": "text/x-python",
   "name": "python",
   "nbconvert_exporter": "python",
   "pygments_lexer": "ipython3",
   "version": "3.12.7"
  }
 },
 "nbformat": 4,
 "nbformat_minor": 5
}
